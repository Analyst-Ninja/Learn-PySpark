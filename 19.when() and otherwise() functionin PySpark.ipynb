{
 "cells": [
  {
   "cell_type": "code",
   "execution_count": 3,
   "id": "7921e0c3-db94-4b77-806f-a500fb8af573",
   "metadata": {},
   "outputs": [
    {
     "name": "stderr",
     "output_type": "stream",
     "text": [
      "24/06/16 13:53:06 WARN SparkSession: Using an existing Spark session; only runtime SQL configurations will take effect.\n"
     ]
    }
   ],
   "source": [
    "from pyspark.sql import SparkSession \n",
    "from pyspark.sql.functions import col, lit, when\n",
    "\n",
    "spark = SparkSession.Builder().appName('when() & otherwise()').getOrCreate()"
   ]
  },
  {
   "cell_type": "code",
   "execution_count": 7,
   "id": "2bcd4980-41d4-4f0e-90b4-51599657c209",
   "metadata": {},
   "outputs": [
    {
     "name": "stdout",
     "output_type": "stream",
     "text": [
      "+-------+---+------+\n",
      "|   name|age|gender|\n",
      "+-------+---+------+\n",
      "|   Ajay| 23|     M|\n",
      "|  Rohit| 27|     M|\n",
      "|   Hema| 26|     F|\n",
      "|Huedsad| 26|      |\n",
      "+-------+---+------+\n",
      "\n"
     ]
    }
   ],
   "source": [
    "data = [\n",
    "    ('Ajay', 23, 'M'),\n",
    "    ('Rohit', 27, 'M'),\n",
    "    ('Hema', 26, 'F'),\n",
    "    ('Huedsad', 26, ''),\n",
    "]\n",
    "\n",
    "schema = ['name', 'age', 'gender']\n",
    "\n",
    "df = spark.createDataFrame(data, schema)\n",
    "df.show()"
   ]
  },
  {
   "cell_type": "code",
   "execution_count": 13,
   "id": "8b790a52-3d21-465b-a987-743e128325c3",
   "metadata": {},
   "outputs": [
    {
     "name": "stdout",
     "output_type": "stream",
     "text": [
      "+-------+---+------+-------+\n",
      "|   name|age|gender| gender|\n",
      "+-------+---+------+-------+\n",
      "|   Ajay| 23|     M|   Male|\n",
      "|  Rohit| 27|     M|   Male|\n",
      "|   Hema| 26|     F| Female|\n",
      "|Huedsad| 26|      |Unknown|\n",
      "+-------+---+------+-------+\n",
      "\n",
      "root\n",
      " |-- name: string (nullable = true)\n",
      " |-- age: long (nullable = true)\n",
      " |-- gender: string (nullable = true)\n",
      "\n"
     ]
    }
   ],
   "source": [
    "df1 = df.select(\"*\", \\\n",
    "                when(condition=df.gender == 'M', value='Male')\\\n",
    "               .when(condition=df.gender == 'F', value='Female')\\\n",
    "               .otherwise(value='Unknown').alias('gender'))\n",
    "\n",
    "df1.show()\n",
    "df.printSchema()"
   ]
  },
  {
   "cell_type": "code",
   "execution_count": 12,
   "id": "20f7449c-1814-4fc8-b761-6e14f0176132",
   "metadata": {},
   "outputs": [
    {
     "name": "stdout",
     "output_type": "stream",
     "text": [
      "+-------+---+------+--------------+\n",
      "|   name|age|gender|new_gender_col|\n",
      "+-------+---+------+--------------+\n",
      "|   Ajay| 23|     M|          Male|\n",
      "|  Rohit| 27|     M|          Male|\n",
      "|   Hema| 26|     F|        Female|\n",
      "|Huedsad| 26|      |       Unknown|\n",
      "+-------+---+------+--------------+\n",
      "\n"
     ]
    }
   ],
   "source": [
    "df.withColumn('new_gender_col',\\\n",
    "                when(condition=df.gender == 'M', value='Male')\\\n",
    "                .when(condition=df.gender == 'F', value='Female')\\\n",
    "                .otherwise(value='Unknown').alias('gender')).show()"
   ]
  },
  {
   "cell_type": "code",
   "execution_count": 14,
   "id": "1d97b8cf-0bfb-4ca3-bfe8-f500a4eb1ac6",
   "metadata": {},
   "outputs": [],
   "source": [
    "spark.stop()"
   ]
  },
  {
   "cell_type": "code",
   "execution_count": null,
   "id": "b273c505-a2bc-4694-8b81-190ccf84eea2",
   "metadata": {},
   "outputs": [],
   "source": []
  }
 ],
 "metadata": {
  "kernelspec": {
   "display_name": "Python 3 (ipykernel)",
   "language": "python",
   "name": "python3"
  },
  "language_info": {
   "codemirror_mode": {
    "name": "ipython",
    "version": 3
   },
   "file_extension": ".py",
   "mimetype": "text/x-python",
   "name": "python",
   "nbconvert_exporter": "python",
   "pygments_lexer": "ipython3",
   "version": "3.10.12"
  }
 },
 "nbformat": 4,
 "nbformat_minor": 5
}
