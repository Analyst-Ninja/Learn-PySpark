{
 "cells": [
  {
   "cell_type": "code",
   "execution_count": 1,
   "id": "ff62e43c-6eed-44c9-bfcf-22343d20ab29",
   "metadata": {},
   "outputs": [
    {
     "name": "stderr",
     "output_type": "stream",
     "text": [
      "24/06/16 01:34:31 WARN Utils: Your hostname, codebase resolves to a loopback address: 127.0.1.1; using 10.255.255.254 instead (on interface lo)\n",
      "24/06/16 01:34:31 WARN Utils: Set SPARK_LOCAL_IP if you need to bind to another address\n",
      "Setting default log level to \"WARN\".\n",
      "To adjust logging level use sc.setLogLevel(newLevel). For SparkR, use setLogLevel(newLevel).\n",
      "24/06/16 01:34:31 WARN NativeCodeLoader: Unable to load native-hadoop library for your platform... using builtin-java classes where applicable\n"
     ]
    }
   ],
   "source": [
    "from pyspark.sql import SparkSession\n",
    "\n",
    "spark = SparkSession.Builder().appName(\"withColumn\").getOrCreate()"
   ]
  },
  {
   "cell_type": "code",
   "execution_count": 10,
   "id": "c707f595-97bb-4c01-a208-5905156ded32",
   "metadata": {},
   "outputs": [],
   "source": [
    "from pyspark.sql.functions import col, lit"
   ]
  },
  {
   "cell_type": "code",
   "execution_count": 11,
   "id": "edd63090-b7fa-4004-b92c-89cd7c1786e1",
   "metadata": {},
   "outputs": [
    {
     "name": "stdout",
     "output_type": "stream",
     "text": [
      "+---+-----+------+-------+\n",
      "| id| name|salary|country|\n",
      "+---+-----+------+-------+\n",
      "|  1|Rohit|  2000|  India|\n",
      "|  2| Ajay|  4000|  India|\n",
      "+---+-----+------+-------+\n",
      "\n",
      "root\n",
      " |-- id: long (nullable = true)\n",
      " |-- name: string (nullable = true)\n",
      " |-- salary: integer (nullable = true)\n",
      " |-- country: string (nullable = false)\n",
      "\n"
     ]
    }
   ],
   "source": [
    "data = [\n",
    "    (1, 'Rohit', '1000'),\n",
    "    (2, 'Ajay','2000')\n",
    "]\n",
    "\n",
    "columns = ['id', 'name', 'salary']\n",
    "\n",
    "df = spark.createDataFrame(data = data, schema = columns)\n",
    "\n",
    "df2 = df.withColumn(colName='salary', col= df.salary.cast(\"Integer\"))\n",
    "\n",
    "# or -- > Another Way using col function\n",
    "\n",
    "df2 = df.withColumn(colName='salary', col= col('salary').cast(\"Integer\"))\n",
    "\n",
    "df3 = df2.withColumn('salary', col('salary')*2)\n",
    "\n",
    "df4 = df3.withColumn('country', lit('India'))\n",
    "df4.show()\n",
    "df4.printSchema()"
   ]
  },
  {
   "cell_type": "code",
   "execution_count": 12,
   "id": "2a5f6b9a-3ee9-432c-b6d7-8797df5d309f",
   "metadata": {},
   "outputs": [],
   "source": [
    "spark.stop()"
   ]
  },
  {
   "cell_type": "code",
   "execution_count": null,
   "id": "e34ec79c-e804-4b7c-85df-b1613a811670",
   "metadata": {},
   "outputs": [],
   "source": []
  }
 ],
 "metadata": {
  "kernelspec": {
   "display_name": "Python 3 (ipykernel)",
   "language": "python",
   "name": "python3"
  },
  "language_info": {
   "codemirror_mode": {
    "name": "ipython",
    "version": 3
   },
   "file_extension": ".py",
   "mimetype": "text/x-python",
   "name": "python",
   "nbconvert_exporter": "python",
   "pygments_lexer": "ipython3",
   "version": "3.10.12"
  }
 },
 "nbformat": 4,
 "nbformat_minor": 5
}
