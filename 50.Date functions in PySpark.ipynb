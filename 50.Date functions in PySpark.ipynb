{
 "cells": [
  {
   "cell_type": "code",
   "execution_count": 65,
   "id": "afc523e7-7653-4e88-b0fc-24843978dab0",
   "metadata": {},
   "outputs": [],
   "source": [
    "from pyspark.sql import SparkSession\n",
    "from pyspark.sql.functions import current_date, date_format, to_date, lit, date_diff,\\\n",
    "months_between, month, year, add_months, date_add, day, weekofyear, weekday\n",
    "from pyspark.sql.types import *\n",
    "\n",
    "spark = SparkSession.Builder().appName('Date Function in PySpark').getOrCreate()"
   ]
  },
  {
   "cell_type": "code",
   "execution_count": 24,
   "id": "5d6b8198-e894-4442-84fb-f216c17afca0",
   "metadata": {},
   "outputs": [
    {
     "name": "stdout",
     "output_type": "stream",
     "text": [
      "+---+\n",
      "| id|\n",
      "+---+\n",
      "|  0|\n",
      "|  1|\n",
      "|  2|\n",
      "+---+\n",
      "\n"
     ]
    }
   ],
   "source": [
    "df = spark.range(3)\n",
    "df.show()"
   ]
  },
  {
   "cell_type": "markdown",
   "id": "40582de0-4f6b-4f9f-a045-e44d8e638096",
   "metadata": {},
   "source": [
    "#### current_date() --> to get the current system date"
   ]
  },
  {
   "cell_type": "code",
   "execution_count": 25,
   "id": "1962907e-7a2f-42bc-9615-c635c1eeace9",
   "metadata": {},
   "outputs": [
    {
     "name": "stdout",
     "output_type": "stream",
     "text": [
      "+---+----------+\n",
      "| id|todaysDate|\n",
      "+---+----------+\n",
      "|  0|2024-06-18|\n",
      "|  1|2024-06-18|\n",
      "|  2|2024-06-18|\n",
      "+---+----------+\n",
      "\n",
      "root\n",
      " |-- id: long (nullable = false)\n",
      " |-- todaysDate: date (nullable = false)\n",
      "\n"
     ]
    }
   ],
   "source": [
    "df = df.withColumn('todaysDate', current_date())\n",
    "df.show()\n",
    "df.printSchema()"
   ]
  },
  {
   "cell_type": "markdown",
   "id": "09ecdb14-5dec-4185-9044-6259baa2b86b",
   "metadata": {},
   "source": [
    "#### date_format() --> to convert the format of the date to specific format"
   ]
  },
  {
   "cell_type": "code",
   "execution_count": 26,
   "id": "7aaede23-eb0b-4309-a8ab-c76ee0b23bbf",
   "metadata": {},
   "outputs": [
    {
     "name": "stdout",
     "output_type": "stream",
     "text": [
      "+---+----------+-------------+-------------------+\n",
      "| id|todaysDate|newFormatDate|newFormatTodaysDate|\n",
      "+---+----------+-------------+-------------------+\n",
      "|  0|2024-06-18|   08.11.2020|         06.18.2024|\n",
      "|  1|2024-06-18|   08.11.2020|         06.18.2024|\n",
      "|  2|2024-06-18|   08.11.2020|         06.18.2024|\n",
      "+---+----------+-------------+-------------------+\n",
      "\n",
      "root\n",
      " |-- id: long (nullable = false)\n",
      " |-- todaysDate: date (nullable = false)\n",
      " |-- newFormatDate: string (nullable = true)\n",
      " |-- newFormatTodaysDate: string (nullable = false)\n",
      "\n"
     ]
    }
   ],
   "source": [
    "df = df.withColumn('newFormatDate', date_format(lit('2020-08-11'), 'MM.dd.yyyy'))\n",
    "df = df.withColumn('newFormatTodaysDate', date_format(df.todaysDate, 'MM.dd.yyyy'))\n",
    "df.show()\n",
    "df.printSchema()"
   ]
  },
  {
   "cell_type": "markdown",
   "id": "5f8f1adf-b620-46ce-9dee-eca4482495f2",
   "metadata": {},
   "source": [
    "#### to_date() --> to convert the string Date in Date format"
   ]
  },
  {
   "cell_type": "code",
   "execution_count": 34,
   "id": "25bd4e02-6448-43bf-a79d-2365e84298d9",
   "metadata": {},
   "outputs": [
    {
     "name": "stdout",
     "output_type": "stream",
     "text": [
      "+---+----------+-------------+-------------------+----------------+\n",
      "| id|todaysDate|newFormatDate|newFormatTodaysDate|dateInDateFormat|\n",
      "+---+----------+-------------+-------------------+----------------+\n",
      "|  0|2024-06-18|   08.11.2020|         06.18.2024|      2024-06-18|\n",
      "|  1|2024-06-18|   08.11.2020|         06.18.2024|      2024-06-18|\n",
      "|  2|2024-06-18|   08.11.2020|         06.18.2024|      2024-06-18|\n",
      "+---+----------+-------------+-------------------+----------------+\n",
      "\n",
      "root\n",
      " |-- id: long (nullable = false)\n",
      " |-- todaysDate: date (nullable = false)\n",
      " |-- newFormatDate: string (nullable = true)\n",
      " |-- newFormatTodaysDate: string (nullable = false)\n",
      " |-- dateInDateFormat: date (nullable = true)\n",
      "\n"
     ]
    }
   ],
   "source": [
    "df = df.withColumn('dateInDateFormat', to_date(df.newFormatTodaysDate,'MM.dd.yyyy'))\n",
    "df.show()\n",
    "df.printSchema()"
   ]
  },
  {
   "cell_type": "code",
   "execution_count": 44,
   "id": "9c2b6123-6677-4eb1-94e9-7d7cec96b39d",
   "metadata": {},
   "outputs": [
    {
     "name": "stdout",
     "output_type": "stream",
     "text": [
      "+----------+----------+\n",
      "|        d1|        d2|\n",
      "+----------+----------+\n",
      "|2023-09-11|2023-11-26|\n",
      "+----------+----------+\n",
      "\n",
      "root\n",
      " |-- d1: string (nullable = true)\n",
      " |-- d2: string (nullable = true)\n",
      "\n"
     ]
    }
   ],
   "source": [
    "data = [\n",
    "    ('2023-09-11', '2023-11-26')\n",
    "]\n",
    "\n",
    "schema = ['d1', 'd2']\n",
    "\n",
    "df = spark.createDataFrame(data, schema)\n",
    "df.show()\n",
    "df.printSchema()"
   ]
  },
  {
   "cell_type": "code",
   "execution_count": 60,
   "id": "a5b44700-b8f3-4cc7-aae6-13e50268fb4b",
   "metadata": {},
   "outputs": [
    {
     "name": "stdout",
     "output_type": "stream",
     "text": [
      "+----------+----------+--------+\n",
      "|        d1|        d2|dateDiff|\n",
      "+----------+----------+--------+\n",
      "|2023-09-11|2023-11-26|      76|\n",
      "+----------+----------+--------+\n",
      "\n",
      "+----------+----------+-------------+\n",
      "|        d1|        d2|monthsBetween|\n",
      "+----------+----------+-------------+\n",
      "|2023-09-11|2023-11-26|   2.48387097|\n",
      "+----------+----------+-------------+\n",
      "\n",
      "+----------+----------+----------+\n",
      "|        d1|        d2| addMonths|\n",
      "+----------+----------+----------+\n",
      "|2023-09-11|2023-11-26|2024-03-26|\n",
      "+----------+----------+----------+\n",
      "\n",
      "+----------+----------+----------+\n",
      "|        d1|        d2| subMonths|\n",
      "+----------+----------+----------+\n",
      "|2023-09-11|2023-11-26|2023-07-26|\n",
      "+----------+----------+----------+\n",
      "\n",
      "+----------+----------+----------+\n",
      "|        d1|        d2|   addDate|\n",
      "+----------+----------+----------+\n",
      "|2023-09-11|2023-11-26|2023-11-30|\n",
      "+----------+----------+----------+\n",
      "\n",
      "+----------+----------+----------+\n",
      "|        d1|        d2|   subDate|\n",
      "+----------+----------+----------+\n",
      "|2023-09-11|2023-11-26|2023-11-22|\n",
      "+----------+----------+----------+\n",
      "\n",
      "+----------+----------+----+\n",
      "|        d1|        d2|year|\n",
      "+----------+----------+----+\n",
      "|2023-09-11|2023-11-26|2023|\n",
      "+----------+----------+----+\n",
      "\n",
      "+----------+----------+-----+\n",
      "|        d1|        d2|month|\n",
      "+----------+----------+-----+\n",
      "|2023-09-11|2023-11-26|   11|\n",
      "+----------+----------+-----+\n",
      "\n"
     ]
    }
   ],
   "source": [
    "# date_diff()\n",
    "df.withColumn('dateDiff', date_diff(df.d2,df.d1)).show()\n",
    "# months_between()\n",
    "df.withColumn('monthsBetween', months_between(df.d2,df.d1)).show()\n",
    "# add_months()\n",
    "df.withColumn('addMonths', add_months(df.d2, 4)).show()\n",
    "df.withColumn('subMonths', add_months(df.d2, -4)).show()\n",
    "# date_add()\n",
    "df.withColumn('addDate', date_add(df.d2, 4)).show()\n",
    "df.withColumn('subDate', date_add(df.d2, -4)).show()\n",
    "# year()\n",
    "df.withColumn('year', year(df.d2)).show()\n",
    "# month()\n",
    "df.withColumn('month', month(df.d2)).show()\n",
    "# day()\n",
    "df.withColumn('day', day(df.d2)).show()"
   ]
  },
  {
   "cell_type": "code",
   "execution_count": 64,
   "id": "c29c8e29-3a52-46d0-bbe5-af4bbae78d07",
   "metadata": {},
   "outputs": [
    {
     "name": "stdout",
     "output_type": "stream",
     "text": [
      "+----------+----------+---+\n",
      "|        d1|        d2|day|\n",
      "+----------+----------+---+\n",
      "|2023-09-11|2023-11-26| 26|\n",
      "+----------+----------+---+\n",
      "\n",
      "+----------+----------+-------+\n",
      "|        d1|        d2|weekday|\n",
      "+----------+----------+-------+\n",
      "|2023-09-11|2023-11-26|      6|\n",
      "+----------+----------+-------+\n",
      "\n",
      "+----------+----------+----------+\n",
      "|        d1|        d2|weekOfYear|\n",
      "+----------+----------+----------+\n",
      "|2023-09-11|2023-11-26|        47|\n",
      "+----------+----------+----------+\n",
      "\n"
     ]
    }
   ],
   "source": [
    "# day()\n",
    "df.withColumn('day', day(df.d2)).show()\n",
    "# weekady()\n",
    "df.withColumn('weekday', weekday(df.d2)).show()\n",
    "# weekOfYear()\n",
    "df.withColumn('weekOfYear', weekofyear(df.d2)).show()"
   ]
  },
  {
   "cell_type": "code",
   "execution_count": 66,
   "id": "8d788462-e78d-4cd9-86d4-a2c986d4a606",
   "metadata": {},
   "outputs": [],
   "source": [
    "spark.stop()"
   ]
  },
  {
   "cell_type": "code",
   "execution_count": null,
   "id": "6d3fa7c2-9354-42fe-9da7-87ccacf5a078",
   "metadata": {},
   "outputs": [],
   "source": []
  }
 ],
 "metadata": {
  "kernelspec": {
   "display_name": "Python 3 (ipykernel)",
   "language": "python",
   "name": "python3"
  },
  "language_info": {
   "codemirror_mode": {
    "name": "ipython",
    "version": 3
   },
   "file_extension": ".py",
   "mimetype": "text/x-python",
   "name": "python",
   "nbconvert_exporter": "python",
   "pygments_lexer": "ipython3",
   "version": "3.10.12"
  }
 },
 "nbformat": 4,
 "nbformat_minor": 5
}
