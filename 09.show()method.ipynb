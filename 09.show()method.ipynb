{
 "cells": [
  {
   "cell_type": "code",
   "execution_count": 1,
   "id": "1d526c8f-1884-4f9e-a247-b50a630d0b6a",
   "metadata": {},
   "outputs": [
    {
     "name": "stderr",
     "output_type": "stream",
     "text": [
      "24/06/16 01:30:00 WARN Utils: Your hostname, codebase resolves to a loopback address: 127.0.1.1; using 10.255.255.254 instead (on interface lo)\n",
      "24/06/16 01:30:00 WARN Utils: Set SPARK_LOCAL_IP if you need to bind to another address\n",
      "Setting default log level to \"WARN\".\n",
      "To adjust logging level use sc.setLogLevel(newLevel). For SparkR, use setLogLevel(newLevel).\n",
      "24/06/16 01:30:00 WARN NativeCodeLoader: Unable to load native-hadoop library for your platform... using builtin-java classes where applicable\n"
     ]
    }
   ],
   "source": [
    "from pyspark.sql import SparkSession\n",
    "\n",
    "spark = SparkSession.Builder().appName(\".show()\").getOrCreate()"
   ]
  },
  {
   "cell_type": "code",
   "execution_count": 7,
   "id": "e3164b6e-1351-4e58-84e4-f539393806f5",
   "metadata": {},
   "outputs": [
    {
     "name": "stdout",
     "output_type": "stream",
     "text": [
      "-RECORD 0---------------------------------------------------\n",
      " id      | 1                                                \n",
      " content | jdvblkasnvnasl;vl;asvl;asnl;vnl;asnvasvbjksav    \n",
      "-RECORD 1---------------------------------------------------\n",
      " id      | 2                                                \n",
      " content | jdvblkasnvhasvbckbsaljkcbklasclanl;asnvasvbjksav \n",
      "only showing top 2 rows\n",
      "\n"
     ]
    }
   ],
   "source": [
    "data = [\n",
    "    (1,'jdvblkasnvnasl;vl;asvl;asnl;vnl;asnvasvbjksav'),\n",
    "    (2,'jdvblkasnvhasvbckbsaljkcbklasclanl;asnvasvbjksav'),\n",
    "    (3,'jdvblkasnvjsaclkasnasl;vl;asvl;asnl;vnl;asnvasvbjksav'),\n",
    "    (4,'jdvblkasnvnasl'),\n",
    "]\n",
    "\n",
    "schema = ['id', 'content']\n",
    "\n",
    "df = spark.createDataFrame(data = data, schema = schema)\n",
    "df.show(n = 2, truncate = False, vertical = True)"
   ]
  },
  {
   "cell_type": "code",
   "execution_count": 8,
   "id": "141d7326-57e3-4ded-8fdf-5abdf16676fe",
   "metadata": {},
   "outputs": [],
   "source": [
    "spark.stop()"
   ]
  },
  {
   "cell_type": "code",
   "execution_count": null,
   "id": "0238c787-ccec-4327-9465-4bf9c3e5d9fb",
   "metadata": {},
   "outputs": [],
   "source": []
  }
 ],
 "metadata": {
  "kernelspec": {
   "display_name": "Python 3 (ipykernel)",
   "language": "python",
   "name": "python3"
  },
  "language_info": {
   "codemirror_mode": {
    "name": "ipython",
    "version": 3
   },
   "file_extension": ".py",
   "mimetype": "text/x-python",
   "name": "python",
   "nbconvert_exporter": "python",
   "pygments_lexer": "ipython3",
   "version": "3.10.12"
  }
 },
 "nbformat": 4,
 "nbformat_minor": 5
}
