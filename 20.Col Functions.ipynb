{
 "cells": [
  {
   "cell_type": "code",
   "execution_count": 9,
   "id": "bbed5dd0-29a7-43cc-8853-e6f826780eda",
   "metadata": {},
   "outputs": [],
   "source": [
    "from pyspark.sql import SparkSession \n",
    "from pyspark.sql.functions import col, lit, when, desc, asc, cast, like\n",
    "from pyspark.sql.types import *\n",
    "\n",
    "spark = SparkSession.Builder().appName('col functions').getOrCreate()"
   ]
  },
  {
   "cell_type": "code",
   "execution_count": 3,
   "id": "06937c3f-78d0-47f9-ac3f-0e205aff6a82",
   "metadata": {},
   "outputs": [
    {
     "name": "stderr",
     "output_type": "stream",
     "text": [
      "                                                                                \r"
     ]
    },
    {
     "name": "stdout",
     "output_type": "stream",
     "text": [
      "+-------+---+------+\n",
      "|   name|age|salary|\n",
      "+-------+---+------+\n",
      "|   Ajay| 23|  3000|\n",
      "|  Rohit| 27|  2000|\n",
      "|   Hema| 26|  2000|\n",
      "|Huedsad| 26|  1233|\n",
      "+-------+---+------+\n",
      "\n"
     ]
    }
   ],
   "source": [
    "data = [\n",
    "    ('Ajay', 23, 3000),\n",
    "    ('Rohit', 27, 2000),\n",
    "    ('Hema', 26, 2000),\n",
    "    ('Huedsad', 26, 1233),\n",
    "]\n",
    "\n",
    "schema = ['name', 'age', 'salary']\n",
    "\n",
    "df = spark.createDataFrame(data, schema)\n",
    "df.show()"
   ]
  },
  {
   "cell_type": "code",
   "execution_count": 5,
   "id": "34253173-6e61-43fe-9966-c4c09aec95ee",
   "metadata": {},
   "outputs": [
    {
     "name": "stdout",
     "output_type": "stream",
     "text": [
      "+--------+---+----------+\n",
      "|emp_name|age|emp_salary|\n",
      "+--------+---+----------+\n",
      "|    Ajay| 23|      3000|\n",
      "|   Rohit| 27|      2000|\n",
      "|    Hema| 26|      2000|\n",
      "| Huedsad| 26|      1233|\n",
      "+--------+---+----------+\n",
      "\n"
     ]
    }
   ],
   "source": [
    "df.select(df.name.alias('emp_name'), df.age, df.salary.alias('emp_salary')).show()"
   ]
  },
  {
   "cell_type": "code",
   "execution_count": 7,
   "id": "dcc51354-c319-48f0-a5e0-64bc151f186c",
   "metadata": {},
   "outputs": [
    {
     "name": "stdout",
     "output_type": "stream",
     "text": [
      "+-------+---+------+\n",
      "|   name|age|salary|\n",
      "+-------+---+------+\n",
      "|Huedsad| 26|  1233|\n",
      "|   Hema| 26|  2000|\n",
      "|  Rohit| 27|  2000|\n",
      "|   Ajay| 23|  3000|\n",
      "+-------+---+------+\n",
      "\n"
     ]
    }
   ],
   "source": [
    "df.sort(df.salary.asc()).show()"
   ]
  },
  {
   "cell_type": "code",
   "execution_count": 8,
   "id": "ff165742-9d49-453b-a3f1-0fce12a586ec",
   "metadata": {},
   "outputs": [
    {
     "name": "stdout",
     "output_type": "stream",
     "text": [
      "root\n",
      " |-- name: string (nullable = true)\n",
      " |-- age: long (nullable = true)\n",
      " |-- salary: long (nullable = true)\n",
      "\n"
     ]
    }
   ],
   "source": [
    "df.printSchema()"
   ]
  },
  {
   "cell_type": "code",
   "execution_count": 19,
   "id": "875722cb-bca7-4f74-a9e2-2d95e4cacaf1",
   "metadata": {},
   "outputs": [
    {
     "name": "stdout",
     "output_type": "stream",
     "text": [
      "root\n",
      " |-- name: string (nullable = true)\n",
      " |-- age: long (nullable = true)\n",
      " |-- salary: integer (nullable = true)\n",
      "\n"
     ]
    }
   ],
   "source": [
    "df1 = df.select('name', 'age',df.salary.cast(IntegerType()))\n",
    "df1.printSchema()"
   ]
  },
  {
   "cell_type": "code",
   "execution_count": 27,
   "id": "23c94907-b2de-47e5-a5d9-3fc174e0d755",
   "metadata": {},
   "outputs": [
    {
     "name": "stdout",
     "output_type": "stream",
     "text": [
      "+-------+---+------+\n",
      "|   name|age|salary|\n",
      "+-------+---+------+\n",
      "|   Ajay| 23|  3000|\n",
      "|   Hema| 26|  2000|\n",
      "|Huedsad| 26|  1233|\n",
      "+-------+---+------+\n",
      "\n"
     ]
    }
   ],
   "source": [
    "df.filter(df.name.like('%a%')).show()"
   ]
  },
  {
   "cell_type": "code",
   "execution_count": 39,
   "id": "0c0876ed-1e7a-4516-96d0-9bab64b3677c",
   "metadata": {},
   "outputs": [
    {
     "name": "stdout",
     "output_type": "stream",
     "text": [
      "+-----+---+------+\n",
      "| name|age|salary|\n",
      "+-----+---+------+\n",
      "|Rohit| 27|  2000|\n",
      "+-----+---+------+\n",
      "\n",
      "+-----+---+------+\n",
      "| name|age|salary|\n",
      "+-----+---+------+\n",
      "|Rohit| 27|  2000|\n",
      "+-----+---+------+\n",
      "\n",
      "+-----+---+------+\n",
      "| name|age|salary|\n",
      "+-----+---+------+\n",
      "|Rohit| 27|  2000|\n",
      "+-----+---+------+\n",
      "\n",
      "+-----+---+------+\n",
      "| name|age|salary|\n",
      "+-----+---+------+\n",
      "|Rohit| 27|  2000|\n",
      "+-----+---+------+\n",
      "\n"
     ]
    },
    {
     "name": "stderr",
     "output_type": "stream",
     "text": [
      "                                                                                \r"
     ]
    },
    {
     "name": "stdout",
     "output_type": "stream",
     "text": [
      "+----+---+------+\n",
      "|name|age|salary|\n",
      "+----+---+------+\n",
      "+----+---+------+\n",
      "\n",
      "+-----+---+------+\n",
      "| name|age|salary|\n",
      "+-----+---+------+\n",
      "| Ajay| 23|  3000|\n",
      "|Rohit| 27|  2000|\n",
      "+-----+---+------+\n",
      "\n"
     ]
    }
   ],
   "source": [
    "df.filter('name = \"Rohit\"').show()\n",
    "df.filter(df.name == 'Rohit').show()\n",
    "df.where('name = \"Rohit\"').show()\n",
    "df.where(df.name == 'Rohit').show()\n",
    "# And\n",
    "df.where((df.name == 'Rohit') & (df.name == 'Ajay')).show()\n",
    "# OR\n",
    "df.where((df.name == 'Rohit') | (df.name == 'Ajay')).show()"
   ]
  },
  {
   "cell_type": "code",
   "execution_count": 41,
   "id": "52835e62-d622-4db6-9bf3-4d1177a696fc",
   "metadata": {},
   "outputs": [
    {
     "name": "stderr",
     "output_type": "stream",
     "text": [
      "[Stage 134:================================>                       (7 + 5) / 12]\r"
     ]
    },
    {
     "name": "stdout",
     "output_type": "stream",
     "text": [
      "+-------+---+------+\n",
      "|   name|age|salary|\n",
      "+-------+---+------+\n",
      "|   Ajay| 23|  3000|\n",
      "|  Rohit| 27|  2000|\n",
      "|   Hema| 26|  2000|\n",
      "|Huedsad| 26|  1233|\n",
      "+-------+---+------+\n",
      "\n"
     ]
    },
    {
     "name": "stderr",
     "output_type": "stream",
     "text": [
      "                                                                                \r"
     ]
    }
   ],
   "source": [
    "df.distinct().show()"
   ]
  },
  {
   "cell_type": "code",
   "execution_count": 46,
   "id": "7f3e7c66-60dc-48ed-819d-12a32cd71a77",
   "metadata": {},
   "outputs": [
    {
     "name": "stdout",
     "output_type": "stream",
     "text": [
      "+-------+---+------+\n",
      "|   name|age|salary|\n",
      "+-------+---+------+\n",
      "|Huedsad| 26|  1233|\n",
      "|  Rohit| 27|  2000|\n",
      "|   Ajay| 23|  3000|\n",
      "+-------+---+------+\n",
      "\n",
      "CPU times: user 6.13 ms, sys: 2.48 ms, total: 8.61 ms\n",
      "Wall time: 639 ms\n"
     ]
    }
   ],
   "source": [
    "%%time\n",
    "df.dropDuplicates(['salary']).show()"
   ]
  },
  {
   "cell_type": "code",
   "execution_count": 51,
   "id": "49582f4d-7667-4d39-80cd-2c794376686d",
   "metadata": {},
   "outputs": [
    {
     "name": "stdout",
     "output_type": "stream",
     "text": [
      "+-------+---+------+\n",
      "|   name|age|salary|\n",
      "+-------+---+------+\n",
      "|   Ajay| 23|  3000|\n",
      "|   Hema| 26|  2000|\n",
      "|Huedsad| 26|  1233|\n",
      "|  Rohit| 27|  2000|\n",
      "+-------+---+------+\n",
      "\n",
      "+-------+---+------+\n",
      "|   name|age|salary|\n",
      "+-------+---+------+\n",
      "|   Ajay| 23|  3000|\n",
      "|   Hema| 26|  2000|\n",
      "|Huedsad| 26|  1233|\n",
      "|  Rohit| 27|  2000|\n",
      "+-------+---+------+\n",
      "\n",
      "+-------+---+------+\n",
      "|   name|age|salary|\n",
      "+-------+---+------+\n",
      "|  Rohit| 27|  2000|\n",
      "|Huedsad| 26|  1233|\n",
      "|   Hema| 26|  2000|\n",
      "|   Ajay| 23|  3000|\n",
      "+-------+---+------+\n",
      "\n",
      "+-------+---+------+\n",
      "|   name|age|salary|\n",
      "+-------+---+------+\n",
      "|  Rohit| 27|  2000|\n",
      "|Huedsad| 26|  1233|\n",
      "|   Hema| 26|  2000|\n",
      "|   Ajay| 23|  3000|\n",
      "+-------+---+------+\n",
      "\n"
     ]
    }
   ],
   "source": [
    "df.sort('name', 'salary').show()\n",
    "df.orderBy('name', 'salary').show()\n",
    "df.sort(df.name.desc(), df.salary.desc()).show()\n",
    "df.orderBy(df.name.desc(), df.salary.desc()).show()"
   ]
  },
  {
   "cell_type": "code",
   "execution_count": 52,
   "id": "888ec7a6-3bbb-42c0-b86e-8daa3d690d39",
   "metadata": {},
   "outputs": [],
   "source": [
    "spark.stop()"
   ]
  },
  {
   "cell_type": "code",
   "execution_count": null,
   "id": "0e779b92-f1c3-4094-bb42-6c5dff69eb9e",
   "metadata": {},
   "outputs": [],
   "source": []
  }
 ],
 "metadata": {
  "kernelspec": {
   "display_name": "Python 3 (ipykernel)",
   "language": "python",
   "name": "python3"
  },
  "language_info": {
   "codemirror_mode": {
    "name": "ipython",
    "version": 3
   },
   "file_extension": ".py",
   "mimetype": "text/x-python",
   "name": "python",
   "nbconvert_exporter": "python",
   "pygments_lexer": "ipython3",
   "version": "3.10.12"
  }
 },
 "nbformat": 4,
 "nbformat_minor": 5
}
