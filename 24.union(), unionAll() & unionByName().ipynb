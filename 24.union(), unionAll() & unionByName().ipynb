{
 "cells": [
  {
   "cell_type": "code",
   "execution_count": 24,
   "id": "3aad6496-5a8b-48a5-99f4-fb39b500ebce",
   "metadata": {},
   "outputs": [
    {
     "name": "stderr",
     "output_type": "stream",
     "text": [
      "24/06/17 12:28:41 WARN Utils: Service 'SparkUI' could not bind on port 4040. Attempting port 4041.\n"
     ]
    }
   ],
   "source": [
    "from pyspark.sql import SparkSession \n",
    "from pyspark.sql.functions import col, lit, when, desc, asc, cast, like\n",
    "from pyspark.sql.types import *\n",
    "\n",
    "spark = SparkSession.Builder()\\\n",
    ".appName('unoin(), unionAll() & unoinByName() --> allowMissingColumns = True').getOrCreate()"
   ]
  },
  {
   "cell_type": "code",
   "execution_count": 25,
   "id": "22151a33-dc78-485b-987a-c8e2ddd70d50",
   "metadata": {},
   "outputs": [
    {
     "name": "stdout",
     "output_type": "stream",
     "text": [
      "+-------+---+------+\n",
      "|   name|age|salary|\n",
      "+-------+---+------+\n",
      "|   Ajay| 23|  3000|\n",
      "|  Rohit| 27|  2000|\n",
      "|   Hema| 26|  2000|\n",
      "|Huedsad| 26|  1233|\n",
      "+-------+---+------+\n",
      "\n",
      "+-------+---+------+\n",
      "|   name|age|salary|\n",
      "+-------+---+------+\n",
      "|  Ajay1| 23|  3000|\n",
      "| Rohit1| 27|  2000|\n",
      "|   Hema| 26|  2000|\n",
      "|Huedsad| 26|  1233|\n",
      "+-------+---+------+\n",
      "\n"
     ]
    }
   ],
   "source": [
    "data1 = [\n",
    "    ('Ajay', 23, 3000),\n",
    "    ('Rohit', 27, 2000),\n",
    "    ('Hema', 26, 2000),\n",
    "    ('Huedsad', 26, 1233),\n",
    "]\n",
    "data2 = [\n",
    "    ('Ajay1', 23, 3000),\n",
    "    ('Rohit1', 27, 2000),\n",
    "    ('Hema', 26, 2000),\n",
    "    ('Huedsad', 26, 1233),\n",
    "]\n",
    "\n",
    "schema = ['name', 'age', 'salary']\n",
    "\n",
    "df1 = spark.createDataFrame(data1, schema)\n",
    "df2 = spark.createDataFrame(data2, schema)\n",
    "df1.show()\n",
    "df2.show()"
   ]
  },
  {
   "cell_type": "code",
   "execution_count": 7,
   "id": "b6122ea4-cf11-4f57-a452-73968ab78ef4",
   "metadata": {},
   "outputs": [
    {
     "name": "stderr",
     "output_type": "stream",
     "text": [
      "[Stage 12:===================================================>    (22 + 2) / 24]\r"
     ]
    },
    {
     "name": "stdout",
     "output_type": "stream",
     "text": [
      "+-------+---+------+\n",
      "|   name|age|salary|\n",
      "+-------+---+------+\n",
      "|   Ajay| 23|  3000|\n",
      "|  Rohit| 27|  2000|\n",
      "|   Hema| 26|  2000|\n",
      "|Huedsad| 26|  1233|\n",
      "|  Ajay1| 23|  3000|\n",
      "| Rohit1| 27|  2000|\n",
      "+-------+---+------+\n",
      "\n"
     ]
    },
    {
     "name": "stderr",
     "output_type": "stream",
     "text": [
      "                                                                                \r"
     ]
    }
   ],
   "source": [
    "df1.union(df2).distinct().show()"
   ]
  },
  {
   "cell_type": "markdown",
   "id": "20014aec-e7e1-428b-9a8b-5ef1a6e15e51",
   "metadata": {},
   "source": [
    "#### unionAll() is alias to union() in PySpark"
   ]
  },
  {
   "cell_type": "code",
   "execution_count": 12,
   "id": "b9182848-22ef-40ce-b918-bb0206ac7898",
   "metadata": {},
   "outputs": [
    {
     "name": "stderr",
     "output_type": "stream",
     "text": [
      "[Stage 17:===============================================>        (16 + 3) / 19]\r"
     ]
    },
    {
     "name": "stdout",
     "output_type": "stream",
     "text": [
      "+-------+---+------+\n",
      "|   name|age|salary|\n",
      "+-------+---+------+\n",
      "|   Ajay| 23|  3000|\n",
      "|  Rohit| 27|  2000|\n",
      "|   Hema| 26|  2000|\n",
      "|Huedsad| 26|  1233|\n",
      "|  Ajay1| 23|  3000|\n",
      "| Rohit1| 27|  2000|\n",
      "|   Hema| 26|  2000|\n",
      "|Huedsad| 26|  1233|\n",
      "+-------+---+------+\n",
      "\n"
     ]
    },
    {
     "name": "stderr",
     "output_type": "stream",
     "text": [
      "                                                                                \r"
     ]
    }
   ],
   "source": [
    "df1.unionAll(df2).show()"
   ]
  },
  {
   "cell_type": "code",
   "execution_count": 22,
   "id": "d50b2bb4-6a97-4f2e-bc85-698a58a94636",
   "metadata": {},
   "outputs": [
    {
     "name": "stdout",
     "output_type": "stream",
     "text": [
      "+---+-----+\n",
      "|age|count|\n",
      "+---+-----+\n",
      "| 23|    1|\n",
      "| 27|    1|\n",
      "| 26|    2|\n",
      "+---+-----+\n",
      "\n"
     ]
    }
   ],
   "source": [
    "df1.groupBy('age').count().show()"
   ]
  },
  {
   "cell_type": "markdown",
   "id": "c01e64e2-4a50-4780-9295-b78b117966eb",
   "metadata": {},
   "source": [
    "#### unionByName() --> Lets you union DataFrames with different Schema"
   ]
  },
  {
   "cell_type": "code",
   "execution_count": 26,
   "id": "b91a4008-34af-4387-81c2-a08992750cb7",
   "metadata": {},
   "outputs": [
    {
     "name": "stderr",
     "output_type": "stream",
     "text": [
      "                                                                                \r"
     ]
    },
    {
     "name": "stdout",
     "output_type": "stream",
     "text": [
      "+-------+---+------+\n",
      "|   name|age|salary|\n",
      "+-------+---+------+\n",
      "|   Ajay| 23|  3000|\n",
      "|  Rohit| 27|  2000|\n",
      "|   Hema| 26|  2000|\n",
      "|Huedsad| 26|  1233|\n",
      "+-------+---+------+\n",
      "\n"
     ]
    },
    {
     "name": "stderr",
     "output_type": "stream",
     "text": [
      "[Stage 11:>                                                         (0 + 7) / 7]\r"
     ]
    },
    {
     "name": "stdout",
     "output_type": "stream",
     "text": [
      "+-------+---+-------+\n",
      "|   name|age|   dept|\n",
      "+-------+---+-------+\n",
      "|   Ajay| 23|   Data|\n",
      "|  Rohit| 27|   Data|\n",
      "|   Hema| 26|     HR|\n",
      "|Huedsad| 26|PayRoll|\n",
      "+-------+---+-------+\n",
      "\n"
     ]
    },
    {
     "name": "stderr",
     "output_type": "stream",
     "text": [
      "                                                                                \r"
     ]
    }
   ],
   "source": [
    "data1 = [\n",
    "    ('Ajay', 23, 3000),\n",
    "    ('Rohit', 27, 2000),\n",
    "    ('Hema', 26, 2000),\n",
    "    ('Huedsad', 26, 1233),\n",
    "]\n",
    "data2 = [\n",
    "    ('Ajay', 23, 'Data'),\n",
    "    ('Rohit', 27, 'Data'),\n",
    "    ('Hema', 26, \"HR\"),\n",
    "    ('Huedsad', 26, \"PayRoll\"),\n",
    "]\n",
    "\n",
    "schema1 = ['name', 'age', 'salary']\n",
    "schema2 = ['name', 'age', 'dept']\n",
    "\n",
    "df1 = spark.createDataFrame(data1, schema1)\n",
    "df2 = spark.createDataFrame(data2, schema2)\n",
    "df1.show()\n",
    "df2.show()"
   ]
  },
  {
   "cell_type": "code",
   "execution_count": 31,
   "id": "b2308295-acdd-46f0-b1c3-d0fc4b373b2a",
   "metadata": {},
   "outputs": [
    {
     "name": "stdout",
     "output_type": "stream",
     "text": [
      "+-------+---+------+-------+\n",
      "|   name|age|salary|   dept|\n",
      "+-------+---+------+-------+\n",
      "|   Ajay| 23|  3000|   NULL|\n",
      "|  Rohit| 27|  2000|   NULL|\n",
      "|   Hema| 26|  2000|   NULL|\n",
      "|Huedsad| 26|  1233|   NULL|\n",
      "|   Ajay| 23|  NULL|   Data|\n",
      "|  Rohit| 27|  NULL|   Data|\n",
      "|   Hema| 26|  NULL|     HR|\n",
      "|Huedsad| 26|  NULL|PayRoll|\n",
      "+-------+---+------+-------+\n",
      "\n"
     ]
    }
   ],
   "source": [
    "df1.unionByName(allowMissingColumns=True, other=df2).show()"
   ]
  },
  {
   "cell_type": "code",
   "execution_count": 44,
   "id": "7bc4d4ac-e692-4a17-a537-e2ddc4d9a5d8",
   "metadata": {},
   "outputs": [],
   "source": [
    "spark.stop()"
   ]
  },
  {
   "cell_type": "code",
   "execution_count": null,
   "id": "3cd4b200-dd09-474b-8cf7-02a67d47d13d",
   "metadata": {},
   "outputs": [],
   "source": []
  }
 ],
 "metadata": {
  "kernelspec": {
   "display_name": "Python 3 (ipykernel)",
   "language": "python",
   "name": "python3"
  },
  "language_info": {
   "codemirror_mode": {
    "name": "ipython",
    "version": 3
   },
   "file_extension": ".py",
   "mimetype": "text/x-python",
   "name": "python",
   "nbconvert_exporter": "python",
   "pygments_lexer": "ipython3",
   "version": "3.10.12"
  }
 },
 "nbformat": 4,
 "nbformat_minor": 5
}
