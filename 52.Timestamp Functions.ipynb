{
 "cells": [
  {
   "cell_type": "code",
   "execution_count": 2,
   "id": "ee4fe5d2-bc67-4f68-b8d8-d9727cf9e701",
   "metadata": {},
   "outputs": [],
   "source": [
    "from pyspark.sql import SparkSession\n",
    "from pyspark.sql.functions import current_date, date_format, to_date, lit, date_diff,\\\n",
    "months_between, month, year, add_months, date_add, day, weekofyear, weekday, hour, minute, second, current_timestamp,\\\n",
    "to_timestamp\n",
    "from pyspark.sql.types import *\n",
    "\n",
    "spark = SparkSession.Builder().appName('Timestamp Function in PySpark').getOrCreate()"
   ]
  },
  {
   "cell_type": "code",
   "execution_count": 3,
   "id": "fce4755e-b0b1-443e-ae46-b030fbf10121",
   "metadata": {},
   "outputs": [
    {
     "name": "stdout",
     "output_type": "stream",
     "text": [
      "+---+\n",
      "| id|\n",
      "+---+\n",
      "|  0|\n",
      "|  1|\n",
      "|  2|\n",
      "+---+\n",
      "\n"
     ]
    }
   ],
   "source": [
    "df = spark.range(3)\n",
    "df.show()"
   ]
  },
  {
   "cell_type": "code",
   "execution_count": 6,
   "id": "1f42ad22-b5ca-42a3-a273-b0a9eb922ddf",
   "metadata": {},
   "outputs": [
    {
     "name": "stdout",
     "output_type": "stream",
     "text": [
      "+---+--------------------------+\n",
      "|id |currentTimestamp          |\n",
      "+---+--------------------------+\n",
      "|0  |2024-06-18 14:59:12.668404|\n",
      "|1  |2024-06-18 14:59:12.668404|\n",
      "|2  |2024-06-18 14:59:12.668404|\n",
      "+---+--------------------------+\n",
      "\n",
      "root\n",
      " |-- id: long (nullable = false)\n",
      " |-- currentTimestamp: timestamp (nullable = false)\n",
      "\n"
     ]
    }
   ],
   "source": [
    "df = df.withColumn('currentTimestamp', current_timestamp())\n",
    "df.show(truncate=False)\n",
    "df.printSchema()"
   ]
  },
  {
   "cell_type": "code",
   "execution_count": 21,
   "id": "1185125f-91bf-4c1c-8eaf-3034daef3471",
   "metadata": {},
   "outputs": [
    {
     "name": "stdout",
     "output_type": "stream",
     "text": [
      "+---+--------------------------+-------------------+-------------------+\n",
      "|id |currentTimestamp          |TimestampInString  |toTimestamp        |\n",
      "+---+--------------------------+-------------------+-------------------+\n",
      "|0  |2024-06-18 15:04:48.593775|02.09.2024 18.04.56|2024-02-09 18:04:56|\n",
      "|1  |2024-06-18 15:04:48.593775|02.09.2024 18.04.56|2024-02-09 18:04:56|\n",
      "|2  |2024-06-18 15:04:48.593775|02.09.2024 18.04.56|2024-02-09 18:04:56|\n",
      "+---+--------------------------+-------------------+-------------------+\n",
      "\n",
      "root\n",
      " |-- id: long (nullable = false)\n",
      " |-- currentTimestamp: timestamp (nullable = false)\n",
      " |-- TimestampInString: string (nullable = false)\n",
      " |-- toTimestamp: timestamp (nullable = true)\n",
      "\n"
     ]
    }
   ],
   "source": [
    "df = df.withColumn('TimestampInString', lit('02.09.2024 18.04.56'))\n",
    "df = df.withColumn('toTimestamp', to_timestamp(df.TimestampInString, 'MM.dd.yyyy HH.mm.ss'))\n",
    "df.show(truncate=False)\n",
    "df.printSchema()"
   ]
  },
  {
   "cell_type": "code",
   "execution_count": 25,
   "id": "b8a7b541-f051-43ed-b51a-e3fbf7a3477f",
   "metadata": {},
   "outputs": [
    {
     "name": "stdout",
     "output_type": "stream",
     "text": [
      "+---+--------------------+-------------------+-------------------+----------+----+-----+---+----+------+------+\n",
      "| id|    currentTimestamp|  TimestampInString|        toTimestamp|      date|year|month|day|hour|minute|second|\n",
      "+---+--------------------+-------------------+-------------------+----------+----+-----+---+----+------+------+\n",
      "|  0|2024-06-18 15:08:...|02.09.2024 18.04.56|2024-02-09 18:04:56|2024-02-09|2024|    2|  9|  18|     4|    56|\n",
      "|  1|2024-06-18 15:08:...|02.09.2024 18.04.56|2024-02-09 18:04:56|2024-02-09|2024|    2|  9|  18|     4|    56|\n",
      "|  2|2024-06-18 15:08:...|02.09.2024 18.04.56|2024-02-09 18:04:56|2024-02-09|2024|    2|  9|  18|     4|    56|\n",
      "+---+--------------------+-------------------+-------------------+----------+----+-----+---+----+------+------+\n",
      "\n"
     ]
    }
   ],
   "source": [
    "df.select(\"*\", \n",
    "          to_date('toTimestamp').alias('date'),\n",
    "          year('toTimestamp').alias('year'),\n",
    "          month('toTimestamp').alias('month'),\n",
    "          day('toTimestamp').alias('day'),\n",
    "          hour('toTimestamp').alias('hour'),\n",
    "          minute('toTimestamp').alias('minute'),\n",
    "          second('toTimestamp').alias('second')\n",
    "         ).show()"
   ]
  },
  {
   "cell_type": "code",
   "execution_count": 26,
   "id": "ec0d9af8-a019-409e-8a24-0fa41dbf4a90",
   "metadata": {},
   "outputs": [],
   "source": [
    "spark.stop()"
   ]
  },
  {
   "cell_type": "code",
   "execution_count": null,
   "id": "55d147b8-42de-4748-be6c-2a7ebce2448d",
   "metadata": {},
   "outputs": [],
   "source": []
  }
 ],
 "metadata": {
  "kernelspec": {
   "display_name": "Python 3 (ipykernel)",
   "language": "python",
   "name": "python3"
  },
  "language_info": {
   "codemirror_mode": {
    "name": "ipython",
    "version": 3
   },
   "file_extension": ".py",
   "mimetype": "text/x-python",
   "name": "python",
   "nbconvert_exporter": "python",
   "pygments_lexer": "ipython3",
   "version": "3.10.12"
  }
 },
 "nbformat": 4,
 "nbformat_minor": 5
}
