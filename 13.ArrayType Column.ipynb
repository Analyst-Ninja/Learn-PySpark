{
 "cells": [
  {
   "cell_type": "code",
   "execution_count": 1,
   "id": "f5319aa1-91c2-4a61-b951-ba1407b8b3d6",
   "metadata": {},
   "outputs": [
    {
     "name": "stderr",
     "output_type": "stream",
     "text": [
      "24/06/16 02:24:05 WARN Utils: Your hostname, codebase resolves to a loopback address: 127.0.1.1; using 10.255.255.254 instead (on interface lo)\n",
      "24/06/16 02:24:05 WARN Utils: Set SPARK_LOCAL_IP if you need to bind to another address\n",
      "Setting default log level to \"WARN\".\n",
      "To adjust logging level use sc.setLogLevel(newLevel). For SparkR, use setLogLevel(newLevel).\n",
      "24/06/16 02:24:05 WARN NativeCodeLoader: Unable to load native-hadoop library for your platform... using builtin-java classes where applicable\n"
     ]
    }
   ],
   "source": [
    "from pyspark.sql import SparkSession\n",
    "\n",
    "spark = SparkSession.Builder().appName(\"withColumnRenamed()\").getOrCreate()"
   ]
  },
  {
   "cell_type": "code",
   "execution_count": 25,
   "id": "ed75d42c-ff4f-48d4-ac38-53058463e606",
   "metadata": {},
   "outputs": [],
   "source": [
    "from pyspark.sql.types import *\n",
    "from pyspark.sql.functions import col, lit, array"
   ]
  },
  {
   "cell_type": "code",
   "execution_count": 18,
   "id": "52ac14a8-9614-4666-81a8-0d5150f6729a",
   "metadata": {},
   "outputs": [],
   "source": [
    "data = [('abc',[1,2]), ('def', [4,5,6]), ('ghi', [243,2312,345,35,0])]"
   ]
  },
  {
   "cell_type": "code",
   "execution_count": 19,
   "id": "ed175846-6e51-40ec-8f5d-ad31b3cd7fea",
   "metadata": {},
   "outputs": [],
   "source": [
    "schema = StructType(\n",
    "    [\n",
    "        StructField(name = 'id', dataType = StringType()), \n",
    "        StructField(name = 'numbers', dataType = ArrayType(IntegerType()))\n",
    "    ]\n",
    ")"
   ]
  },
  {
   "cell_type": "code",
   "execution_count": 20,
   "id": "80fbd1f1-0b48-4e7e-83d1-ab108be1afdb",
   "metadata": {},
   "outputs": [
    {
     "name": "stdout",
     "output_type": "stream",
     "text": [
      "-RECORD 0--------------------------\n",
      " id      | abc                     \n",
      " numbers | [1, 2]                  \n",
      "-RECORD 1--------------------------\n",
      " id      | def                     \n",
      " numbers | [4, 5, 6]               \n",
      "-RECORD 2--------------------------\n",
      " id      | ghi                     \n",
      " numbers | [243, 2312, 345, 35, 0] \n",
      "\n",
      "root\n",
      " |-- id: string (nullable = true)\n",
      " |-- numbers: array (nullable = true)\n",
      " |    |-- element: integer (containsNull = true)\n",
      "\n"
     ]
    }
   ],
   "source": [
    "df = spark.createDataFrame(data = data, schema=schema)\n",
    "df.show(truncate = False, vertical = True)\n",
    "df.printSchema()"
   ]
  },
  {
   "cell_type": "code",
   "execution_count": 21,
   "id": "25e48713-29cb-4146-93b6-49c1b958341c",
   "metadata": {},
   "outputs": [
    {
     "name": "stdout",
     "output_type": "stream",
     "text": [
      "+---+--------------------+---+\n",
      "| id|             numbers|ele|\n",
      "+---+--------------------+---+\n",
      "|abc|              [1, 2]|  1|\n",
      "|def|           [4, 5, 6]|  4|\n",
      "|ghi|[243, 2312, 345, ...|243|\n",
      "+---+--------------------+---+\n",
      "\n"
     ]
    }
   ],
   "source": [
    "df.withColumn('ele', col('numbers')[0]).show()"
   ]
  },
  {
   "cell_type": "code",
   "execution_count": 23,
   "id": "d8268f5c-2804-4c1c-bdbb-bcf160c31eb3",
   "metadata": {},
   "outputs": [
    {
     "name": "stdout",
     "output_type": "stream",
     "text": [
      "+---+-----+------+\n",
      "| id| name|salary|\n",
      "+---+-----+------+\n",
      "|  1|Rohit|  1000|\n",
      "|  2| Ajay|  2000|\n",
      "+---+-----+------+\n",
      "\n"
     ]
    }
   ],
   "source": [
    "data = [\n",
    "    (1, 'Rohit', '1000'),\n",
    "    (2, 'Ajay','2000')\n",
    "]\n",
    "\n",
    "columns = ['id', 'name', 'salary']\n",
    "\n",
    "df2 = spark.createDataFrame(data = data, schema = columns)\n",
    "df2.show()"
   ]
  },
  {
   "cell_type": "code",
   "execution_count": 26,
   "id": "83e1f205-85a8-4bcd-a79c-a52d7f69160a",
   "metadata": {},
   "outputs": [
    {
     "name": "stdout",
     "output_type": "stream",
     "text": [
      "+---+-----+------+----------+\n",
      "| id| name|salary|new_column|\n",
      "+---+-----+------+----------+\n",
      "|  1|Rohit|  1000| [1, 1000]|\n",
      "|  2| Ajay|  2000| [2, 2000]|\n",
      "+---+-----+------+----------+\n",
      "\n"
     ]
    }
   ],
   "source": [
    "df3 = df2.withColumn('new_column', array(col('id'), col('salary')))\n",
    "df3.show()"
   ]
  },
  {
   "cell_type": "code",
   "execution_count": 29,
   "id": "2ce3b3aa-198c-4a5b-99ee-ad38d15bb315",
   "metadata": {},
   "outputs": [
    {
     "name": "stdout",
     "output_type": "stream",
     "text": [
      "+---+-----+------+----------+\n",
      "| id| name|salary|new_column|\n",
      "+---+-----+------+----------+\n",
      "|  1|Rohit|  1000| [1, 1000]|\n",
      "|  2| Ajay|  2000| [2, 2000]|\n",
      "+---+-----+------+----------+\n",
      "\n",
      "root\n",
      " |-- id: long (nullable = true)\n",
      " |-- name: string (nullable = true)\n",
      " |-- salary: string (nullable = true)\n",
      " |-- new_column: array (nullable = false)\n",
      " |    |-- element: string (containsNull = true)\n",
      "\n"
     ]
    }
   ],
   "source": [
    "df3 = df2.withColumn('new_column', array('id', 'salary'))\n",
    "df3.show()\n",
    "df3.printSchema()"
   ]
  },
  {
   "cell_type": "code",
   "execution_count": 30,
   "id": "7777d2a1-8d7a-4172-bd51-e6dd8db092a3",
   "metadata": {},
   "outputs": [],
   "source": [
    "spark.stop()"
   ]
  },
  {
   "cell_type": "code",
   "execution_count": null,
   "id": "499ec11a-9db7-4292-a79f-7c26362c1ba1",
   "metadata": {},
   "outputs": [],
   "source": []
  }
 ],
 "metadata": {
  "kernelspec": {
   "display_name": "Python 3 (ipykernel)",
   "language": "python",
   "name": "python3"
  },
  "language_info": {
   "codemirror_mode": {
    "name": "ipython",
    "version": 3
   },
   "file_extension": ".py",
   "mimetype": "text/x-python",
   "name": "python",
   "nbconvert_exporter": "python",
   "pygments_lexer": "ipython3",
   "version": "3.10.12"
  }
 },
 "nbformat": 4,
 "nbformat_minor": 5
}
