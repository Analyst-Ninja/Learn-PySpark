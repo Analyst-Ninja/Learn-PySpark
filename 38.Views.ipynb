{
 "cells": [
  {
   "cell_type": "code",
   "execution_count": 34,
   "id": "50175045-d399-4079-84be-805ea92cc84c",
   "metadata": {},
   "outputs": [],
   "source": [
    "from pyspark.sql.types import *\n",
    "from pyspark.sql import SparkSession\n",
    "from pyspark.sql.functions import min, max, upper, trim\n",
    "\n",
    "spark = SparkSession.Builder().appName('Views').getOrCreate()"
   ]
  },
  {
   "cell_type": "code",
   "execution_count": 35,
   "id": "d9c9c54d-afda-4d94-882b-628a8023e213",
   "metadata": {},
   "outputs": [
    {
     "name": "stderr",
     "output_type": "stream",
     "text": [
      "                                                                                \r"
     ]
    },
    {
     "name": "stdout",
     "output_type": "stream",
     "text": [
      "+---+-----+------+\n",
      "| id| name|salary|\n",
      "+---+-----+------+\n",
      "|  1|Rohit|  2000|\n",
      "|  2| Ajay|  3000|\n",
      "+---+-----+------+\n",
      "\n"
     ]
    }
   ],
   "source": [
    "data = [\n",
    "    (1, \"Rohit\", 2000),\n",
    "    (2, \"Ajay\", 3000),\n",
    "]\n",
    "\n",
    "schema = ['id', 'name', 'salary']\n",
    "\n",
    "df = spark.createDataFrame(data, schema)\n",
    "df.show()"
   ]
  },
  {
   "cell_type": "markdown",
   "id": "bb7c1cf6-f08f-4c0c-adfa-216f42ccebf9",
   "metadata": {},
   "source": [
    "#### createOrReplaceTempView() --> Temp View --> Session Scoped --> Can be accessed in Same Scope"
   ]
  },
  {
   "cell_type": "code",
   "execution_count": 36,
   "id": "d598ecd7-5a3f-4746-91fe-3183036670f1",
   "metadata": {},
   "outputs": [],
   "source": [
    "df.createOrReplaceTempView('employees')"
   ]
  },
  {
   "cell_type": "code",
   "execution_count": 37,
   "id": "0af5fc84-1d7d-45bc-b595-b745130d86bc",
   "metadata": {},
   "outputs": [
    {
     "name": "stdout",
     "output_type": "stream",
     "text": [
      "+---+-----+------+\n",
      "| id| name|salary|\n",
      "+---+-----+------+\n",
      "|  1|Rohit|  2000|\n",
      "|  2| Ajay|  3000|\n",
      "+---+-----+------+\n",
      "\n"
     ]
    }
   ],
   "source": [
    "spark.sql(\"SELECT * FROM employees\").show()"
   ]
  },
  {
   "cell_type": "markdown",
   "id": "407488b3-42a3-4546-bf29-17024cbff289",
   "metadata": {},
   "source": [
    "#### createOrReplaceGlobalTempView() --> Temp View --> Not Sesion Scoped --> Can be access accross the session within Spark Application"
   ]
  },
  {
   "cell_type": "code",
   "execution_count": 51,
   "id": "9061b356-8237-4f11-b3f9-a06bcc522c25",
   "metadata": {},
   "outputs": [],
   "source": [
    "df.createOrReplaceGlobalTempView('employees')\n",
    "df.select('id').createOrReplaceGlobalTempView('employeesId')\n",
    "df.createOrReplaceGlobalTempView('employees2')"
   ]
  },
  {
   "cell_type": "code",
   "execution_count": 46,
   "id": "3c80f3a6-3d45-4bc4-9064-30fb694cc446",
   "metadata": {},
   "outputs": [
    {
     "name": "stdout",
     "output_type": "stream",
     "text": [
      "+---+-----+------+\n",
      "| id| name|salary|\n",
      "+---+-----+------+\n",
      "|  1|Rohit|  2000|\n",
      "|  2| Ajay|  3000|\n",
      "+---+-----+------+\n",
      "\n"
     ]
    }
   ],
   "source": [
    "spark.sql('SELECT * FROM global_temp.employees').show()"
   ]
  },
  {
   "cell_type": "code",
   "execution_count": 48,
   "id": "e6f02189-622a-4dab-bdf8-56409b7fd50e",
   "metadata": {},
   "outputs": [
    {
     "data": {
      "text/plain": [
       "[Table(name='employees', catalog=None, namespace=[], description=None, tableType='TEMPORARY', isTemporary=True)]"
      ]
     },
     "execution_count": 48,
     "metadata": {},
     "output_type": "execute_result"
    }
   ],
   "source": [
    "spark.catalog.listTables(spark.catalog.currentDatabase())"
   ]
  },
  {
   "cell_type": "code",
   "execution_count": 50,
   "id": "463204a7-da23-4e4b-b79e-d91c1b6f50b8",
   "metadata": {},
   "outputs": [
    {
     "data": {
      "text/plain": [
       "'default'"
      ]
     },
     "execution_count": 50,
     "metadata": {},
     "output_type": "execute_result"
    }
   ],
   "source": [
    "spark.catalog.currentDatabase()"
   ]
  },
  {
   "cell_type": "code",
   "execution_count": 62,
   "id": "9f786f49-d825-4c5f-8612-450f116ecc3e",
   "metadata": {},
   "outputs": [
    {
     "data": {
      "text/plain": [
       "[Table(name='employees2', catalog=None, namespace=['global_temp'], description=None, tableType='TEMPORARY', isTemporary=True),\n",
       " Table(name='employeesId', catalog=None, namespace=['global_temp'], description=None, tableType='TEMPORARY', isTemporary=True),\n",
       " Table(name='employees', catalog=None, namespace=[], description=None, tableType='TEMPORARY', isTemporary=True)]"
      ]
     },
     "execution_count": 62,
     "metadata": {},
     "output_type": "execute_result"
    }
   ],
   "source": [
    "spark.catalog.listTables('global_temp')"
   ]
  },
  {
   "cell_type": "code",
   "execution_count": 61,
   "id": "2f927158-0297-4073-9cbf-b868f3615644",
   "metadata": {},
   "outputs": [
    {
     "data": {
      "text/plain": [
       "True"
      ]
     },
     "execution_count": 61,
     "metadata": {},
     "output_type": "execute_result"
    }
   ],
   "source": [
    "spark.catalog.dropGlobalTempView('employees1' )"
   ]
  },
  {
   "cell_type": "code",
   "execution_count": 63,
   "id": "87a3b439-2714-431f-a519-417d973f7875",
   "metadata": {},
   "outputs": [
    {
     "data": {
      "text/plain": [
       "[Table(name='employees', catalog=None, namespace=[], description=None, tableType='TEMPORARY', isTemporary=True)]"
      ]
     },
     "execution_count": 63,
     "metadata": {},
     "output_type": "execute_result"
    }
   ],
   "source": [
    "spark.catalog.listTables()"
   ]
  },
  {
   "cell_type": "code",
   "execution_count": 64,
   "id": "5a15c6f4-2817-4fa1-add5-206808ac1d4f",
   "metadata": {},
   "outputs": [],
   "source": [
    "spark.stop()"
   ]
  },
  {
   "cell_type": "code",
   "execution_count": null,
   "id": "b68b31eb-7f8c-4eb0-9a88-189406963b10",
   "metadata": {},
   "outputs": [],
   "source": []
  }
 ],
 "metadata": {
  "kernelspec": {
   "display_name": "Python 3 (ipykernel)",
   "language": "python",
   "name": "python3"
  },
  "language_info": {
   "codemirror_mode": {
    "name": "ipython",
    "version": 3
   },
   "file_extension": ".py",
   "mimetype": "text/x-python",
   "name": "python",
   "nbconvert_exporter": "python",
   "pygments_lexer": "ipython3",
   "version": "3.10.12"
  }
 },
 "nbformat": 4,
 "nbformat_minor": 5
}
