{
 "cells": [
  {
   "cell_type": "code",
   "execution_count": 27,
   "id": "6bc849af-9c01-4210-b4ea-90fae73deb8b",
   "metadata": {},
   "outputs": [],
   "source": [
    "from pyspark.sql import SparkSession \n",
    "from pyspark.sql.functions import col, lit, when, \\\n",
    "desc, asc, cast, like, count, min, max, median, percentile\n",
    "from pyspark.sql.types import *\n",
    "\n",
    "spark = SparkSession.Builder().appName('agg()').getOrCreate()"
   ]
  },
  {
   "cell_type": "code",
   "execution_count": 28,
   "id": "bdb7b0a0-193e-4c60-8d8d-9d9f8f35b0e2",
   "metadata": {},
   "outputs": [
    {
     "name": "stdout",
     "output_type": "stream",
     "text": [
      "+---------+---+------+-------+\n",
      "|     name|age|salary|   dept|\n",
      "+---------+---+------+-------+\n",
      "|     Ajay| 23|  3000|   Data|\n",
      "|    Rohit| 27|  2000|   Data|\n",
      "|Dhananjay| 27|  2000|   Data|\n",
      "|     Hema| 26|  2000|     HR|\n",
      "|  Huedsad| 26|  1233|PayRoll|\n",
      "+---------+---+------+-------+\n",
      "\n"
     ]
    }
   ],
   "source": [
    "data = [\n",
    "    ('Ajay', 23, 3000, 'Data'),\n",
    "    ('Rohit', 27, 2000, 'Data'),\n",
    "    ('Dhananjay', 27, 2000, 'Data'),\n",
    "    ('Hema', 26, 2000, 'HR'),\n",
    "    ('Huedsad', 26, 1233, 'PayRoll'),\n",
    "]\n",
    "schema = ['name', 'age', 'salary', 'dept']\n",
    "\n",
    "df = spark.createDataFrame(data, schema)\n",
    "df.show()"
   ]
  },
  {
   "cell_type": "code",
   "execution_count": 29,
   "id": "6fd58af6-e28e-4a21-ada6-300bfa75752c",
   "metadata": {},
   "outputs": [
    {
     "name": "stdout",
     "output_type": "stream",
     "text": [
      "+-------+-----+\n",
      "|   dept|count|\n",
      "+-------+-----+\n",
      "|   Data|    3|\n",
      "|     HR|    1|\n",
      "|PayRoll|    1|\n",
      "+-------+-----+\n",
      "\n",
      "+-------+-----------+\n",
      "|   dept|max(salary)|\n",
      "+-------+-----------+\n",
      "|   Data|       3000|\n",
      "|     HR|       2000|\n",
      "|PayRoll|       1233|\n",
      "+-------+-----------+\n",
      "\n",
      "+-------+-----------+\n",
      "|   dept|min(salary)|\n",
      "+-------+-----------+\n",
      "|   Data|       2000|\n",
      "|     HR|       2000|\n",
      "|PayRoll|       1233|\n",
      "+-------+-----------+\n",
      "\n"
     ]
    }
   ],
   "source": [
    "df.groupBy('dept').count().show()\n",
    "df.groupBy('dept').max('salary').show()\n",
    "df.groupBy('dept').min('salary').show()"
   ]
  },
  {
   "cell_type": "code",
   "execution_count": 31,
   "id": "35d65373-ddd1-4361-b21b-78e1b2590ecf",
   "metadata": {},
   "outputs": [
    {
     "name": "stdout",
     "output_type": "stream",
     "text": [
      "+-------+----------+------+------+---------+------+\n",
      "|   dept|countOfEmp|minSal|maxSal|medianSal|P90Sal|\n",
      "+-------+----------+------+------+---------+------+\n",
      "|   Data|         3|  2000|  3000|   2000.0|2800.0|\n",
      "|     HR|         1|  2000|  2000|   2000.0|2000.0|\n",
      "|PayRoll|         1|  1233|  1233|   1233.0|1233.0|\n",
      "+-------+----------+------+------+---------+------+\n",
      "\n"
     ]
    }
   ],
   "source": [
    "df.groupBy('dept').agg(\n",
    "    count('*').alias('countOfEmp'),\\\n",
    "    min('salary').alias('minSal'),\\\n",
    "    max('salary').alias('maxSal'),\\\n",
    "    median('salary').alias('medianSal'),\\\n",
    "    percentile('salary',.90).alias('P90Sal'),\\\n",
    ").show()"
   ]
  },
  {
   "cell_type": "code",
   "execution_count": 32,
   "id": "a8085fca-e5ef-4213-8c70-d02b3341b153",
   "metadata": {},
   "outputs": [],
   "source": [
    "spark.stop()"
   ]
  },
  {
   "cell_type": "code",
   "execution_count": null,
   "id": "1afce889-82da-4b24-960b-93efc1286bba",
   "metadata": {},
   "outputs": [],
   "source": []
  }
 ],
 "metadata": {
  "kernelspec": {
   "display_name": "Python 3 (ipykernel)",
   "language": "python",
   "name": "python3"
  },
  "language_info": {
   "codemirror_mode": {
    "name": "ipython",
    "version": 3
   },
   "file_extension": ".py",
   "mimetype": "text/x-python",
   "name": "python",
   "nbconvert_exporter": "python",
   "pygments_lexer": "ipython3",
   "version": "3.10.12"
  }
 },
 "nbformat": 4,
 "nbformat_minor": 5
}
