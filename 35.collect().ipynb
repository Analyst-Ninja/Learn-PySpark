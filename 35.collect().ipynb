{
 "cells": [
  {
   "cell_type": "code",
   "execution_count": 5,
   "id": "939bb616-1be2-4154-87bb-3a004bd5b27e",
   "metadata": {},
   "outputs": [],
   "source": [
    "from pyspark.sql import SparkSession \n",
    "from pyspark.sql.functions import col, lit, when, \\\n",
    "desc, asc, cast, like, count, min, max, median, percentile\n",
    "from pyspark.sql.types import *\n",
    "from pprint import pprint\n",
    "\n",
    "spark = SparkSession.Builder().appName('fill() , fillna() & smaple() functions in Pyspark')\\\n",
    ".config(\"spark.sql.crossJoin.enabled\",True)\\\n",
    ".getOrCreate()"
   ]
  },
  {
   "cell_type": "code",
   "execution_count": 2,
   "id": "cc5af06d-e8a6-484b-b588-5452ac749edc",
   "metadata": {},
   "outputs": [
    {
     "name": "stderr",
     "output_type": "stream",
     "text": [
      "                                                                                \r"
     ]
    },
    {
     "name": "stdout",
     "output_type": "stream",
     "text": [
      "+---+-----+----+------+----+\n",
      "| id| name| age|salary|dept|\n",
      "+---+-----+----+------+----+\n",
      "|  1|Rohit|  27|  NULL|Data|\n",
      "|  2| Ajay|  23|  3000|Data|\n",
      "|  3| Hema|NULL|  5000|  HR|\n",
      "|  4| Arti|  37|  5000|NULL|\n",
      "+---+-----+----+------+----+\n",
      "\n"
     ]
    }
   ],
   "source": [
    "data = [\n",
    "    (1,'Rohit', 27, None, 'Data'),\n",
    "    (2,'Ajay', 23, 3000, 'Data'),\n",
    "    (3,'Hema', None, 5000, 'HR'),\n",
    "    (4,'Arti', 37, 5000, None),\n",
    "]\n",
    "\n",
    "schema = ['id', 'name', 'age', 'salary', 'dept']\n",
    "\n",
    "df = spark.createDataFrame(data, schema)\n",
    "df.show()"
   ]
  },
  {
   "cell_type": "code",
   "execution_count": 3,
   "id": "b64e2e7c-7891-4540-ad23-b9f22008e1fa",
   "metadata": {},
   "outputs": [
    {
     "name": "stderr",
     "output_type": "stream",
     "text": [
      "                                                                                \r"
     ]
    },
    {
     "data": {
      "text/plain": [
       "[Row(id=1, name='Rohit', age=27, salary=None, dept='Data'),\n",
       " Row(id=2, name='Ajay', age=23, salary=3000, dept='Data'),\n",
       " Row(id=3, name='Hema', age=None, salary=5000, dept='HR'),\n",
       " Row(id=4, name='Arti', age=37, salary=5000, dept=None)]"
      ]
     },
     "execution_count": 3,
     "metadata": {},
     "output_type": "execute_result"
    }
   ],
   "source": [
    "df.collect()"
   ]
  },
  {
   "cell_type": "code",
   "execution_count": 6,
   "id": "a8de9d8e-7d3c-405c-8c73-c97143683615",
   "metadata": {},
   "outputs": [
    {
     "name": "stdout",
     "output_type": "stream",
     "text": [
      "[Row(id=1, name='Rohit', age=27, salary=None, dept='Data'),\n",
      " Row(id=2, name='Ajay', age=23, salary=3000, dept='Data'),\n",
      " Row(id=3, name='Hema', age=None, salary=5000, dept='HR'),\n",
      " Row(id=4, name='Arti', age=37, salary=5000, dept=None)]\n"
     ]
    }
   ],
   "source": [
    "listRows = df.collect()\n",
    "pprint(listRows)"
   ]
  },
  {
   "cell_type": "code",
   "execution_count": 16,
   "id": "f8855896-b79d-4d71-9727-bc0ff0c995e0",
   "metadata": {},
   "outputs": [
    {
     "name": "stdout",
     "output_type": "stream",
     "text": [
      "Row(id=1, name='Rohit', age=27, salary=None, dept='Data')\n",
      "1\n",
      "Rohit\n"
     ]
    }
   ],
   "source": [
    "print(listRows[0])\n",
    "print(listRows[0][0])\n",
    "print(listRows[0][1])"
   ]
  },
  {
   "cell_type": "code",
   "execution_count": 17,
   "id": "fede560e-188f-4d6c-afd4-df9b05655ad6",
   "metadata": {},
   "outputs": [],
   "source": [
    "spark.stop()"
   ]
  },
  {
   "cell_type": "code",
   "execution_count": null,
   "id": "2c595742-6372-4b18-98b3-ec6aa32f32de",
   "metadata": {},
   "outputs": [],
   "source": []
  }
 ],
 "metadata": {
  "kernelspec": {
   "display_name": "Python 3 (ipykernel)",
   "language": "python",
   "name": "python3"
  },
  "language_info": {
   "codemirror_mode": {
    "name": "ipython",
    "version": 3
   },
   "file_extension": ".py",
   "mimetype": "text/x-python",
   "name": "python",
   "nbconvert_exporter": "python",
   "pygments_lexer": "ipython3",
   "version": "3.10.12"
  }
 },
 "nbformat": 4,
 "nbformat_minor": 5
}
