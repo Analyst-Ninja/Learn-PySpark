{
 "cells": [
  {
   "cell_type": "code",
   "execution_count": 37,
   "id": "8594abbe-652f-42b9-b692-937400b646b9",
   "metadata": {},
   "outputs": [
    {
     "data": {
      "text/html": [
       "<style>pre { white-space: pre !important; }</style>"
      ],
      "text/plain": [
       "<IPython.core.display.HTML object>"
      ]
     },
     "metadata": {},
     "output_type": "display_data"
    }
   ],
   "source": [
    "from pyspark.sql.types import *\n",
    "from pyspark.sql import SparkSession\n",
    "from pyspark.sql.functions import min, max, upper, trim, from_json, to_json, json_tuple\n",
    "from IPython.core.display import HTML\n",
    "display(HTML(\"<style>pre { white-space: pre !important; }</style>\"))\n",
    "\n",
    "spark = SparkSession.Builder().appName('from_json(), to_json(), json_tuple() function').getOrCreate()"
   ]
  },
  {
   "cell_type": "code",
   "execution_count": 3,
   "id": "99320370-dd2e-4f41-bb69-c6c4a88dfaa7",
   "metadata": {},
   "outputs": [
    {
     "name": "stdout",
     "output_type": "stream",
     "text": [
      "+-----+-------------------------------------+\n",
      "|name |props                                |\n",
      "+-----+-------------------------------------+\n",
      "|Ajay |{ \"hair\" : \"brown\", \"eye\" : \"black\" }|\n",
      "|Rohit|{ \"hair\" : \"black\", \"eye\" : \"black\" }|\n",
      "+-----+-------------------------------------+\n",
      "\n",
      "root\n",
      " |-- name: string (nullable = true)\n",
      " |-- props: string (nullable = true)\n",
      "\n"
     ]
    }
   ],
   "source": [
    "data = [\n",
    "    ('Ajay', '{ \"hair\" : \"brown\", \"eye\" : \"black\" }'),\n",
    "    ('Rohit', '{ \"hair\" : \"black\", \"eye\" : \"black\" }'),\n",
    "]\n",
    "\n",
    "schema = ['name', 'props']\n",
    "\n",
    "df = spark.createDataFrame(data, schema)\n",
    "df.show(truncate=False)\n",
    "df.printSchema()"
   ]
  },
  {
   "cell_type": "markdown",
   "id": "37c7bacc-1d39-4ae3-866c-dba7371187b0",
   "metadata": {},
   "source": [
    "#### from_json() --> to convert the JSON string to MapType() or StructType() column in DF"
   ]
  },
  {
   "cell_type": "markdown",
   "id": "c09eb90b-3724-40a6-ac01-06ce5fe2470e",
   "metadata": {},
   "source": [
    "##### MapType()"
   ]
  },
  {
   "cell_type": "code",
   "execution_count": 6,
   "id": "9863ccf6-eebe-4472-b166-e54f26df7e2d",
   "metadata": {},
   "outputs": [
    {
     "name": "stdout",
     "output_type": "stream",
     "text": [
      "+-----+-------------------------------------+-----------------------------+\n",
      "|name |props                                |propsMap                     |\n",
      "+-----+-------------------------------------+-----------------------------+\n",
      "|Ajay |{ \"hair\" : \"brown\", \"eye\" : \"black\" }|{hair -> brown, eye -> black}|\n",
      "|Rohit|{ \"hair\" : \"black\", \"eye\" : \"black\" }|{hair -> black, eye -> black}|\n",
      "+-----+-------------------------------------+-----------------------------+\n",
      "\n",
      "root\n",
      " |-- name: string (nullable = true)\n",
      " |-- props: string (nullable = true)\n",
      " |-- propsMap: map (nullable = true)\n",
      " |    |-- key: string\n",
      " |    |-- value: string (valueContainsNull = true)\n",
      "\n"
     ]
    }
   ],
   "source": [
    "df1 = df.withColumn('propsMap', from_json(df.props, MapType(StringType(), StringType())))\n",
    "df1.show(truncate=False)\n",
    "df1.printSchema()"
   ]
  },
  {
   "cell_type": "code",
   "execution_count": 11,
   "id": "63c252b2-e3f2-4f4f-9523-908768e84309",
   "metadata": {},
   "outputs": [
    {
     "name": "stdout",
     "output_type": "stream",
     "text": [
      "+-----+--------------------+--------------------+-----+--------+\n",
      "| name|               props|            propsMap| hair|eyeColor|\n",
      "+-----+--------------------+--------------------+-----+--------+\n",
      "| Ajay|{ \"hair\" : \"brown...|{hair -> brown, e...|brown|   black|\n",
      "|Rohit|{ \"hair\" : \"black...|{hair -> black, e...|black|   black|\n",
      "+-----+--------------------+--------------------+-----+--------+\n",
      "\n"
     ]
    }
   ],
   "source": [
    "df1.withColumn('hair', df1.propsMap.hair)\\\n",
    "    .withColumn('eyeColor', df1.propsMap.eye)\\\n",
    "    .show()"
   ]
  },
  {
   "cell_type": "markdown",
   "id": "5d7dfb56-dbcf-4541-81e1-bd8c8cdc5f5f",
   "metadata": {},
   "source": [
    "##### StructType()"
   ]
  },
  {
   "cell_type": "code",
   "execution_count": 33,
   "id": "9bf7682d-e353-4fc1-a60f-d4e35b898d3a",
   "metadata": {},
   "outputs": [
    {
     "name": "stdout",
     "output_type": "stream",
     "text": [
      "+-----+-------------------------------------+--------------+\n",
      "|name |props                                |propsStruct   |\n",
      "+-----+-------------------------------------+--------------+\n",
      "|Ajay |{ \"hair\" : \"brown\", \"eye\" : \"black\" }|{brown, black}|\n",
      "|Rohit|{ \"hair\" : \"black\", \"eye\" : \"black\" }|{black, black}|\n",
      "+-----+-------------------------------------+--------------+\n",
      "\n",
      "root\n",
      " |-- name: string (nullable = true)\n",
      " |-- props: string (nullable = true)\n",
      " |-- propsStruct: struct (nullable = true)\n",
      " |    |-- hair: string (nullable = true)\n",
      " |    |-- eye: string (nullable = true)\n",
      "\n"
     ]
    }
   ],
   "source": [
    "structSchema = StructType(\n",
    "    [\n",
    "        StructField('hair', StringType()),    \n",
    "        StructField('eye', StringType()),    \n",
    "    ]\n",
    ")\n",
    "\n",
    "df2 = df.withColumn('propsStruct', from_json(df.props, structSchema))\n",
    "df2.show(truncate=False)\n",
    "df2.printSchema()"
   ]
  },
  {
   "cell_type": "code",
   "execution_count": 34,
   "id": "41664052-4224-493c-a1cb-39b9ca01ffd1",
   "metadata": {},
   "outputs": [
    {
     "name": "stdout",
     "output_type": "stream",
     "text": [
      "+-----+--------------------+--------------+-----+-----+\n",
      "| name|               props|   propsStruct| hair|  eye|\n",
      "+-----+--------------------+--------------+-----+-----+\n",
      "| Ajay|{ \"hair\" : \"brown...|{brown, black}|brown|black|\n",
      "|Rohit|{ \"hair\" : \"black...|{black, black}|black|black|\n",
      "+-----+--------------------+--------------+-----+-----+\n",
      "\n"
     ]
    }
   ],
   "source": [
    "df2.withColumn('hair', df2.propsStruct.hair)\\\n",
    "    .withColumn('eye', df2.propsStruct.eye).show()"
   ]
  },
  {
   "cell_type": "markdown",
   "id": "16dab84c-6863-4c58-8a4d-a1674c636e56",
   "metadata": {},
   "source": [
    "#### to_json() --> to convert MapType() or StructType() column for JSON to JSON String Column"
   ]
  },
  {
   "cell_type": "code",
   "execution_count": 32,
   "id": "5e326cea-809d-46c1-a881-87d32a351341",
   "metadata": {},
   "outputs": [
    {
     "name": "stdout",
     "output_type": "stream",
     "text": [
      "+-----+-------------------------------------+--------------+------------------------------+\n",
      "|name |props                                |propsStruct   |propsJSONstring               |\n",
      "+-----+-------------------------------------+--------------+------------------------------+\n",
      "|Ajay |{ \"hair\" : \"brown\", \"eye\" : \"black\" }|{brown, black}|{\"hair\":\"brown\",\"eye\":\"black\"}|\n",
      "|Rohit|{ \"hair\" : \"black\", \"eye\" : \"black\" }|{black, black}|{\"hair\":\"black\",\"eye\":\"black\"}|\n",
      "+-----+-------------------------------------+--------------+------------------------------+\n",
      "\n",
      "root\n",
      " |-- name: string (nullable = true)\n",
      " |-- props: string (nullable = true)\n",
      " |-- propsStruct: struct (nullable = true)\n",
      " |    |-- hair: string (nullable = true)\n",
      " |    |-- eye: string (nullable = true)\n",
      " |-- propsJSONstring: string (nullable = true)\n",
      "\n"
     ]
    }
   ],
   "source": [
    "df3 = df2.withColumn('propsJSONstring', to_json(df2.propsStruct))\n",
    "df3.show(truncate=False)\n",
    "df3.printSchema()"
   ]
  },
  {
   "cell_type": "markdown",
   "id": "529e7a04-f07c-4103-af9e-8354262d71b3",
   "metadata": {},
   "source": [
    "#### json_tuple() --> query or extract the elements from JSON String Column and create as new columns"
   ]
  },
  {
   "cell_type": "code",
   "execution_count": 42,
   "id": "eb0d9cda-6993-48c1-912b-e928fd02af7c",
   "metadata": {},
   "outputs": [
    {
     "name": "stdout",
     "output_type": "stream",
     "text": [
      "+-----+-------------------------------------+-----+-----+\n",
      "|name |props                                |hair |eye  |\n",
      "+-----+-------------------------------------+-----+-----+\n",
      "|Ajay |{ \"hair\" : \"brown\", \"eye\" : \"black\" }|brown|black|\n",
      "|Rohit|{ \"hair\" : \"black\", \"eye\" : \"black\" }|black|black|\n",
      "+-----+-------------------------------------+-----+-----+\n",
      "\n",
      "root\n",
      " |-- name: string (nullable = true)\n",
      " |-- props: string (nullable = true)\n",
      " |-- hair: string (nullable = true)\n",
      " |-- eye: string (nullable = true)\n",
      "\n"
     ]
    }
   ],
   "source": [
    "df4 = df.select(df.name, df.props, json_tuple(df.props, 'hair', 'eye').alias('hair', 'eye'))\n",
    "df4.show(truncate=False)\n",
    "df4.printSchema()"
   ]
  },
  {
   "cell_type": "code",
   "execution_count": 41,
   "id": "f977a143-52c3-49e7-b76f-a56296e9eb14",
   "metadata": {},
   "outputs": [
    {
     "name": "stdout",
     "output_type": "stream",
     "text": [
      "+-----+-------------------------------------+-----+-----+\n",
      "|name |props                                |hair |eye  |\n",
      "+-----+-------------------------------------+-----+-----+\n",
      "|Ajay |{ \"hair\" : \"brown\", \"eye\" : \"black\" }|brown|black|\n",
      "|Rohit|{ \"hair\" : \"black\", \"eye\" : \"black\" }|black|black|\n",
      "+-----+-------------------------------------+-----+-----+\n",
      "\n"
     ]
    }
   ],
   "source": [
    "df5 = df.withColumn('hair', json_tuple(df.props, 'hair'))\\\n",
    "        .withColumn('eye', json_tuple(df.props, 'eye'))\n",
    "df5.show(truncate=False)"
   ]
  },
  {
   "cell_type": "code",
   "execution_count": 43,
   "id": "8af340e9-63fd-4a63-8273-8ede62bc9a2b",
   "metadata": {},
   "outputs": [],
   "source": [
    "spark.stop()"
   ]
  },
  {
   "cell_type": "code",
   "execution_count": null,
   "id": "9a27db59-dc23-48c0-8b18-66f83695f923",
   "metadata": {},
   "outputs": [],
   "source": []
  }
 ],
 "metadata": {
  "kernelspec": {
   "display_name": "Python 3 (ipykernel)",
   "language": "python",
   "name": "python3"
  },
  "language_info": {
   "codemirror_mode": {
    "name": "ipython",
    "version": 3
   },
   "file_extension": ".py",
   "mimetype": "text/x-python",
   "name": "python",
   "nbconvert_exporter": "python",
   "pygments_lexer": "ipython3",
   "version": "3.10.12"
  }
 },
 "nbformat": 4,
 "nbformat_minor": 5
}
