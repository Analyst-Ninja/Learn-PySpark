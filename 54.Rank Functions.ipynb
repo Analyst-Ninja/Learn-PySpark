{
 "cells": [
  {
   "cell_type": "code",
   "execution_count": 6,
   "id": "9ce194b2-ea4d-4570-8267-4a1c07d84fab",
   "metadata": {},
   "outputs": [],
   "source": [
    "from pyspark.sql import SparkSession\n",
    "from pyspark.sql.functions import row_number, rank, dense_rank, lag, lead\n",
    "from pyspark.sql.window import Window\n",
    "from pyspark.sql.types import *\n",
    "\n",
    "spark = SparkSession.Builder().appName('Rank Function in PySpark').getOrCreate()"
   ]
  },
  {
   "cell_type": "code",
   "execution_count": 5,
   "id": "ef229644-2e5a-44f4-b6e5-29bc53582bb9",
   "metadata": {},
   "outputs": [
    {
     "name": "stdout",
     "output_type": "stream",
     "text": [
      "+-----+---------+------+------+---------+\n",
      "|empID|     Name|Gender|Salary|     dept|\n",
      "+-----+---------+------+------+---------+\n",
      "|    6|Deepshika|     F|  2000|     Data|\n",
      "|    2|     Ajay|     M|  2000|     Data|\n",
      "|    1|    Rohit|     M|  3000|     Data|\n",
      "|    3|    Hemma|     F|  2000|       HR|\n",
      "|    5|  Kanchan|     F|  2000|Marketing|\n",
      "|    4|     Arti|     F|  2000|Marketing|\n",
      "+-----+---------+------+------+---------+\n",
      "\n"
     ]
    }
   ],
   "source": [
    "empData = [\n",
    "    (1,\"Rohit\",'M', 3000, \"Data\"),\n",
    "    (2,\"Ajay\", 'M',2000, \"Data\"),\n",
    "    (6,\"Deepshika\", 'F',2000, \"Data\"),\n",
    "    (3,\"Hemma\", 'F',2000, \"HR\"),\n",
    "    (4,\"Arti\", 'F',2000, \"Marketing\"),\n",
    "    (5,\"Kanchan\", 'F',2000, \"Marketing\"),\n",
    "]  \n",
    "\n",
    "empDataSchema = ['empID', 'Name', 'Gender','Salary', 'dept']\n",
    "\n",
    "df = spark.createDataFrame(empData, empDataSchema)\n",
    "df.sort('dept', 'Salary').show()"
   ]
  },
  {
   "cell_type": "markdown",
   "id": "f138bcd2-01e5-4839-8dd4-677c746d7fec",
   "metadata": {},
   "source": [
    "#### row_number()"
   ]
  },
  {
   "cell_type": "code",
   "execution_count": 16,
   "id": "f876f06f-a750-4aa2-a366-315fe78c861d",
   "metadata": {},
   "outputs": [
    {
     "name": "stdout",
     "output_type": "stream",
     "text": [
      "+-----+---------+------+------+---------+------+\n",
      "|empID|     Name|Gender|Salary|     dept|rowNum|\n",
      "+-----+---------+------+------+---------+------+\n",
      "|    2|     Ajay|     M|  2000|     Data|     1|\n",
      "|    6|Deepshika|     F|  2000|     Data|     2|\n",
      "|    1|    Rohit|     M|  3000|     Data|     3|\n",
      "|    3|    Hemma|     F|  2000|       HR|     1|\n",
      "|    4|     Arti|     F|  2000|Marketing|     1|\n",
      "|    5|  Kanchan|     F|  2000|Marketing|     2|\n",
      "+-----+---------+------+------+---------+------+\n",
      "\n"
     ]
    }
   ],
   "source": [
    "window = Window.partitionBy('dept').orderBy('Salary')\n",
    "df.withColumn('rowNum', row_number().over(window)).show()"
   ]
  },
  {
   "cell_type": "markdown",
   "id": "23fdecc8-c817-462a-bab1-ac56445b5be7",
   "metadata": {},
   "source": [
    "#### rank() --> ranking under groups/ partition and it leaves the gaps in rank when there are ties"
   ]
  },
  {
   "cell_type": "code",
   "execution_count": 17,
   "id": "b974c6c7-1c80-4e01-897a-e568909e196b",
   "metadata": {},
   "outputs": [
    {
     "name": "stdout",
     "output_type": "stream",
     "text": [
      "+-----+---------+------+------+---------+----+\n",
      "|empID|     Name|Gender|Salary|     dept|rank|\n",
      "+-----+---------+------+------+---------+----+\n",
      "|    2|     Ajay|     M|  2000|     Data|   1|\n",
      "|    6|Deepshika|     F|  2000|     Data|   1|\n",
      "|    1|    Rohit|     M|  3000|     Data|   3|\n",
      "|    3|    Hemma|     F|  2000|       HR|   1|\n",
      "|    4|     Arti|     F|  2000|Marketing|   1|\n",
      "|    5|  Kanchan|     F|  2000|Marketing|   1|\n",
      "+-----+---------+------+------+---------+----+\n",
      "\n"
     ]
    }
   ],
   "source": [
    "df.withColumn('rank', rank().over(\n",
    "    Window.partitionBy('dept')\\\n",
    "    .orderBy('salary')\n",
    ")).show()"
   ]
  },
  {
   "cell_type": "markdown",
   "id": "4fcd0e71-7240-4b30-be2b-f32432c963b9",
   "metadata": {},
   "source": [
    "#### dense_rank() --> ranking under groups/ partition and it does not leaves the gaps in rank when there are ties"
   ]
  },
  {
   "cell_type": "code",
   "execution_count": 18,
   "id": "b0ff5c4e-5466-4b2a-9149-f6c19d8b823a",
   "metadata": {},
   "outputs": [
    {
     "name": "stdout",
     "output_type": "stream",
     "text": [
      "+-----+---------+------+------+---------+---------+\n",
      "|empID|     Name|Gender|Salary|     dept|denseRank|\n",
      "+-----+---------+------+------+---------+---------+\n",
      "|    2|     Ajay|     M|  2000|     Data|        1|\n",
      "|    6|Deepshika|     F|  2000|     Data|        1|\n",
      "|    1|    Rohit|     M|  3000|     Data|        2|\n",
      "|    3|    Hemma|     F|  2000|       HR|        1|\n",
      "|    4|     Arti|     F|  2000|Marketing|        1|\n",
      "|    5|  Kanchan|     F|  2000|Marketing|        1|\n",
      "+-----+---------+------+------+---------+---------+\n",
      "\n"
     ]
    }
   ],
   "source": [
    "df.withColumn('denseRank', dense_rank().over(\n",
    "    Window.partitionBy('dept')\\\n",
    "    .orderBy('salary')\n",
    ")).show()"
   ]
  },
  {
   "cell_type": "markdown",
   "id": "7d4f4193-108e-44cb-80eb-4ad13a45dcc7",
   "metadata": {},
   "source": [
    "#### lag() --> will give specific previous value"
   ]
  },
  {
   "cell_type": "code",
   "execution_count": 28,
   "id": "71250411-c187-480d-8363-8f30052e5396",
   "metadata": {},
   "outputs": [
    {
     "name": "stdout",
     "output_type": "stream",
     "text": [
      "+-----+---------+------+------+---------+----+\n",
      "|empID|     Name|Gender|Salary|     dept| lag|\n",
      "+-----+---------+------+------+---------+----+\n",
      "|    2|     Ajay|     M|  2000|     Data|NULL|\n",
      "|    6|Deepshika|     F|  2000|     Data|NULL|\n",
      "|    1|    Rohit|     M|  3000|     Data|Ajay|\n",
      "|    3|    Hemma|     F|  2000|       HR|NULL|\n",
      "|    4|     Arti|     F|  2000|Marketing|NULL|\n",
      "|    5|  Kanchan|     F|  2000|Marketing|NULL|\n",
      "+-----+---------+------+------+---------+----+\n",
      "\n"
     ]
    }
   ],
   "source": [
    "# lag(columnName, 2) --> will give previous value by 2 row\n",
    "\n",
    "df.withColumn('lag', lag('Name', 2).over(\n",
    "    Window.partitionBy('dept')\\\n",
    "    .orderBy('salary')\n",
    ")).show()"
   ]
  },
  {
   "cell_type": "markdown",
   "id": "7d268947-238d-403b-90c9-5f706d984519",
   "metadata": {},
   "source": [
    "#### lead() --> will give specific following / next value"
   ]
  },
  {
   "cell_type": "code",
   "execution_count": 27,
   "id": "adb28251-b98d-48a8-a338-785810b92e8e",
   "metadata": {},
   "outputs": [
    {
     "name": "stdout",
     "output_type": "stream",
     "text": [
      "+-----+---------+------+------+---------+---------+\n",
      "|empID|     Name|Gender|Salary|     dept|      lag|\n",
      "+-----+---------+------+------+---------+---------+\n",
      "|    2|     Ajay|     M|  2000|     Data|Deepshika|\n",
      "|    6|Deepshika|     F|  2000|     Data|    Rohit|\n",
      "|    1|    Rohit|     M|  3000|     Data|     NULL|\n",
      "|    3|    Hemma|     F|  2000|       HR|     NULL|\n",
      "|    4|     Arti|     F|  2000|Marketing|  Kanchan|\n",
      "|    5|  Kanchan|     F|  2000|Marketing|     NULL|\n",
      "+-----+---------+------+------+---------+---------+\n",
      "\n"
     ]
    }
   ],
   "source": [
    "df.withColumn('lag', lead('Name',1).over(\n",
    "    Window.partitionBy('dept')\\\n",
    "    .orderBy('salary')\n",
    ")).show()"
   ]
  },
  {
   "cell_type": "code",
   "execution_count": 29,
   "id": "d7147def-bd2b-47f2-8983-ed61a9896a17",
   "metadata": {},
   "outputs": [],
   "source": [
    "spark.stop()"
   ]
  },
  {
   "cell_type": "code",
   "execution_count": null,
   "id": "29e1fbb5-62e6-4c2a-a3d8-3db49789299e",
   "metadata": {},
   "outputs": [],
   "source": []
  }
 ],
 "metadata": {
  "kernelspec": {
   "display_name": "Python 3 (ipykernel)",
   "language": "python",
   "name": "python3"
  },
  "language_info": {
   "codemirror_mode": {
    "name": "ipython",
    "version": 3
   },
   "file_extension": ".py",
   "mimetype": "text/x-python",
   "name": "python",
   "nbconvert_exporter": "python",
   "pygments_lexer": "ipython3",
   "version": "3.10.12"
  }
 },
 "nbformat": 4,
 "nbformat_minor": 5
}
