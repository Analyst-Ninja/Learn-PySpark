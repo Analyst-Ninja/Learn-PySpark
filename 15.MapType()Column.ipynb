{
 "cells": [
  {
   "cell_type": "code",
   "execution_count": 1,
   "id": "02452538-9d5f-484f-a262-a656f14c2d7f",
   "metadata": {},
   "outputs": [
    {
     "name": "stderr",
     "output_type": "stream",
     "text": [
      "24/07/12 15:49:32 WARN Utils: Your hostname, codebase resolves to a loopback address: 127.0.1.1; using 10.255.255.254 instead (on interface lo)\n",
      "24/07/12 15:49:32 WARN Utils: Set SPARK_LOCAL_IP if you need to bind to another address\n",
      "Setting default log level to \"WARN\".\n",
      "To adjust logging level use sc.setLogLevel(newLevel). For SparkR, use setLogLevel(newLevel).\n",
      "24/07/12 15:49:33 WARN NativeCodeLoader: Unable to load native-hadoop library for your platform... using builtin-java classes where applicable\n",
      "24/07/12 15:49:34 WARN Utils: Service 'SparkUI' could not bind on port 4040. Attempting port 4041.\n"
     ]
    }
   ],
   "source": [
    "from pyspark.sql import SparkSession \n",
    "\n",
    "spark = SparkSession.Builder().appName('MapType()').getOrCreate()"
   ]
  },
  {
   "cell_type": "code",
   "execution_count": 4,
   "id": "38d17b49-5b13-4f0d-944e-d137275229bb",
   "metadata": {},
   "outputs": [
    {
     "name": "stdout",
     "output_type": "stream",
     "text": [
      "+---------+------------------------------+\n",
      "|name     |skills-rating                 |\n",
      "+---------+------------------------------+\n",
      "|rohit    |{Skill -> SQL}                |\n",
      "|ajay     |{Skill -> Python, Rating -> 5}|\n",
      "|dhananjay|{Skill -> Azure, Rating -> 5} |\n",
      "+---------+------------------------------+\n",
      "\n",
      "root\n",
      " |-- name: string (nullable = true)\n",
      " |-- skills-rating: map (nullable = true)\n",
      " |    |-- key: string\n",
      " |    |-- value: string (valueContainsNull = true)\n",
      "\n"
     ]
    }
   ],
   "source": [
    "from pyspark.sql.types import StructType, StringType,StructField , MapType, IntegerType\n",
    "from pyspark.sql.functions import col, lit\n",
    "\n",
    "data = [\n",
    "    ('rohit', {'Skill' : 'SQL'}),\n",
    "    ('ajay', {'Skill' : 'Python', 'Rating' : 5}),\n",
    "    ('dhananjay', {'Skill' : 'Azure', 'Rating' : 5}),\n",
    "]\n",
    "\n",
    "# schema = StructType(\n",
    "#     [\n",
    "#         StructField('name', StringType()),\n",
    "#         StructField('Skill-Rating', MapType(StringType(), IntegerType()))\n",
    "#     ]\n",
    "# )\n",
    "\n",
    "# Or\n",
    "\n",
    "# If we don't enforce the schema as Map Type it will automatically take it as MapType() as the data is given in\n",
    "# python dictionary (Dict) \n",
    "\n",
    "schema = ['name', 'skills-rating']\n",
    "\n",
    "df = spark.createDataFrame(data, schema)\n",
    "df.show(truncate= False)\n",
    "df.printSchema()"
   ]
  },
  {
   "cell_type": "code",
   "execution_count": 5,
   "id": "b9bcbee5-2fcb-46fa-ab35-36f63e456f49",
   "metadata": {},
   "outputs": [
    {
     "name": "stdout",
     "output_type": "stream",
     "text": [
      "+---------+------------------------------+------+------+\n",
      "|name     |skills-rating                 |skill |rating|\n",
      "+---------+------------------------------+------+------+\n",
      "|rohit    |{Skill -> SQL}                |SQL   |NULL  |\n",
      "|ajay     |{Skill -> Python, Rating -> 5}|Python|5     |\n",
      "|dhananjay|{Skill -> Azure, Rating -> 5} |Azure |5     |\n",
      "+---------+------------------------------+------+------+\n",
      "\n",
      "root\n",
      " |-- name: string (nullable = true)\n",
      " |-- skills-rating: map (nullable = true)\n",
      " |    |-- key: string\n",
      " |    |-- value: string (valueContainsNull = true)\n",
      " |-- skill: string (nullable = true)\n",
      " |-- rating: string (nullable = true)\n",
      "\n"
     ]
    }
   ],
   "source": [
    "df = df.withColumn('skill', df['skills-rating']['Skill'])\n",
    "df = df.withColumn('rating', df['skills-rating'].getItem('Rating'))\n",
    "df.show(truncate=False)\n",
    "df.printSchema()"
   ]
  },
  {
   "cell_type": "code",
   "execution_count": null,
   "id": "4a6b8148-11b2-4a96-a81d-363ee374b83d",
   "metadata": {},
   "outputs": [],
   "source": [
    "df"
   ]
  },
  {
   "cell_type": "code",
   "execution_count": 36,
   "id": "c2550be6-fabe-454a-8ed0-a6c9095677f4",
   "metadata": {},
   "outputs": [],
   "source": [
    "spark.stop()"
   ]
  },
  {
   "cell_type": "code",
   "execution_count": null,
   "id": "368ae9e9-d675-4326-b984-0530f8111a0e",
   "metadata": {},
   "outputs": [],
   "source": []
  }
 ],
 "metadata": {
  "kernelspec": {
   "display_name": "Python 3 (ipykernel)",
   "language": "python",
   "name": "python3"
  },
  "language_info": {
   "codemirror_mode": {
    "name": "ipython",
    "version": 3
   },
   "file_extension": ".py",
   "mimetype": "text/x-python",
   "name": "python",
   "nbconvert_exporter": "python",
   "pygments_lexer": "ipython3",
   "version": "3.10.12"
  }
 },
 "nbformat": 4,
 "nbformat_minor": 5
}
