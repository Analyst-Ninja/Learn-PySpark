{
 "cells": [
  {
   "cell_type": "code",
   "execution_count": 2,
   "id": "47290ab6-4da4-4db2-a188-fd84d3765816",
   "metadata": {},
   "outputs": [
    {
     "name": "stderr",
     "output_type": "stream",
     "text": [
      "24/06/16 01:09:15 WARN Utils: Your hostname, codebase resolves to a loopback address: 127.0.1.1; using 10.255.255.254 instead (on interface lo)\n",
      "24/06/16 01:09:15 WARN Utils: Set SPARK_LOCAL_IP if you need to bind to another address\n",
      "Setting default log level to \"WARN\".\n",
      "To adjust logging level use sc.setLogLevel(newLevel). For SparkR, use setLogLevel(newLevel).\n",
      "24/06/16 01:09:16 WARN NativeCodeLoader: Unable to load native-hadoop library for your platform... using builtin-java classes where applicable\n"
     ]
    }
   ],
   "source": [
    "from pyspark.sql import SparkSession\n",
    "\n",
    "spark = SparkSession.Builder().appName(\"writeDFtoParquetFile\").getOrCreate()"
   ]
  },
  {
   "cell_type": "code",
   "execution_count": 4,
   "id": "97f4ed0f-2992-4c72-a25f-2ecc33849d08",
   "metadata": {},
   "outputs": [],
   "source": [
    "from pyspark.sql.types import *\n",
    "\n",
    "schema = StructType().add('id', IntegerType()).add('name', StringType())"
   ]
  },
  {
   "cell_type": "code",
   "execution_count": 5,
   "id": "150c1895-c3f6-47a4-95ef-c9aca06e8685",
   "metadata": {},
   "outputs": [
    {
     "name": "stderr",
     "output_type": "stream",
     "text": [
      "                                                                                \r"
     ]
    },
    {
     "name": "stdout",
     "output_type": "stream",
     "text": [
      "+---+-----+\n",
      "| id| name|\n",
      "+---+-----+\n",
      "|  1|Rohit|\n",
      "|  2| Ajay|\n",
      "+---+-----+\n",
      "\n",
      "root\n",
      " |-- id: integer (nullable = true)\n",
      " |-- name: string (nullable = true)\n",
      "\n"
     ]
    }
   ],
   "source": [
    "data = [\n",
    "    {\n",
    "        'id' : 1,\n",
    "        'name' : 'Rohit'\n",
    "    },\n",
    "    {\n",
    "        'id' : 2,\n",
    "        'name' : 'Ajay'\n",
    "    }\n",
    "]\n",
    "\n",
    "df = spark.createDataFrame(data = data, schema = schema)\n",
    "df.show()\n",
    "df.printSchema()"
   ]
  },
  {
   "cell_type": "code",
   "execution_count": 13,
   "id": "32061fcd-d63a-47d9-aef8-acb356e5669b",
   "metadata": {},
   "outputs": [],
   "source": [
    "df.write.mode('overwrite').parquet('data/writeToParquet')"
   ]
  },
  {
   "cell_type": "code",
   "execution_count": 14,
   "id": "a5b40ed3-9854-4cd0-8c4e-dece21a6ea43",
   "metadata": {},
   "outputs": [
    {
     "name": "stdout",
     "output_type": "stream",
     "text": [
      "+---+-----+\n",
      "| id| name|\n",
      "+---+-----+\n",
      "|  1|Rohit|\n",
      "|  2| Ajay|\n",
      "+---+-----+\n",
      "\n",
      "root\n",
      " |-- id: integer (nullable = true)\n",
      " |-- name: string (nullable = true)\n",
      "\n"
     ]
    }
   ],
   "source": [
    "df2 = spark.read.parquet('data/writeToParquet/')\n",
    "df2.show()\n",
    "df2.printSchema()"
   ]
  },
  {
   "cell_type": "code",
   "execution_count": 23,
   "id": "3063f0ff-6b70-41d0-a963-96300a224b2b",
   "metadata": {},
   "outputs": [
    {
     "name": "stdout",
     "output_type": "stream",
     "text": [
      "-RECORD 0-----\n",
      " id   | 1     \n",
      " name | Rohit \n",
      "-RECORD 1-----\n",
      " id   | 2     \n",
      " name | Ajay  \n",
      "\n"
     ]
    }
   ],
   "source": [
    "df2.show(n = 2, truncate=False, vertical=True)"
   ]
  },
  {
   "cell_type": "code",
   "execution_count": 24,
   "id": "a9b9318c-49a8-404f-b98c-45c5462cb26a",
   "metadata": {},
   "outputs": [],
   "source": [
    "spark.stop()"
   ]
  },
  {
   "cell_type": "code",
   "execution_count": null,
   "id": "0a92c67e-1d7a-4fe0-bf83-1b101a6a3b3b",
   "metadata": {},
   "outputs": [],
   "source": []
  }
 ],
 "metadata": {
  "kernelspec": {
   "display_name": "Python 3 (ipykernel)",
   "language": "python",
   "name": "python3"
  },
  "language_info": {
   "codemirror_mode": {
    "name": "ipython",
    "version": 3
   },
   "file_extension": ".py",
   "mimetype": "text/x-python",
   "name": "python",
   "nbconvert_exporter": "python",
   "pygments_lexer": "ipython3",
   "version": "3.10.12"
  }
 },
 "nbformat": 4,
 "nbformat_minor": 5
}
