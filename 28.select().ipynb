{
 "cells": [
  {
   "cell_type": "code",
   "execution_count": 1,
   "id": "dc3bee17-42a9-4de9-9965-a3aae821f6fb",
   "metadata": {},
   "outputs": [
    {
     "name": "stderr",
     "output_type": "stream",
     "text": [
      "24/06/17 12:45:39 WARN Utils: Your hostname, codebase resolves to a loopback address: 127.0.1.1; using 10.255.255.254 instead (on interface lo)\n",
      "24/06/17 12:45:39 WARN Utils: Set SPARK_LOCAL_IP if you need to bind to another address\n",
      "Setting default log level to \"WARN\".\n",
      "To adjust logging level use sc.setLogLevel(newLevel). For SparkR, use setLogLevel(newLevel).\n",
      "24/06/17 12:45:40 WARN NativeCodeLoader: Unable to load native-hadoop library for your platform... using builtin-java classes where applicable\n",
      "24/06/17 12:45:42 WARN Utils: Service 'SparkUI' could not bind on port 4040. Attempting port 4041.\n",
      "24/06/17 12:45:42 WARN Utils: Service 'SparkUI' could not bind on port 4041. Attempting port 4042.\n"
     ]
    }
   ],
   "source": [
    "from pyspark.sql import SparkSession \n",
    "from pyspark.sql.functions import col, lit, when, desc, asc, cast, like\n",
    "from pyspark.sql.types import *\n",
    "\n",
    "spark = SparkSession.Builder().appName('select()').getOrCreate()"
   ]
  },
  {
   "cell_type": "code",
   "execution_count": 2,
   "id": "68b63155-ab46-4966-bba5-7b404734eb78",
   "metadata": {},
   "outputs": [
    {
     "name": "stderr",
     "output_type": "stream",
     "text": [
      "                                                                                \r"
     ]
    },
    {
     "name": "stdout",
     "output_type": "stream",
     "text": [
      "+-------+---+------+\n",
      "|   name|age|salary|\n",
      "+-------+---+------+\n",
      "|   Ajay| 23|  3000|\n",
      "|  Rohit| 27|  2000|\n",
      "|   Hema| 26|  2000|\n",
      "|Huedsad| 26|  1233|\n",
      "+-------+---+------+\n",
      "\n"
     ]
    }
   ],
   "source": [
    "data1 = [\n",
    "    ('Ajay', 23, 3000),\n",
    "    ('Rohit', 27, 2000),\n",
    "    ('Hema', 26, 2000),\n",
    "    ('Huedsad', 26, 1233),\n",
    "]\n",
    "schema = ['name', 'age', 'salary']\n",
    "\n",
    "df1 = spark.createDataFrame(data1, schema)\n",
    "df1.show()"
   ]
  },
  {
   "cell_type": "code",
   "execution_count": 3,
   "id": "30574230-89ea-4353-bdd9-7ba489c1cc70",
   "metadata": {},
   "outputs": [
    {
     "name": "stdout",
     "output_type": "stream",
     "text": [
      "+-------+---+\n",
      "|   name|age|\n",
      "+-------+---+\n",
      "|   Ajay| 23|\n",
      "|  Rohit| 27|\n",
      "|   Hema| 26|\n",
      "|Huedsad| 26|\n",
      "+-------+---+\n",
      "\n",
      "+-------+---+\n",
      "|   name|age|\n",
      "+-------+---+\n",
      "|   Ajay| 23|\n",
      "|  Rohit| 27|\n",
      "|   Hema| 26|\n",
      "|Huedsad| 26|\n",
      "+-------+---+\n",
      "\n",
      "+-------+---+\n",
      "|   name|age|\n",
      "+-------+---+\n",
      "|   Ajay| 23|\n",
      "|  Rohit| 27|\n",
      "|   Hema| 26|\n",
      "|Huedsad| 26|\n",
      "+-------+---+\n",
      "\n",
      "+-------+---+\n",
      "|   name|age|\n",
      "+-------+---+\n",
      "|   Ajay| 23|\n",
      "|  Rohit| 27|\n",
      "|   Hema| 26|\n",
      "|Huedsad| 26|\n",
      "+-------+---+\n",
      "\n",
      "+-------+---+------+\n",
      "|   name|age|salary|\n",
      "+-------+---+------+\n",
      "|   Ajay| 23|  3000|\n",
      "|  Rohit| 27|  2000|\n",
      "|   Hema| 26|  2000|\n",
      "|Huedsad| 26|  1233|\n",
      "+-------+---+------+\n",
      "\n",
      "+-------+---+------+\n",
      "|   name|age|salary|\n",
      "+-------+---+------+\n",
      "|   Ajay| 23|  3000|\n",
      "|  Rohit| 27|  2000|\n",
      "|   Hema| 26|  2000|\n",
      "|Huedsad| 26|  1233|\n",
      "+-------+---+------+\n",
      "\n",
      "+-------+\n",
      "|   name|\n",
      "+-------+\n",
      "|   Ajay|\n",
      "|  Rohit|\n",
      "|   Hema|\n",
      "|Huedsad|\n",
      "+-------+\n",
      "\n"
     ]
    }
   ],
   "source": [
    "df1.select(['name', 'age']).show()\n",
    "df1.select('name', 'age').show()\n",
    "df1.select(col('name'), col('age')).show()\n",
    "df1.select(df1['name'], df1['age']).show()\n",
    "df1.select(\"*\").show()\n",
    "df1.select([col for col in df1.columns]).show()\n",
    "df1.select([col for col in df1.columns if col == 'name']).show()"
   ]
  },
  {
   "cell_type": "code",
   "execution_count": 4,
   "id": "56d7d4dc-2719-4b59-b882-d32b9c19039c",
   "metadata": {},
   "outputs": [],
   "source": [
    "spark.stop()"
   ]
  },
  {
   "cell_type": "code",
   "execution_count": null,
   "id": "72b8e6b4-842a-481a-8f9b-92b0e3c71417",
   "metadata": {},
   "outputs": [],
   "source": []
  }
 ],
 "metadata": {
  "kernelspec": {
   "display_name": "Python 3 (ipykernel)",
   "language": "python",
   "name": "python3"
  },
  "language_info": {
   "codemirror_mode": {
    "name": "ipython",
    "version": 3
   },
   "file_extension": ".py",
   "mimetype": "text/x-python",
   "name": "python",
   "nbconvert_exporter": "python",
   "pygments_lexer": "ipython3",
   "version": "3.10.12"
  }
 },
 "nbformat": 4,
 "nbformat_minor": 5
}
