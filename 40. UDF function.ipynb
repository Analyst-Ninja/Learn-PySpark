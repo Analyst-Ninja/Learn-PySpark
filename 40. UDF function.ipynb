{
 "cells": [
  {
   "cell_type": "code",
   "execution_count": 4,
   "id": "2015ca25-a852-4bfe-a3ca-7c17ebf1b129",
   "metadata": {},
   "outputs": [],
   "source": [
    "from pyspark.sql.types import *\n",
    "from pyspark.sql import SparkSession\n",
    "from pyspark.sql.functions import min, max, upper, trim, udf, col\n",
    "\n",
    "spark = SparkSession.Builder().appName('Views').getOrCreate()"
   ]
  },
  {
   "cell_type": "code",
   "execution_count": 2,
   "id": "6f5c2962-afa5-4ae9-9046-87371f41181d",
   "metadata": {},
   "outputs": [
    {
     "name": "stderr",
     "output_type": "stream",
     "text": [
      "                                                                                \r"
     ]
    },
    {
     "name": "stdout",
     "output_type": "stream",
     "text": [
      "+---+-----+------+-----+\n",
      "| id| name|salary|bonus|\n",
      "+---+-----+------+-----+\n",
      "|  1|Rohit|  1000|  100|\n",
      "|  2| Ajay|  3000|  200|\n",
      "+---+-----+------+-----+\n",
      "\n"
     ]
    }
   ],
   "source": [
    "data = [\n",
    "    (1, 'Rohit', 1000, 100),\n",
    "    (2, 'Ajay', 3000, 200),\n",
    "]\n",
    "\n",
    "schema = ['id', 'name', 'salary', 'bonus']\n",
    "\n",
    "df = spark.createDataFrame(data, schema)\n",
    "df.show()"
   ]
  },
  {
   "cell_type": "code",
   "execution_count": 9,
   "id": "6f9e83d4-76ae-47f9-a81f-06edf0156ee0",
   "metadata": {},
   "outputs": [
    {
     "name": "stdout",
     "output_type": "stream",
     "text": [
      "+---+-----+------+-----+------------+\n",
      "| id| name|salary|bonus|TotalPayment|\n",
      "+---+-----+------+-----+------------+\n",
      "|  1|Rohit|  1000|  100|        1100|\n",
      "|  2| Ajay|  3000|  200|        3200|\n",
      "+---+-----+------+-----+------------+\n",
      "\n",
      "+---+-----+------+-----+------------+\n",
      "| id| name|salary|bonus|TotalPayment|\n",
      "+---+-----+------+-----+------------+\n",
      "|  1|Rohit|  1000|  100|        1100|\n",
      "|  2| Ajay|  3000|  200|        3200|\n",
      "+---+-----+------+-----+------------+\n",
      "\n"
     ]
    }
   ],
   "source": [
    "def totalPay(s,b):\n",
    "    return s+b\n",
    "\n",
    "TotalPay = udf(lambda x,y : totalPay(x,y), IntegerType())\n",
    "\n",
    "df.select(\"*\", TotalPay(col('salary'), col('bonus')).alias('TotalPayment')).show()\n",
    "df.select(\"*\", TotalPay(df.salary, df.bonus).alias('TotalPayment')).show()"
   ]
  },
  {
   "cell_type": "code",
   "execution_count": null,
   "id": "9152f205-0b24-4e5c-9bc7-d2c36ba92c17",
   "metadata": {},
   "outputs": [],
   "source": [
    "@udf(returnType=IntegerType())\n",
    "def totalPay(s,b):\n",
    "    return s+b"
   ]
  },
  {
   "cell_type": "code",
   "execution_count": 11,
   "id": "3784b744-70f1-43c9-8a4b-b46d56d4f890",
   "metadata": {},
   "outputs": [
    {
     "name": "stdout",
     "output_type": "stream",
     "text": [
      "+---+-----+------+-----+------------+\n",
      "| id| name|salary|bonus|TotalPayment|\n",
      "+---+-----+------+-----+------------+\n",
      "|  1|Rohit|  1000|  100|        1100|\n",
      "|  2| Ajay|  3000|  200|        3200|\n",
      "+---+-----+------+-----+------------+\n",
      "\n",
      "+---+-----+------+-----+------------+\n",
      "| id| name|salary|bonus|TotalPayment|\n",
      "+---+-----+------+-----+------------+\n",
      "|  1|Rohit|  1000|  100|        1100|\n",
      "|  2| Ajay|  3000|  200|        3200|\n",
      "+---+-----+------+-----+------------+\n",
      "\n",
      "+---+-----+------+-----+--------+\n",
      "| id| name|salary|bonus|TotalPay|\n",
      "+---+-----+------+-----+--------+\n",
      "|  1|Rohit|  1000|  100|    1100|\n",
      "|  2| Ajay|  3000|  200|    3200|\n",
      "+---+-----+------+-----+--------+\n",
      "\n"
     ]
    }
   ],
   "source": [
    "df.select(\"*\", totalPay(col('salary'), col('bonus')).alias('TotalPayment')).show()\n",
    "df.select(\"*\", totalPay(df.salary, df.bonus).alias('TotalPayment')).show()\n",
    "df.withColumn('TotalPay', totalPay(df.salary, df.bonus)).show()"
   ]
  },
  {
   "cell_type": "code",
   "execution_count": 12,
   "id": "01dacad6-87ce-4c67-8412-20f8bb647472",
   "metadata": {},
   "outputs": [],
   "source": [
    "## Creating a temp view for the table\n",
    "df.createOrReplaceTempView('employees')"
   ]
  },
  {
   "cell_type": "code",
   "execution_count": 14,
   "id": "c5509b1f-00da-42f9-8ff5-4cbc6e0fc1d6",
   "metadata": {},
   "outputs": [
    {
     "name": "stdout",
     "output_type": "stream",
     "text": [
      "+---+-----+------+-----+\n",
      "| id| name|salary|bonus|\n",
      "+---+-----+------+-----+\n",
      "|  1|Rohit|  1000|  100|\n",
      "|  2| Ajay|  3000|  200|\n",
      "+---+-----+------+-----+\n",
      "\n"
     ]
    }
   ],
   "source": [
    "spark.sql(\n",
    "    \"\"\"\n",
    "    SELECT * FROM employees\n",
    "    \"\"\"\n",
    ").show()"
   ]
  },
  {
   "cell_type": "markdown",
   "id": "34b22604-3f45-4cc3-88ef-7acaf3b5b1be",
   "metadata": {},
   "source": [
    "#### Registering the UDF to spark"
   ]
  },
  {
   "cell_type": "code",
   "execution_count": 20,
   "id": "a072f6b7-1dda-4588-bda0-960ea0a0199d",
   "metadata": {},
   "outputs": [
    {
     "name": "stderr",
     "output_type": "stream",
     "text": [
      "24/06/17 20:49:38 WARN SimpleFunctionRegistry: The function totalpay replaced a previously registered function.\n"
     ]
    },
    {
     "data": {
      "text/plain": [
       "<function __main__.totalPay(s, b)>"
      ]
     },
     "execution_count": 20,
     "metadata": {},
     "output_type": "execute_result"
    }
   ],
   "source": [
    "spark.udf.register(name='TotalPay', f = totalPay, returnType = IntegerType())"
   ]
  },
  {
   "cell_type": "code",
   "execution_count": 21,
   "id": "7135bce5-9765-47dd-9533-4c2d183d3975",
   "metadata": {},
   "outputs": [
    {
     "name": "stdout",
     "output_type": "stream",
     "text": [
      "+---+-----+------+-----+------------+\n",
      "| id| name|salary|bonus|TotalPayment|\n",
      "+---+-----+------+-----+------------+\n",
      "|  1|Rohit|  1000|  100|        1100|\n",
      "|  2| Ajay|  3000|  200|        3200|\n",
      "+---+-----+------+-----+------------+\n",
      "\n"
     ]
    }
   ],
   "source": [
    "spark.sql(\n",
    "    \"\"\"\n",
    "    SELECT *, TotalPay(salary, bonus) as TotalPayment \n",
    "    FROM employees\n",
    "    \"\"\"\n",
    ").show()"
   ]
  },
  {
   "cell_type": "code",
   "execution_count": 1,
   "id": "3cac6e6c-fcac-434f-adc1-465c11c2bb60",
   "metadata": {},
   "outputs": [
    {
     "ename": "NameError",
     "evalue": "name 'spark' is not defined",
     "output_type": "error",
     "traceback": [
      "\u001b[0;31m---------------------------------------------------------------------------\u001b[0m",
      "\u001b[0;31mNameError\u001b[0m                                 Traceback (most recent call last)",
      "Cell \u001b[0;32mIn[1], line 1\u001b[0m\n\u001b[0;32m----> 1\u001b[0m \u001b[43mspark\u001b[49m\u001b[38;5;241m.\u001b[39mstop()\n",
      "\u001b[0;31mNameError\u001b[0m: name 'spark' is not defined"
     ]
    }
   ],
   "source": [
    "spark.stop()"
   ]
  },
  {
   "cell_type": "code",
   "execution_count": null,
   "id": "bfce8e18-9454-4dee-b680-a488d1148f0e",
   "metadata": {},
   "outputs": [],
   "source": []
  }
 ],
 "metadata": {
  "kernelspec": {
   "display_name": "Python 3 (ipykernel)",
   "language": "python",
   "name": "python3"
  },
  "language_info": {
   "codemirror_mode": {
    "name": "ipython",
    "version": 3
   },
   "file_extension": ".py",
   "mimetype": "text/x-python",
   "name": "python",
   "nbconvert_exporter": "python",
   "pygments_lexer": "ipython3",
   "version": "3.10.12"
  }
 },
 "nbformat": 4,
 "nbformat_minor": 5
}
