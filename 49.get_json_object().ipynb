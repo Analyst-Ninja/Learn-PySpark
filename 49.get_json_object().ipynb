{
 "cells": [
  {
   "cell_type": "code",
   "execution_count": 1,
   "id": "c0dd5a82-89b3-40e0-9da9-b53cd2775d2e",
   "metadata": {},
   "outputs": [
    {
     "data": {
      "text/html": [
       "<style>pre { white-space: pre !important; }</style>"
      ],
      "text/plain": [
       "<IPython.core.display.HTML object>"
      ]
     },
     "metadata": {},
     "output_type": "display_data"
    },
    {
     "name": "stderr",
     "output_type": "stream",
     "text": [
      "24/06/18 12:59:21 WARN Utils: Your hostname, codebase resolves to a loopback address: 127.0.1.1; using 10.255.255.254 instead (on interface lo)\n",
      "24/06/18 12:59:21 WARN Utils: Set SPARK_LOCAL_IP if you need to bind to another address\n",
      "Setting default log level to \"WARN\".\n",
      "To adjust logging level use sc.setLogLevel(newLevel). For SparkR, use setLogLevel(newLevel).\n",
      "24/06/18 12:59:22 WARN NativeCodeLoader: Unable to load native-hadoop library for your platform... using builtin-java classes where applicable\n"
     ]
    }
   ],
   "source": [
    "from pyspark.sql.types import *\n",
    "from pyspark.sql import SparkSession\n",
    "from pyspark.sql.functions import min, max, upper, trim, from_json, to_json, json_tuple, get_json_object\n",
    "from IPython.core.display import HTML\n",
    "display(HTML(\"<style>pre { white-space: pre !important; }</style>\"))\n",
    "\n",
    "spark = SparkSession.Builder().appName('from_json(), to_json(), json_tuple() function').getOrCreate()"
   ]
  },
  {
   "cell_type": "code",
   "execution_count": 11,
   "id": "2b0b8158-e7c9-4924-b14b-dec300009331",
   "metadata": {},
   "outputs": [
    {
     "name": "stdout",
     "output_type": "stream",
     "text": [
      "+-----+-----------------------------------------------------------------+\n",
      "|name |props                                                            |\n",
      "+-----+-----------------------------------------------------------------+\n",
      "|Rohit|{'address' : {'city' : 'MTR', 'state' : 'UP'}, 'gender' : 'male'}|\n",
      "|Ajay |{'address' : {'city' : 'MTR', 'state' : 'UP'}, 'eye' : 'black'}  |\n",
      "+-----+-----------------------------------------------------------------+\n",
      "\n",
      "root\n",
      " |-- name: string (nullable = true)\n",
      " |-- props: string (nullable = true)\n",
      "\n"
     ]
    }
   ],
   "source": [
    "data = [\n",
    "    ('Rohit', \"{'address' : {'city' : 'MTR', 'state' : 'UP'}, 'gender' : 'male'}\"),\n",
    "    ('Ajay', \"{'address' : {'city' : 'MTR', 'state' : 'UP'}, 'eye' : 'black'}\"),\n",
    "]\n",
    "\n",
    "schema = ['name', 'props']\n",
    "\n",
    "df = spark.createDataFrame(data, schema)\n",
    "df.show(truncate=False)\n",
    "df.printSchema()"
   ]
  },
  {
   "cell_type": "code",
   "execution_count": 12,
   "id": "0cffb52e-2b21-407f-89cf-039230142fa7",
   "metadata": {},
   "outputs": [
    {
     "name": "stdout",
     "output_type": "stream",
     "text": [
      "+-----+----+-----+------+-----+\n",
      "| name|city|state|gender|  eye|\n",
      "+-----+----+-----+------+-----+\n",
      "|Rohit| MTR|   UP|  male| NULL|\n",
      "| Ajay| MTR|   UP|  NULL|black|\n",
      "+-----+----+-----+------+-----+\n",
      "\n"
     ]
    }
   ],
   "source": [
    "df.select(df.name\n",
    "          ,get_json_object('props', '$.address.city').alias('city')\n",
    "          ,get_json_object('props', '$.address.state').alias('state')\n",
    "          ,get_json_object('props', '$.gender').alias('gender')\n",
    "          ,get_json_object('props', '$.eye').alias('eye')\n",
    "         )\\\n",
    ".show()"
   ]
  },
  {
   "cell_type": "code",
   "execution_count": 21,
   "id": "eec3b4a4-63ef-4c5e-beb8-1dcc744f3f40",
   "metadata": {},
   "outputs": [
    {
     "name": "stdout",
     "output_type": "stream",
     "text": [
      "+-----+-----------------------------------------------------------------+----+-----+------+-----+\n",
      "|name |props                                                            |city|state|gender|eye  |\n",
      "+-----+-----------------------------------------------------------------+----+-----+------+-----+\n",
      "|Rohit|{'address' : {'city' : 'MTR', 'state' : 'UP'}, 'gender' : 'male'}|MTR |UP   |male  |NULL |\n",
      "|Ajay |{'address' : {'city' : 'MTR', 'state' : 'UP'}, 'eye' : 'black'}  |MTR |UP   |NULL  |black|\n",
      "+-----+-----------------------------------------------------------------+----+-----+------+-----+\n",
      "\n",
      "root\n",
      " |-- name: string (nullable = true)\n",
      " |-- props: string (nullable = true)\n",
      " |-- city: string (nullable = true)\n",
      " |-- state: string (nullable = true)\n",
      " |-- gender: string (nullable = true)\n",
      " |-- eye: string (nullable = true)\n",
      "\n"
     ]
    }
   ],
   "source": [
    "df1 = df.withColumn('city', get_json_object('props', '$.address.city'))\\\n",
    "        .withColumn('state', get_json_object('props', '$.address.state'))\\\n",
    "        .withColumn('gender', get_json_object('props', '$.gender'))\\\n",
    "        .withColumn('eye', get_json_object('props', '$.eye'))\n",
    "df1.show(truncate=False)\n",
    "df1.printSchema()"
   ]
  },
  {
   "cell_type": "code",
   "execution_count": 22,
   "id": "c5160cce-a283-4b5b-aca8-1163e33c28f7",
   "metadata": {},
   "outputs": [],
   "source": [
    "spark.stop()"
   ]
  },
  {
   "cell_type": "code",
   "execution_count": null,
   "id": "140b33fa-aafe-4f8e-90da-ec6ba04415c4",
   "metadata": {},
   "outputs": [],
   "source": []
  }
 ],
 "metadata": {
  "kernelspec": {
   "display_name": "Python 3 (ipykernel)",
   "language": "python",
   "name": "python3"
  },
  "language_info": {
   "codemirror_mode": {
    "name": "ipython",
    "version": 3
   },
   "file_extension": ".py",
   "mimetype": "text/x-python",
   "name": "python",
   "nbconvert_exporter": "python",
   "pygments_lexer": "ipython3",
   "version": "3.10.12"
  }
 },
 "nbformat": 4,
 "nbformat_minor": 5
}
