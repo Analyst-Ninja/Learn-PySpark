{
 "cells": [
  {
   "cell_type": "code",
   "execution_count": 3,
   "id": "bba58fb2-15ac-468d-8f7d-efd9edd1bee1",
   "metadata": {},
   "outputs": [
    {
     "data": {
      "text/html": [
       "<style>pre { white-space: pre !important; }</style>"
      ],
      "text/plain": [
       "<IPython.core.display.HTML object>"
      ]
     },
     "metadata": {},
     "output_type": "display_data"
    }
   ],
   "source": [
    "from pyspark.sql.types import *\n",
    "from pyspark.sql import SparkSession\n",
    "from pyspark.sql.functions import min, max, upper, trim\n",
    "from IPython.core.display import HTML\n",
    "display(HTML(\"<style>pre { white-space: pre !important; }</style>\"))\n",
    "\n",
    "spark = SparkSession.Builder().appName('map() & flatMap() transformation on RDD').getOrCreate()"
   ]
  },
  {
   "cell_type": "code",
   "execution_count": 26,
   "id": "e02d433d-e07b-4161-a234-eabae5fd7d1f",
   "metadata": {},
   "outputs": [
    {
     "name": "stdout",
     "output_type": "stream",
     "text": [
      "+-------------------+---+----------+---------+--------------------+------+---------------+-------------------+--------------------+----------+---------+--------------------+--------------------+\n",
      "|  registration_dttm| id|first_name|last_name|               email|gender|     ip_address|                 cc|             country| birthdate|   salary|               title|            comments|\n",
      "+-------------------+---+----------+---------+--------------------+------+---------------+-------------------+--------------------+----------+---------+--------------------+--------------------+\n",
      "|2016-02-03 13:25:29|  1|    Amanda|   Jordan|    ajordan0@com.com|Female|    1.197.201.2|   6759521864920116|           Indonesia|  3/8/1971| 49756.53|    Internal Auditor|               1E+02|\n",
      "|2016-02-03 22:34:03|  2|    Albert|  Freeman|     afreeman1@is.gd|  Male| 218.111.175.34|                   |              Canada| 1/16/1968|150280.17|       Accountant IV|                    |\n",
      "|2016-02-03 06:39:31|  3|    Evelyn|   Morgan|emorgan2@altervis...|Female|   7.161.136.94|   6767119071901597|              Russia|  2/1/1960|144972.51| Structural Engineer|                    |\n",
      "|2016-02-03 06:06:21|  4|    Denise|    Riley|    driley3@gmpg.org|Female|  140.35.109.83|   3576031598965625|               China|  4/8/1997| 90263.05|Senior Cost Accou...|                    |\n",
      "|2016-02-03 10:35:31|  5|    Carlos|    Burns|cburns4@miitbeian...|      | 169.113.235.40|   5602256255204850|        South Africa|          |     NULL|                    |                    |\n",
      "|2016-02-03 12:52:34|  6|   Kathryn|    White|  kwhite5@google.com|Female| 195.131.81.179|   3583136326049310|           Indonesia| 2/25/1983| 69227.11|   Account Executive|                    |\n",
      "|2016-02-03 14:03:08|  7|    Samuel|   Holmes|sholmes6@foxnews.com|  Male| 232.234.81.197|   3582641366974690|            Portugal|12/18/1987| 14247.62|Senior Financial ...|                    |\n",
      "|2016-02-03 12:17:06|  8|     Harry|   Howell| hhowell7@eepurl.com|  Male|   91.235.51.73|                   |Bosnia and Herzeg...|  3/1/1962|186469.43|    Web Developer IV|                    |\n",
      "|2016-02-03 09:22:53|  9|      Jose|   Foster|   jfoster8@yelp.com|  Male|   132.31.53.61|                   |         South Korea| 3/27/1992|231067.84|Software Test Eng...|               1E+02|\n",
      "|2016-02-03 23:59:47| 10|     Emily|  Stewart|estewart9@opensou...|Female| 143.28.251.245|   3574254110301671|             Nigeria| 1/28/1997| 27234.28|     Health Coach IV|                    |\n",
      "|2016-02-03 05:40:42| 11|     Susan|  Perkins| sperkinsa@patch.com|Female|    180.85.0.62|   3573823609854134|              Russia|          |210001.95|                    |                    |\n",
      "|2016-02-03 23:34:34| 12|     Alice|    Berry|aberryb@wikipedia...|Female| 246.225.12.189|   4917830851454417|               China| 8/12/1968| 22944.53|    Quality Engineer|                    |\n",
      "|2016-02-04 00:18:17| 13|    Justin|    Berry|jberryc@usatoday.com|  Male|   157.7.146.43|6331109912871813274|              Zambia| 8/15/1975| 44165.46|Structural Analys...|                    |\n",
      "|2016-02-04 03:16:52| 14|     Kathy| Reynolds|kreynoldsd@redcro...|Female|  81.254.172.13|   5537178462965976|Bosnia and Herzeg...| 6/27/1970|286592.99|           Librarian|                    |\n",
      "|2016-02-03 14:23:23| 15|   Dorothy|   Hudson|dhudsone@blogger.com|Female|       8.59.7.0|   3542586858224170|               Japan|12/20/1989|157099.71|  Nurse Practicioner|<script>alert('hi...|\n",
      "|2016-02-03 06:14:01| 16|     Bruce|   Willis|bwillisf@bluehost...|  Male|239.182.219.189|   3573030625927601|              Brazil|          |239100.65|                    |                    |\n",
      "|2016-02-03 06:27:45| 17|     Emily|  Andrews|eandrewsg@cornell...|Female| 29.231.180.172|     30271790537626|              Russia| 4/13/1990|116800.65|        Food Chemist|                    |\n",
      "|2016-02-03 22:14:24| 18|   Stephen|  Wallace|swallaceh@netvibe...|  Male|  152.49.213.62|   5433943468526428|             Ukraine| 1/15/1978|248877.99|Account Represent...|                    |\n",
      "|2016-02-03 17:15:54| 19|  Clarence|   Lawson|clawsoni@vkontakt...|  Male| 107.175.15.152|   3544052814080964|              Russia|          |177122.99|                    |                    |\n",
      "|2016-02-03 16:00:36| 20|   Rebecca|     Bell| rbellj@bandcamp.com|Female|172.215.104.127|                   |               China|          |137251.19|                    |                    |\n",
      "+-------------------+---+----------+---------+--------------------+------+---------------+-------------------+--------------------+----------+---------+--------------------+--------------------+\n",
      "only showing top 20 rows\n",
      "\n"
     ]
    },
    {
     "data": {
      "text/plain": [
       "2000"
      ]
     },
     "execution_count": 26,
     "metadata": {},
     "output_type": "execute_result"
    }
   ],
   "source": [
    "df = spark.read.parquet('parquetData/')\n",
    "df.show()\n",
    "df.count()"
   ]
  },
  {
   "cell_type": "code",
   "execution_count": 27,
   "id": "368bbff9-c90a-4513-a5f7-d4be99fc8e53",
   "metadata": {},
   "outputs": [
    {
     "name": "stdout",
     "output_type": "stream",
     "text": [
      "+------+-----------+\n",
      "|gender|max(salary)|\n",
      "+------+-----------+\n",
      "|Female|  286592.99|\n",
      "|  Male|  286388.01|\n",
      "|      |       NULL|\n",
      "+------+-----------+\n",
      "\n",
      "CPU times: user 7.47 ms, sys: 0 ns, total: 7.47 ms\n",
      "Wall time: 235 ms\n"
     ]
    }
   ],
   "source": [
    "%%time\n",
    "df.groupBy('gender').max('salary').show()"
   ]
  },
  {
   "cell_type": "code",
   "execution_count": 28,
   "id": "983e3838-fd0f-4833-b7ae-94b242d21cb3",
   "metadata": {},
   "outputs": [
    {
     "name": "stderr",
     "output_type": "stream",
     "text": [
      "                                                                                \r"
     ]
    }
   ],
   "source": [
    "df.write.parquet('data/writeToParquet/'\n",
    "                ,mode = 'overwrite'\n",
    "                ,partitionBy=['gender','country'])"
   ]
  },
  {
   "cell_type": "code",
   "execution_count": 36,
   "id": "e31ce4c3-f7cf-40f4-b179-4ef916a3353c",
   "metadata": {},
   "outputs": [
    {
     "name": "stdout",
     "output_type": "stream",
     "text": [
      "CPU times: user 6.72 ms, sys: 0 ns, total: 6.72 ms\n",
      "Wall time: 1.27 s\n"
     ]
    },
    {
     "data": {
      "text/plain": [
       "2000"
      ]
     },
     "execution_count": 36,
     "metadata": {},
     "output_type": "execute_result"
    }
   ],
   "source": [
    "%%time\n",
    "df = spark.read.parquet('data/writeToParquet/')\n",
    "df.count()"
   ]
  },
  {
   "cell_type": "code",
   "execution_count": 37,
   "id": "4e7f43b8-1323-4795-8335-b1e1df4302d3",
   "metadata": {},
   "outputs": [
    {
     "name": "stdout",
     "output_type": "stream",
     "text": [
      "+------+-----------+\n",
      "|gender|max(salary)|\n",
      "+------+-----------+\n",
      "|Female|  286592.99|\n",
      "|  Male|  286388.01|\n",
      "|  NULL|       NULL|\n",
      "+------+-----------+\n",
      "\n",
      "CPU times: user 4.56 ms, sys: 2.49 ms, total: 7.04 ms\n",
      "Wall time: 615 ms\n"
     ]
    }
   ],
   "source": [
    "%%time\n",
    "df.groupBy('gender').max('salary').show()"
   ]
  },
  {
   "cell_type": "code",
   "execution_count": 40,
   "id": "7307f812-d058-4e8a-b567-7fb627d5eb44",
   "metadata": {},
   "outputs": [
    {
     "name": "stdout",
     "output_type": "stream",
     "text": [
      "+-------------------+---+----------+----------+--------------------+---------------+-------------------+----------+---------+--------------------+--------------------+-------+\n",
      "|  registration_dttm| id|first_name| last_name|               email|     ip_address|                 cc| birthdate|   salary|               title|            comments|country|\n",
      "+-------------------+---+----------+----------+--------------------+---------------+-------------------+----------+---------+--------------------+--------------------+-------+\n",
      "|2016-02-03 06:06:21|  4|    Denise|     Riley|    driley3@gmpg.org|  140.35.109.83|   3576031598965625|  4/8/1997| 90263.05|Senior Cost Accou...|                    |  China|\n",
      "|2016-02-03 23:34:34| 12|     Alice|     Berry|aberryb@wikipedia...| 246.225.12.189|   4917830851454417| 8/12/1968| 22944.53|    Quality Engineer|                    |  China|\n",
      "|2016-02-03 16:00:36| 20|   Rebecca|      Bell| rbellj@bandcamp.com|172.215.104.127|                   |          |137251.19|                    |                    |  China|\n",
      "|2016-02-04 02:16:39| 37|   Dorothy|     Gomez|dgomez10@jiathis.com| 65.111.200.146| 493684876859391834|          | 57194.86|                    |                    |  China|\n",
      "|2016-02-03 14:04:26| 43|    Amanda|      Gray|  agray16@cdbaby.com| 252.20.193.145|   3561501596653859| 8/28/1967|213410.26|Senior Quality En...|                    |  China|\n",
      "|2016-02-03 21:33:13| 55|      Anna|Montgomery|amontgomery1i@goo...|  80.111.141.47|   3586860392406446|  9/6/1957|  92837.5|Software Test Eng...|                 1E2|  China|\n",
      "|2016-02-03 22:43:13| 59|  Patricia|  Marshall|pmarshall1m@dell.com| 47.108.196.175|                   | 7/21/1984| 69236.54|Environmental Spe...|                    |  China|\n",
      "|2016-02-03 23:54:24| 73|  Kimberly|   Wheeler|kwheeler20@imgur.com|    26.46.50.55|                   | 11/6/1978| 31026.94|    Junior Executive|                    |  China|\n",
      "|2016-02-03 11:27:35| 77|    Denise|    Nguyen|   dnguyen24@ovh.net|  18.208.48.116|    201900233821394|          |121013.48|                    |                    |  China|\n",
      "|2016-02-04 05:13:15| 82|     Carol|  Franklin|cfranklin29@marke...|  32.189.30.244|  67097647572873744|  6/5/1978| 31572.53|Automation Specia...|                    |  China|\n",
      "|2016-02-04 00:15:51| 90|Jacqueline|      Carr|jcarr2h@freewebs.com|   197.40.38.49|    201939989746686| 5/31/1961|100733.44|      Civil Engineer|           (｡◕ ∀ ◕｡)|  China|\n",
      "|2016-02-04 04:31:52|127|   Deborah|    Porter|dporter3i@istockp...|  171.36.77.142|4903389517897807181| 5/18/1959|271474.26|         Engineer II|Ṱ̺̺̕o͞ ̷i̲̬͇̪͙n̝...|  China|\n",
      "|2016-02-03 08:23:31|133|    Nicole|    Fuller|nfuller3o@toplist.cz| 120.58.181.200|    201789371484028|          |239135.31|                    |                    |  China|\n",
      "|2016-02-03 23:38:58|143|    Sharon|      Reid| sreid3y@cbsnews.com|241.243.225.183|   4844180975298326|          |267939.14|                    |                    |  China|\n",
      "|2016-02-03 20:46:54|172|  Virginia|    Wagner| vwagner4r@prlog.org|224.221.101.105|   3545840865831940| 6/12/1985|116359.29| Software Consultant|                    |  China|\n",
      "|2016-02-03 06:02:57|173|       Amy|     Garza|agarza4s@wootheme...|  75.187.251.37|                   |          | 82283.83|                    |                    |  China|\n",
      "|2016-02-03 09:16:17|176|     Alice|     Perez|   aperez4v@cnbc.com| 235.132.21.103|                   |10/19/1971| 16022.68| Associate Professor|                    |  China|\n",
      "|2016-02-04 04:29:42|177|     Norma|    Tucker|  ntucker4w@ucoz.com|   25.28.214.56|     30508150908628| 1/26/1958|127715.63|Accounting Assist...|                    |  China|\n",
      "|2016-02-03 10:32:39|183|     Emily|    Jordan|ejordan52@reverbn...| 146.113.31.114|   3566081061776258| 8/10/2000|235320.55|  VP Quality Control|                    |  China|\n",
      "|2016-02-03 11:08:15|184|    Angela|Cunningham|acunningham53@exa...|   12.18.181.94|   3542227694452473|12/12/1960|220720.28|      Tax Accountant|                    |  China|\n",
      "+-------------------+---+----------+----------+--------------------+---------------+-------------------+----------+---------+--------------------+--------------------+-------+\n",
      "only showing top 20 rows\n",
      "\n"
     ]
    }
   ],
   "source": [
    "df = spark.read.parquet('data/writeToParquet/gender=Female')\n",
    "# removed the Gender column from the dataset\n",
    "df.count()\n",
    "df.show()"
   ]
  },
  {
   "cell_type": "code",
   "execution_count": null,
   "id": "3676d8f8-2716-4730-b481-fdd587816121",
   "metadata": {},
   "outputs": [],
   "source": [
    "spar.stop()"
   ]
  }
 ],
 "metadata": {
  "kernelspec": {
   "display_name": "Python 3 (ipykernel)",
   "language": "python",
   "name": "python3"
  },
  "language_info": {
   "codemirror_mode": {
    "name": "ipython",
    "version": 3
   },
   "file_extension": ".py",
   "mimetype": "text/x-python",
   "name": "python",
   "nbconvert_exporter": "python",
   "pygments_lexer": "ipython3",
   "version": "3.10.12"
  }
 },
 "nbformat": 4,
 "nbformat_minor": 5
}
