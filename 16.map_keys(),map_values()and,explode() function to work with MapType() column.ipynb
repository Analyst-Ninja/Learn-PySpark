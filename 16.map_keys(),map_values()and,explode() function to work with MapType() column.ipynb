{
 "cells": [
  {
   "cell_type": "code",
   "execution_count": 1,
   "id": "9c90ab3d-5744-4722-81a2-037cf3764a5e",
   "metadata": {},
   "outputs": [
    {
     "name": "stderr",
     "output_type": "stream",
     "text": [
      "24/06/16 12:19:31 WARN Utils: Your hostname, codebase resolves to a loopback address: 127.0.1.1; using 10.255.255.254 instead (on interface lo)\n",
      "24/06/16 12:19:31 WARN Utils: Set SPARK_LOCAL_IP if you need to bind to another address\n",
      "Setting default log level to \"WARN\".\n",
      "To adjust logging level use sc.setLogLevel(newLevel). For SparkR, use setLogLevel(newLevel).\n",
      "24/06/16 12:19:32 WARN NativeCodeLoader: Unable to load native-hadoop library for your platform... using builtin-java classes where applicable\n",
      "24/06/16 12:19:33 WARN Utils: Service 'SparkUI' could not bind on port 4040. Attempting port 4041.\n"
     ]
    }
   ],
   "source": [
    "from pyspark.sql import SparkSession \n",
    "\n",
    "spark = SparkSession.Builder().appName('MapFunctions').getOrCreate()"
   ]
  },
  {
   "cell_type": "code",
   "execution_count": 5,
   "id": "81eb692d-7543-497b-8329-301776ab9d56",
   "metadata": {},
   "outputs": [
    {
     "name": "stdout",
     "output_type": "stream",
     "text": [
      "+---------+------------------------------------------+\n",
      "|name     |skills-rating                             |\n",
      "+---------+------------------------------------------+\n",
      "|rohit    |{Skill -> SQL, ready -> true, Rating -> 5}|\n",
      "|ajay     |{Skill -> Python, Rating -> 5}            |\n",
      "|dhananjay|{Skill -> Azure, Rating -> 5}             |\n",
      "+---------+------------------------------------------+\n",
      "\n",
      "root\n",
      " |-- name: string (nullable = true)\n",
      " |-- skills-rating: map (nullable = true)\n",
      " |    |-- key: string\n",
      " |    |-- value: string (valueContainsNull = true)\n",
      "\n"
     ]
    }
   ],
   "source": [
    "from pyspark.sql.types import StructType, StringType,StructField , MapType, IntegerType\n",
    "from pyspark.sql.functions import col, lit, explode, map_keys, map_values\n",
    "\n",
    "data = [\n",
    "    ('rohit', {'Skill' : 'SQL', 'Rating' : 5, 'ready' : True}),\n",
    "    ('ajay', {'Skill' : 'Python', 'Rating' : 5}),\n",
    "    ('dhananjay', {'Skill' : 'Azure', 'Rating' : 5}),\n",
    "]\n",
    "\n",
    "# schema = StructType(\n",
    "#     [\n",
    "#         StructField('name', StringType()),\n",
    "#         StructField('Skill-Rating', MapType(StringType(), IntegerType()))\n",
    "#     ]\n",
    "# )\n",
    "\n",
    "# Or\n",
    "\n",
    "# If we don't enforce the schema as Map Type it will automatically take it as MapType() as the data is given in\n",
    "# python dictionary (Dict) \n",
    "\n",
    "schema = ['name', 'skills-rating']\n",
    "\n",
    "df = spark.createDataFrame(data, schema)\n",
    "df.show(truncate= False)\n",
    "df.printSchema()"
   ]
  },
  {
   "cell_type": "markdown",
   "id": "571b99fb-cdb3-40a7-822d-afa4cb4ad4a4",
   "metadata": {},
   "source": [
    "##### explode() functions --> to get the key and values in different columns"
   ]
  },
  {
   "cell_type": "code",
   "execution_count": 12,
   "id": "108ffe60-c4fa-42cc-929f-9cd4fdcbafec",
   "metadata": {},
   "outputs": [
    {
     "name": "stderr",
     "output_type": "stream",
     "text": [
      "[Stage 15:>                                                       (0 + 12) / 12]\r"
     ]
    },
    {
     "name": "stdout",
     "output_type": "stream",
     "text": [
      "+---------+------+------+\n",
      "|     name|   key| value|\n",
      "+---------+------+------+\n",
      "|    rohit| ready|  true|\n",
      "|    rohit| Skill|   SQL|\n",
      "|    rohit|Rating|     5|\n",
      "|     ajay|Rating|     5|\n",
      "|     ajay| Skill|Python|\n",
      "|dhananjay| Skill| Azure|\n",
      "|dhananjay|Rating|     5|\n",
      "+---------+------+------+\n",
      "\n"
     ]
    },
    {
     "name": "stderr",
     "output_type": "stream",
     "text": [
      "                                                                                \r"
     ]
    }
   ],
   "source": [
    "df.select(\"name\", explode(df['skills-rating'])).distinct().show()"
   ]
  },
  {
   "cell_type": "code",
   "execution_count": 13,
   "id": "397ff00d-b0f9-463e-9c27-8e3f2a6793ae",
   "metadata": {},
   "outputs": [
    {
     "name": "stdout",
     "output_type": "stream",
     "text": [
      "+---------+------------------------------------------+----------------------+\n",
      "|name     |skills-rating                             |keys                  |\n",
      "+---------+------------------------------------------+----------------------+\n",
      "|rohit    |{Skill -> SQL, ready -> true, Rating -> 5}|[Skill, ready, Rating]|\n",
      "|ajay     |{Skill -> Python, Rating -> 5}            |[Skill, Rating]       |\n",
      "|dhananjay|{Skill -> Azure, Rating -> 5}             |[Skill, Rating]       |\n",
      "+---------+------------------------------------------+----------------------+\n",
      "\n"
     ]
    }
   ],
   "source": [
    "df.withColumn('keys', map_keys(df['skills-rating'])).show(truncate=False)"
   ]
  },
  {
   "cell_type": "code",
   "execution_count": 15,
   "id": "e311a417-0dcb-460c-a2bc-98c48a9e43cf",
   "metadata": {},
   "outputs": [
    {
     "name": "stdout",
     "output_type": "stream",
     "text": [
      "+---------+------------------------------------------+--------------+\n",
      "|name     |skills-rating                             |values        |\n",
      "+---------+------------------------------------------+--------------+\n",
      "|rohit    |{Skill -> SQL, ready -> true, Rating -> 5}|[SQL, true, 5]|\n",
      "|ajay     |{Skill -> Python, Rating -> 5}            |[Python, 5]   |\n",
      "|dhananjay|{Skill -> Azure, Rating -> 5}             |[Azure, 5]    |\n",
      "+---------+------------------------------------------+--------------+\n",
      "\n"
     ]
    }
   ],
   "source": [
    "df.withColumn('values', map_values(df['skills-rating'])).show(truncate=False)"
   ]
  },
  {
   "cell_type": "code",
   "execution_count": 16,
   "id": "e33e04f0-c50e-4853-b022-5ddf4cb34746",
   "metadata": {},
   "outputs": [],
   "source": [
    "spark.stop()"
   ]
  },
  {
   "cell_type": "code",
   "execution_count": null,
   "id": "2dad0697-c011-4871-85c9-7962ffb773a0",
   "metadata": {},
   "outputs": [],
   "source": []
  }
 ],
 "metadata": {
  "kernelspec": {
   "display_name": "Python 3 (ipykernel)",
   "language": "python",
   "name": "python3"
  },
  "language_info": {
   "codemirror_mode": {
    "name": "ipython",
    "version": 3
   },
   "file_extension": ".py",
   "mimetype": "text/x-python",
   "name": "python",
   "nbconvert_exporter": "python",
   "pygments_lexer": "ipython3",
   "version": "3.10.12"
  }
 },
 "nbformat": 4,
 "nbformat_minor": 5
}
