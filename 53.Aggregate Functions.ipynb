{
 "cells": [
  {
   "cell_type": "code",
   "execution_count": 8,
   "id": "daa637ca-df1e-4405-9859-07adaf6eca7f",
   "metadata": {},
   "outputs": [],
   "source": [
    "from pyspark.sql import SparkSession\n",
    "from pyspark.sql.functions import countDistinct, count, approx_count_distinct, collect_list, collect_set, avg\n",
    "from pyspark.sql.types import *\n",
    "\n",
    "spark = SparkSession.Builder().appName('Aggregate Function in PySpark').getOrCreate()"
   ]
  },
  {
   "cell_type": "code",
   "execution_count": 3,
   "id": "3a8fe3c9-a4bf-44be-9afa-ed22cccd253f",
   "metadata": {},
   "outputs": [
    {
     "name": "stderr",
     "output_type": "stream",
     "text": [
      "                                                                                \r"
     ]
    },
    {
     "name": "stdout",
     "output_type": "stream",
     "text": [
      "+-----+---------+------+------+---------+\n",
      "|empID|     Name|Gender|Salary|     dept|\n",
      "+-----+---------+------+------+---------+\n",
      "|    1|    Rohit|     M|  3000|     Data|\n",
      "|    2|     Ajay|     M|  2000|     Data|\n",
      "|    6|Deepshika|     F|  2000|     Data|\n",
      "|    3|    Hemma|     F|  2000|       HR|\n",
      "|    4|     Arti|     F|  2000|Marketing|\n",
      "|    5|  Kanchan|     F|  2000|Marketing|\n",
      "+-----+---------+------+------+---------+\n",
      "\n"
     ]
    }
   ],
   "source": [
    "empData = [\n",
    "    (1,\"Rohit\",'M', 3000, \"Data\"),\n",
    "    (2,\"Ajay\", 'M',2000, \"Data\"),\n",
    "    (6,\"Deepshika\", 'F',2000, \"Data\"),\n",
    "    (3,\"Hemma\", 'F',2000, \"HR\"),\n",
    "    (4,\"Arti\", 'F',2000, \"Marketing\"),\n",
    "    (5,\"Kanchan\", 'F',2000, \"Marketing\"),\n",
    "]  \n",
    "\n",
    "empDataSchema = ['empID', 'Name', 'Gender','Salary', 'dept']\n",
    "\n",
    "df = spark.createDataFrame(empData, empDataSchema)\n",
    "df.show()"
   ]
  },
  {
   "cell_type": "markdown",
   "id": "6aaff92a-aa22-45e9-9be2-7fb515fde67a",
   "metadata": {},
   "source": [
    "#### approx_count_distinct() --> to count the distinct number of values in a particular column"
   ]
  },
  {
   "cell_type": "code",
   "execution_count": 22,
   "id": "cf3b628c-32dd-4cf0-8564-0b7693d91fc0",
   "metadata": {},
   "outputs": [
    {
     "name": "stdout",
     "output_type": "stream",
     "text": [
      "+-----------------+\n",
      "|dist_salary_count|\n",
      "+-----------------+\n",
      "|                2|\n",
      "+-----------------+\n",
      "\n",
      "+------------------+\n",
      "|        avg_salary|\n",
      "+------------------+\n",
      "|2166.6666666666665|\n",
      "+------------------+\n",
      "\n"
     ]
    }
   ],
   "source": [
    "# approx_count_distinct()\n",
    "df.select(approx_count_distinct('salary').alias('dist_salary_count')).show()\n",
    "# avg\n",
    "df.select(avg('salary').alias('avg_salary')).show()"
   ]
  },
  {
   "cell_type": "markdown",
   "id": "fc55518c-5527-43b3-baf4-277369a8ca92",
   "metadata": {},
   "source": [
    "#### collect_list() --> returns the list of all values (with duplicates) in a group"
   ]
  },
  {
   "cell_type": "code",
   "execution_count": 16,
   "id": "560f0e79-0d5c-4cd8-a406-243c40da993e",
   "metadata": {},
   "outputs": [
    {
     "name": "stdout",
     "output_type": "stream",
     "text": [
      "+------------------------------------+\n",
      "|collect_list(salary)                |\n",
      "+------------------------------------+\n",
      "|[3000, 2000, 2000, 2000, 2000, 2000]|\n",
      "+------------------------------------+\n",
      "\n",
      "+---------+--------------------+\n",
      "|     dept|collect_list(salary)|\n",
      "+---------+--------------------+\n",
      "|     Data|  [3000, 2000, 2000]|\n",
      "|       HR|              [2000]|\n",
      "|Marketing|        [2000, 2000]|\n",
      "+---------+--------------------+\n",
      "\n"
     ]
    }
   ],
   "source": [
    "# collect_list()\n",
    "df.select(collect_list('salary')).show(truncate=False)\n",
    "# collect_list() with groupBy()\n",
    "df.groupBy('dept').agg(collect_list('salary')).show()"
   ]
  },
  {
   "cell_type": "markdown",
   "id": "07958d7c-681f-43b7-970f-09c47e152dd2",
   "metadata": {},
   "source": [
    "#### collect_set() --> returns the list of distinct values (without duplicates) within a group"
   ]
  },
  {
   "cell_type": "code",
   "execution_count": 20,
   "id": "fbb484b7-95ab-4011-b266-82ef27eb7958",
   "metadata": {},
   "outputs": [
    {
     "name": "stdout",
     "output_type": "stream",
     "text": [
      "+-------------------+\n",
      "|collect_set(salary)|\n",
      "+-------------------+\n",
      "|       [3000, 2000]|\n",
      "+-------------------+\n",
      "\n",
      "+---------+-------------------+\n",
      "|     dept|collect_set(salary)|\n",
      "+---------+-------------------+\n",
      "|     Data|       [3000, 2000]|\n",
      "|       HR|             [2000]|\n",
      "|Marketing|             [2000]|\n",
      "+---------+-------------------+\n",
      "\n"
     ]
    }
   ],
   "source": [
    "# collect_set()\n",
    "df.select(collect_set('salary')).show()\n",
    "# collect_set() with groupBy()\n",
    "df.groupBy('dept').agg(collect_set('salary')).show()"
   ]
  },
  {
   "cell_type": "markdown",
   "id": "674f5614-feb1-44e9-98bf-4c78f70fc506",
   "metadata": {},
   "source": [
    "#### countDistinct() --> to count the distinct number of rows in dataframe or subset of dataframe"
   ]
  },
  {
   "cell_type": "markdown",
   "id": "59dcc833-acb2-47f6-9343-02e7714c9874",
   "metadata": {},
   "source": [
    "##### countDistinct() is different then approx_count_distinct() \n",
    "##### approx_count_distinct() will work on only 1 column but countDistinct() will check of all the distinct rows "
   ]
  },
  {
   "cell_type": "code",
   "execution_count": 26,
   "id": "96f0582e-0702-4dc8-bfad-a96171e278e8",
   "metadata": {},
   "outputs": [
    {
     "name": "stdout",
     "output_type": "stream",
     "text": [
      "+-----------------+\n",
      "|countDistinctRows|\n",
      "+-----------------+\n",
      "|                4|\n",
      "+-----------------+\n",
      "\n",
      "+-----------------+\n",
      "|countDistinctRows|\n",
      "+-----------------+\n",
      "|                2|\n",
      "+-----------------+\n",
      "\n"
     ]
    }
   ],
   "source": [
    "df.select(countDistinct('salary', 'dept').alias('countDistinctRows')).show()\n",
    "df.select(countDistinct('salary').alias('countDistinctRows')).show()"
   ]
  },
  {
   "cell_type": "markdown",
   "id": "0277a142-c51a-4d54-a44c-a6d31f0029b6",
   "metadata": {},
   "source": [
    "#### count() --> to count the number of rows"
   ]
  },
  {
   "cell_type": "code",
   "execution_count": 34,
   "id": "d8948906-53dd-4717-899f-ac86d4022e73",
   "metadata": {},
   "outputs": [
    {
     "data": {
      "text/plain": [
       "(6, 6, 6)"
      ]
     },
     "execution_count": 34,
     "metadata": {},
     "output_type": "execute_result"
    }
   ],
   "source": [
    "df.count(), df.select('salary').count(), df.select('salary', 'dept').count()"
   ]
  },
  {
   "cell_type": "code",
   "execution_count": 35,
   "id": "6df7a90c-fd2a-464d-afec-37462c7e8b75",
   "metadata": {},
   "outputs": [],
   "source": [
    "spark.stop()"
   ]
  },
  {
   "cell_type": "code",
   "execution_count": null,
   "id": "a5aa05bc-f93e-4c3f-9798-1d003058d8a2",
   "metadata": {},
   "outputs": [],
   "source": []
  }
 ],
 "metadata": {
  "kernelspec": {
   "display_name": "Python 3 (ipykernel)",
   "language": "python",
   "name": "python3"
  },
  "language_info": {
   "codemirror_mode": {
    "name": "ipython",
    "version": 3
   },
   "file_extension": ".py",
   "mimetype": "text/x-python",
   "name": "python",
   "nbconvert_exporter": "python",
   "pygments_lexer": "ipython3",
   "version": "3.10.12"
  }
 },
 "nbformat": 4,
 "nbformat_minor": 5
}
