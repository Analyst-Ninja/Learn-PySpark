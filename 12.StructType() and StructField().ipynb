{
 "cells": [
  {
   "cell_type": "code",
   "execution_count": 1,
   "id": "db6ce42d-2b87-461e-ac97-7f7730c03488",
   "metadata": {},
   "outputs": [
    {
     "name": "stderr",
     "output_type": "stream",
     "text": [
      "24/06/16 02:11:32 WARN Utils: Your hostname, codebase resolves to a loopback address: 127.0.1.1; using 10.255.255.254 instead (on interface lo)\n",
      "24/06/16 02:11:32 WARN Utils: Set SPARK_LOCAL_IP if you need to bind to another address\n",
      "Setting default log level to \"WARN\".\n",
      "To adjust logging level use sc.setLogLevel(newLevel). For SparkR, use setLogLevel(newLevel).\n",
      "24/06/16 02:11:32 WARN NativeCodeLoader: Unable to load native-hadoop library for your platform... using builtin-java classes where applicable\n"
     ]
    }
   ],
   "source": [
    "from pyspark.sql import SparkSession\n",
    "\n",
    "spark = SparkSession.Builder().appName(\"withColumnRenamed()\").getOrCreate()"
   ]
  },
  {
   "cell_type": "code",
   "execution_count": 2,
   "id": "7caf47e5-c7e4-4e36-8a9b-64f6a63c9aa8",
   "metadata": {},
   "outputs": [],
   "source": [
    "from pyspark.sql.types import *"
   ]
  },
  {
   "cell_type": "code",
   "execution_count": 9,
   "id": "53b497ef-9020-4b71-a8f3-4faa175214f2",
   "metadata": {},
   "outputs": [
    {
     "name": "stdout",
     "output_type": "stream",
     "text": [
      "+---+--------------+------+\n",
      "| id|          name|salary|\n",
      "+---+--------------+------+\n",
      "|  1|{Rohit, Kumar}|  1000|\n",
      "|  2| {Ajay, Kumar}|  2000|\n",
      "+---+--------------+------+\n",
      "\n",
      "root\n",
      " |-- id: integer (nullable = true)\n",
      " |-- name: struct (nullable = true)\n",
      " |    |-- firstName: string (nullable = true)\n",
      " |    |-- lastName: string (nullable = true)\n",
      " |-- salary: string (nullable = true)\n",
      "\n"
     ]
    }
   ],
   "source": [
    "data = [\n",
    "    (1, ('Rohit', 'Kumar'), '1000'),\n",
    "    (2, ('Ajay', 'Kumar'),'2000')\n",
    "]\n",
    "\n",
    "structName = StructType(\n",
    "    [\n",
    "        StructField(name = 'firstName', dataType = StringType()),\n",
    "        StructField(name = 'lastName', dataType = StringType())\n",
    "    ]\n",
    ")\n",
    "\n",
    "schema = StructType(\n",
    "    [\n",
    "        StructField(name = 'id', dataType = IntegerType()),\n",
    "        StructField(name = 'name', dataType = structName),\n",
    "        StructField(name = 'salary', dataType = StringType())\n",
    "    ]\n",
    ") \n",
    "\n",
    "df = spark.createDataFrame(data = data, schema = schema)\n",
    "df.show()\n",
    "df.printSchema()"
   ]
  },
  {
   "cell_type": "code",
   "execution_count": 36,
   "id": "0fb3ef00-2f1e-4fef-aa9b-41235b1e8308",
   "metadata": {},
   "outputs": [],
   "source": [
    "spark.stop()"
   ]
  },
  {
   "cell_type": "code",
   "execution_count": null,
   "id": "839539cd-d181-4b37-9058-117f04a3d372",
   "metadata": {},
   "outputs": [],
   "source": []
  }
 ],
 "metadata": {
  "kernelspec": {
   "display_name": "Python 3 (ipykernel)",
   "language": "python",
   "name": "python3"
  },
  "language_info": {
   "codemirror_mode": {
    "name": "ipython",
    "version": 3
   },
   "file_extension": ".py",
   "mimetype": "text/x-python",
   "name": "python",
   "nbconvert_exporter": "python",
   "pygments_lexer": "ipython3",
   "version": "3.10.12"
  }
 },
 "nbformat": 4,
 "nbformat_minor": 5
}
