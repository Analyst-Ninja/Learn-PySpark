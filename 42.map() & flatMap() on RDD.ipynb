{
 "cells": [
  {
   "cell_type": "code",
   "execution_count": 27,
   "id": "3831a694-240a-482a-8c4d-b6377ad358f4",
   "metadata": {},
   "outputs": [
    {
     "name": "stderr",
     "output_type": "stream",
     "text": [
      "24/06/17 23:49:11 WARN SparkSession: Using an existing Spark session; only runtime SQL configurations will take effect.\n"
     ]
    }
   ],
   "source": [
    "from pyspark.sql.types import *\n",
    "from pyspark.sql import SparkSession\n",
    "from pyspark.sql.functions import min, max, upper, trim\n",
    "\n",
    "spark = SparkSession.Builder().appName('map() & flatMap() transformation on RDD').getOrCreate()"
   ]
  },
  {
   "cell_type": "code",
   "execution_count": 4,
   "id": "4fdb6b6a-acc8-40dd-800e-aad92cfd7871",
   "metadata": {},
   "outputs": [
    {
     "name": "stdout",
     "output_type": "stream",
     "text": [
      "[('Rohit', 'Kumar'), ('Ajay', 'Kumar')]\n"
     ]
    },
    {
     "name": "stderr",
     "output_type": "stream",
     "text": [
      "                                                                                \r"
     ]
    }
   ],
   "source": [
    "data = [\n",
    "    ('Rohit', 'Kumar'),\n",
    "    ('Ajay', 'Kumar'),\n",
    "]\n",
    "\n",
    "rdd = spark.sparkContext.parallelize(data)\n",
    "print(rdd.collect())"
   ]
  },
  {
   "cell_type": "code",
   "execution_count": 13,
   "id": "e1154932-e726-4c66-a973-baa4e8a1dc63",
   "metadata": {},
   "outputs": [
    {
     "name": "stdout",
     "output_type": "stream",
     "text": [
      "[('Rohit', 'Kumar', 'RohitKumar'), ('Ajay', 'Kumar', 'AjayKumar')]\n"
     ]
    }
   ],
   "source": [
    "rdd1 = rdd.map(lambda x : x + (x[0]+x[1],))\n",
    "print(rdd1.collect())"
   ]
  },
  {
   "cell_type": "code",
   "execution_count": 21,
   "id": "a74a32da-1f97-4792-9990-8d6dea4f72c0",
   "metadata": {},
   "outputs": [
    {
     "name": "stdout",
     "output_type": "stream",
     "text": [
      "+-----+-----+\n",
      "|   fn|   ln|\n",
      "+-----+-----+\n",
      "|Rohit|Kumar|\n",
      "| Ajay|Kumar|\n",
      "+-----+-----+\n",
      "\n"
     ]
    }
   ],
   "source": [
    "## Creating a DF\n",
    "\n",
    "df = spark.createDataFrame(data, ['fn','ln'])\n",
    "df.show()"
   ]
  },
  {
   "cell_type": "code",
   "execution_count": 23,
   "id": "a8a639ad-9c58-4326-b831-b4853070ca90",
   "metadata": {},
   "outputs": [
    {
     "name": "stderr",
     "output_type": "stream",
     "text": [
      "                                                                                \r"
     ]
    },
    {
     "name": "stdout",
     "output_type": "stream",
     "text": [
      "+-----+-----+-----------+\n",
      "|   fn|   ln|   fullName|\n",
      "+-----+-----+-----------+\n",
      "|Rohit|Kumar|Rohit Kumar|\n",
      "| Ajay|Kumar| Ajay Kumar|\n",
      "+-----+-----+-----------+\n",
      "\n"
     ]
    }
   ],
   "source": [
    "## Applying map\n",
    "\n",
    "rdd2 = df.rdd.map(lambda x : x + (x[0] + ' ' + x[1],))\n",
    "rdd2.collect()\n",
    "df1 = rdd2.toDF(['fn','ln','fullName'])\n",
    "df1.show()"
   ]
  },
  {
   "cell_type": "code",
   "execution_count": 26,
   "id": "06e7677d-da39-4edc-be6b-2d80777af5d5",
   "metadata": {},
   "outputs": [
    {
     "name": "stderr",
     "output_type": "stream",
     "text": [
      "                                                                                \r"
     ]
    },
    {
     "name": "stdout",
     "output_type": "stream",
     "text": [
      "+-----+-----+-----------+\n",
      "|   fn|   ln|   fullName|\n",
      "+-----+-----+-----------+\n",
      "|Rohit|Kumar|Rohit Kumar|\n",
      "| Ajay|Kumar| Ajay Kumar|\n",
      "+-----+-----+-----------+\n",
      "\n"
     ]
    }
   ],
   "source": [
    "def fullName(x):\n",
    "    return x + (x[0] + ' ' + x[1],)\n",
    "\n",
    "rdd3 = df.rdd.map(lambda x : fullName(x))\n",
    "rdd3.collect()\n",
    "df3 = rdd3.toDF(['fn','ln','fullName'])\n",
    "df3.show()"
   ]
  },
  {
   "cell_type": "code",
   "execution_count": 29,
   "id": "9a2c4120-7655-4be1-93f3-4f5f45fb2f8e",
   "metadata": {},
   "outputs": [
    {
     "data": {
      "text/plain": [
       "['Rohit Kumar', 'Ajay Kumar']"
      ]
     },
     "execution_count": 29,
     "metadata": {},
     "output_type": "execute_result"
    }
   ],
   "source": [
    "data = [\n",
    "    \"Rohit Kumar\",\n",
    "    \"Ajay Kumar\",\n",
    "]\n",
    "\n",
    "rdd = spark.sparkContext.parallelize(data)\n",
    "rdd.collect()"
   ]
  },
  {
   "cell_type": "code",
   "execution_count": 33,
   "id": "c6d2bbf0-5c40-472b-8c80-db12b8324476",
   "metadata": {},
   "outputs": [
    {
     "name": "stdout",
     "output_type": "stream",
     "text": [
      "Rohit Kumar\n",
      "Ajay Kumar\n"
     ]
    }
   ],
   "source": [
    "for i in rdd.collect():\n",
    "    print(i)"
   ]
  },
  {
   "cell_type": "code",
   "execution_count": 40,
   "id": "ef2c8280-5ded-4311-ba1c-0265fcd326d2",
   "metadata": {},
   "outputs": [
    {
     "data": {
      "text/plain": [
       "[['Rohit', 'Kumar'], ['Ajay', 'Kumar']]"
      ]
     },
     "execution_count": 40,
     "metadata": {},
     "output_type": "execute_result"
    }
   ],
   "source": [
    "rdd1 = rdd.map(lambda x : x.split(' '))\n",
    "rdd1.collect()"
   ]
  },
  {
   "cell_type": "code",
   "execution_count": 41,
   "id": "97ff0b2d-765e-4c37-bc16-f6f443701c70",
   "metadata": {},
   "outputs": [
    {
     "name": "stdout",
     "output_type": "stream",
     "text": [
      "['Rohit', 'Kumar']\n",
      "['Ajay', 'Kumar']\n"
     ]
    }
   ],
   "source": [
    "for item in rdd1.collect():\n",
    "    print(item)"
   ]
  },
  {
   "cell_type": "code",
   "execution_count": 42,
   "id": "97fcadfc-f34d-4a4e-90bf-a8aed9f506df",
   "metadata": {},
   "outputs": [
    {
     "data": {
      "text/plain": [
       "['Rohit', 'Kumar', 'Ajay', 'Kumar']"
      ]
     },
     "execution_count": 42,
     "metadata": {},
     "output_type": "execute_result"
    }
   ],
   "source": [
    "rdd2 = rdd.flatMap(lambda x : x.split(\" \"))\n",
    "rdd2.collect()"
   ]
  },
  {
   "cell_type": "code",
   "execution_count": 45,
   "id": "ee64ede4-7a99-4e55-86e7-0d3b1587cbb8",
   "metadata": {},
   "outputs": [],
   "source": [
    "spark.stop()"
   ]
  },
  {
   "cell_type": "code",
   "execution_count": null,
   "id": "4b78f984-c79f-4ddf-9ce8-ffa22968f0c4",
   "metadata": {},
   "outputs": [],
   "source": []
  }
 ],
 "metadata": {
  "kernelspec": {
   "display_name": "Python 3 (ipykernel)",
   "language": "python",
   "name": "python3"
  },
  "language_info": {
   "codemirror_mode": {
    "name": "ipython",
    "version": 3
   },
   "file_extension": ".py",
   "mimetype": "text/x-python",
   "name": "python",
   "nbconvert_exporter": "python",
   "pygments_lexer": "ipython3",
   "version": "3.10.12"
  }
 },
 "nbformat": 4,
 "nbformat_minor": 5
}
