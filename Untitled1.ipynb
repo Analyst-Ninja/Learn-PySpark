{
 "cells": [
  {
   "cell_type": "code",
   "execution_count": 18,
   "id": "ded1e435-5bb1-4252-8a87-f02cd5f2a45e",
   "metadata": {},
   "outputs": [],
   "source": [
    "from pyspark.sql import SparkSession\n",
    "from pyspark.sql.functions import current_date, date_format, to_date, lit, date_diff,\\\n",
    "months_between, month, year, add_months, date_add, day, weekofyear, weekday, hour, minute, second, current_timestamp,\\\n",
    "to_timestamp\n",
    "from pyspark.sql.types import *\n",
    "\n",
    "spark = SparkSession.Builder().appName('Timestamp Function in PySpark').getOrCreate()"
   ]
  },
  {
   "cell_type": "code",
   "execution_count": 2,
   "id": "7e322bdd-9528-4dbb-b33d-2c78c389dc15",
   "metadata": {},
   "outputs": [
    {
     "name": "stderr",
     "output_type": "stream",
     "text": [
      "                                                                                \r"
     ]
    },
    {
     "name": "stdout",
     "output_type": "stream",
     "text": [
      "+---+-------------+\n",
      "|acc|mdab         |\n",
      "+---+-------------+\n",
      "|1  |[123, 34]    |\n",
      "|2  |[21, 345, 23]|\n",
      "+---+-------------+\n",
      "\n"
     ]
    }
   ],
   "source": [
    "from pyspark.sql.functions import col, collect_list, transform\n",
    "\n",
    "# Create a PySpark DataFrame from the input data\n",
    "df = spark.createDataFrame([\n",
    "    (1, \"T1\", 123),\n",
    "    (1, \"T2\", 34),\n",
    "    (2, \"T1\", 21),\n",
    "    (2, \"T2\", 345),\n",
    "    (2, \"T3\", 23)\n",
    "], [\"acc\", \"flag\", \"mdab\"])\n",
    "\n",
    "# Group the DataFrame by \"acc\" and transform the \"mdab\" values\n",
    "result = (\n",
    "    df\n",
    "    .groupBy(\"acc\")\n",
    "    .agg(\n",
    "        collect_list(\"mdab\")\n",
    "        .alias(\"mdab\")\n",
    "    )\n",
    "    .select(\n",
    "        col(\"acc\"),\n",
    "        transform(\"mdab\", lambda x: x).alias(\"mdab\")\n",
    "    )\n",
    ")\n",
    "\n",
    "# Show the result\n",
    "result.show(truncate=False)"
   ]
  },
  {
   "cell_type": "code",
   "execution_count": 35,
   "id": "60f1594b-2dde-42c7-877a-bfb02ca3ded4",
   "metadata": {},
   "outputs": [
    {
     "name": "stdout",
     "output_type": "stream",
     "text": [
      "+---+-------------------------------+-------------------------------+-------------------------------+-------------------------------+\n",
      "|acc|mdab                           |mdab                           |mdab                           |mdab                           |\n",
      "+---+-------------------------------+-------------------------------+-------------------------------+-------------------------------+\n",
      "|1  |{T1 -> 21, T2 -> 21}           |{T1 -> 21, T2 -> 21}           |{T1 -> 21, T2 -> 21}           |{T1 -> 21, T2 -> 21}           |\n",
      "|2  |{T1 -> 21, T2 -> 345, T3 -> 23}|{T1 -> 21, T2 -> 345, T3 -> 23}|{T1 -> 21, T2 -> 345, T3 -> 23}|{T1 -> 21, T2 -> 345, T3 -> 23}|\n",
      "+---+-------------------------------+-------------------------------+-------------------------------+-------------------------------+\n",
      "\n"
     ]
    }
   ],
   "source": [
    "from pyspark.sql.functions import col, collect_set, map_from_arrays, get\n",
    "\n",
    "# Create a PySpark DataFrame from the input data\n",
    "df = spark.createDataFrame([\n",
    "    (1, \"T1\", 21),\n",
    "    (1, \"T2\", 21),\n",
    "    (2, \"T1\", 21),\n",
    "    (2, \"T2\", 345),\n",
    "    (2, \"T3\", 23)\n",
    "], [\"acc\", \"flag\", \"mdab\"])\n",
    "\n",
    "# Group the DataFrame by \"acc\" and transform the \"mdab\" values\n",
    "result = (\n",
    "    df\n",
    "    .groupBy(\"acc\")\n",
    "    .agg(\n",
    "        collect_list(\"flag\").alias(\"flags\"),\n",
    "        collect_list(\"mdab\").alias(\"mdabs\")\n",
    "    )\n",
    "    .select(\n",
    "        col(\"acc\"),\n",
    "        map_from_arrays(\"flags\", \"mdabs\").alias(\"mdab\"),\n",
    "        map_from_arrays(\"flags\", \"mdabs\").alias(\"mdab\"),\n",
    "        map_from_arrays(\"flags\", \"mdabs\").alias(\"mdab\"),\n",
    "        map_from_arrays(\"flags\", \"mdabs\").alias(\"mdab\")\n",
    "    )\n",
    ")\n",
    "\n",
    "# Show the result\n",
    "result.show(truncate=False)"
   ]
  },
  {
   "cell_type": "code",
   "execution_count": 26,
   "id": "5d19bdbb-2793-4074-a138-7d4d293c0141",
   "metadata": {},
   "outputs": [
    {
     "name": "stderr",
     "output_type": "stream",
     "text": [
      "24/07/12 18:00:57 WARN CacheManager: Asked to cache already cached data.\n",
      "[Stage 16:==========================>                          (101 + 14) / 200]\r"
     ]
    },
    {
     "name": "stdout",
     "output_type": "stream",
     "text": [
      "+---+--------------------+\n",
      "|acc|                mdab|\n",
      "+---+--------------------+\n",
      "|  1|{T1 -> 21, T2 -> 21}|\n",
      "|  2|{T1 -> 21, T2 -> ...|\n",
      "+---+--------------------+\n",
      "\n"
     ]
    },
    {
     "name": "stderr",
     "output_type": "stream",
     "text": [
      "                                                                                \r"
     ]
    }
   ],
   "source": [
    "result.createOrReplaceTempView('result')\n",
    "result.cache()\n",
    "result.show()"
   ]
  },
  {
   "cell_type": "code",
   "execution_count": 31,
   "id": "3d992e83-36a8-46f9-95ed-7501515e5ca4",
   "metadata": {},
   "outputs": [
    {
     "name": "stdout",
     "output_type": "stream",
     "text": [
      "+--------+\n",
      "|mdab[T1]|\n",
      "+--------+\n",
      "|      21|\n",
      "|      21|\n",
      "+--------+\n",
      "\n"
     ]
    }
   ],
   "source": [
    "spark.sql(\n",
    "    \"\"\"\n",
    "    SELECT mdab['T1'] FROM result\n",
    "    \"\"\"\n",
    ").show()"
   ]
  },
  {
   "cell_type": "code",
   "execution_count": 16,
   "id": "57facdf2-7e73-4d21-8513-f4d07326204e",
   "metadata": {},
   "outputs": [],
   "source": [
    "spark.stop()"
   ]
  },
  {
   "cell_type": "code",
   "execution_count": null,
   "id": "15a578f1-375b-40f5-81cb-44b8caf82484",
   "metadata": {},
   "outputs": [],
   "source": []
  }
 ],
 "metadata": {
  "kernelspec": {
   "display_name": "Python 3 (ipykernel)",
   "language": "python",
   "name": "python3"
  },
  "language_info": {
   "codemirror_mode": {
    "name": "ipython",
    "version": 3
   },
   "file_extension": ".py",
   "mimetype": "text/x-python",
   "name": "python",
   "nbconvert_exporter": "python",
   "pygments_lexer": "ipython3",
   "version": "3.10.12"
  }
 },
 "nbformat": 4,
 "nbformat_minor": 5
}
