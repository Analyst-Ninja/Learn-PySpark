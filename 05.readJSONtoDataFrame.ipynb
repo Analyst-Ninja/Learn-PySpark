{
 "cells": [
  {
   "cell_type": "code",
   "execution_count": 2,
   "id": "cad078c5-baba-4a54-bb75-77f718ff1ca7",
   "metadata": {},
   "outputs": [
    {
     "name": "stderr",
     "output_type": "stream",
     "text": [
      "24/06/15 22:46:50 WARN Utils: Your hostname, codebase resolves to a loopback address: 127.0.1.1; using 10.255.255.254 instead (on interface lo)\n",
      "24/06/15 22:46:50 WARN Utils: Set SPARK_LOCAL_IP if you need to bind to another address\n",
      "Setting default log level to \"WARN\".\n",
      "To adjust logging level use sc.setLogLevel(newLevel). For SparkR, use setLogLevel(newLevel).\n",
      "24/06/15 22:46:51 WARN NativeCodeLoader: Unable to load native-hadoop library for your platform... using builtin-java classes where applicable\n"
     ]
    }
   ],
   "source": [
    "from pyspark.sql import SparkSession\n",
    "\n",
    "spark = SparkSession.Builder().appName('readJSONtoDataFrame').getOrCreate()"
   ]
  },
  {
   "cell_type": "code",
   "execution_count": 4,
   "id": "abc06c81-d91f-4e5b-b64d-c7edc38d9fbc",
   "metadata": {},
   "outputs": [
    {
     "name": "stderr",
     "output_type": "stream",
     "text": [
      "                                                                                \r"
     ]
    },
    {
     "name": "stdout",
     "output_type": "stream",
     "text": [
      "+---+-----+\n",
      "| id| name|\n",
      "+---+-----+\n",
      "|  1|Rohit|\n",
      "+---+-----+\n",
      "\n",
      "root\n",
      " |-- id: long (nullable = true)\n",
      " |-- name: string (nullable = true)\n",
      "\n"
     ]
    }
   ],
   "source": [
    "df = spark.read.json('bro.json')\n",
    "df.show()\n",
    "df.printSchema()"
   ]
  },
  {
   "cell_type": "markdown",
   "id": "133fe121-82eb-4f36-8196-7b6fc890f77c",
   "metadata": {},
   "source": [
    "#### Reading multiple JSON file"
   ]
  },
  {
   "cell_type": "code",
   "execution_count": 8,
   "id": "ad30c8c8-c014-4bb1-b919-47181b2300d8",
   "metadata": {},
   "outputs": [
    {
     "name": "stdout",
     "output_type": "stream",
     "text": [
      "+---+-----+\n",
      "| id| name|\n",
      "+---+-----+\n",
      "|  1|Rohit|\n",
      "|  2| Ajay|\n",
      "|  1|Rohit|\n",
      "+---+-----+\n",
      "\n",
      "root\n",
      " |-- id: long (nullable = true)\n",
      " |-- name: string (nullable = true)\n",
      "\n"
     ]
    }
   ],
   "source": [
    "df = spark.read.json([\"emp.json\", 'bro.json'], multiLine=True)\n",
    "df.show()\n",
    "df.printSchema()"
   ]
  },
  {
   "cell_type": "markdown",
   "id": "c406375b-cdbd-4619-bea9-dd2d1ac52bce",
   "metadata": {},
   "source": [
    "#### Reading all JSON files from a directory"
   ]
  },
  {
   "cell_type": "code",
   "execution_count": 10,
   "id": "3872a90a-d504-4725-8fb6-32493fb73b1e",
   "metadata": {},
   "outputs": [
    {
     "name": "stdout",
     "output_type": "stream",
     "text": [
      "+---+-----+\n",
      "| id| name|\n",
      "+---+-----+\n",
      "|  1|Rohit|\n",
      "|  2| Ajay|\n",
      "|  1|Rohit|\n",
      "+---+-----+\n",
      "\n",
      "root\n",
      " |-- id: long (nullable = true)\n",
      " |-- name: string (nullable = true)\n",
      "\n"
     ]
    }
   ],
   "source": [
    "df2 = spark.read.json(\"*json\", multiLine = True)\n",
    "df2.show()\n",
    "df2.printSchema()"
   ]
  },
  {
   "cell_type": "markdown",
   "id": "e6fd4d7c-625c-4bd7-90e6-c401fb96eae3",
   "metadata": {},
   "source": [
    "#### Read JSON file with Schema (Enforced)"
   ]
  },
  {
   "cell_type": "code",
   "execution_count": 18,
   "id": "37326e5b-89a3-4069-9382-53364f36f6a9",
   "metadata": {},
   "outputs": [
    {
     "name": "stdout",
     "output_type": "stream",
     "text": [
      "+---+-----+\n",
      "| id| name|\n",
      "+---+-----+\n",
      "|  1|Rohit|\n",
      "|  2| Ajay|\n",
      "|  1|Rohit|\n",
      "+---+-----+\n",
      "\n",
      "root\n",
      " |-- id: integer (nullable = true)\n",
      " |-- name: string (nullable = true)\n",
      "\n"
     ]
    }
   ],
   "source": [
    "from pyspark.sql.types import *\n",
    "\n",
    "schema = StructType()\\\n",
    "        .add('id', IntegerType())\\\n",
    "        .add('name', StringType())\n",
    "\n",
    "# or\n",
    "\n",
    "schema = StructType()\\\n",
    "        .add(field = 'id', data_type = IntegerType())\\\n",
    "        .add(field = 'name', data_type = StringType())\n",
    "\n",
    "\n",
    "# or \n",
    "\n",
    "# schema = StructType(\n",
    "#     [\n",
    "#         StructField(name = 'id', dataType = IntegerType(), nullable = True),\n",
    "#         StructField(name = 'name', dataType = StringType(), nullable = True)\n",
    "#     ]\n",
    "# )\n",
    "\n",
    "df3 = spark.read.json(path='*.json', schema=schema, multiLine = True)\n",
    "df3.show()\n",
    "df3.printSchema()"
   ]
  },
  {
   "cell_type": "code",
   "execution_count": 19,
   "id": "45aef92e-e067-4d54-b6e9-34d043792b7b",
   "metadata": {},
   "outputs": [],
   "source": [
    "spark.stop()"
   ]
  },
  {
   "cell_type": "code",
   "execution_count": null,
   "id": "f54cd883-1666-4d80-ba10-977440af6edb",
   "metadata": {},
   "outputs": [],
   "source": []
  }
 ],
 "metadata": {
  "kernelspec": {
   "display_name": "Python 3 (ipykernel)",
   "language": "python",
   "name": "python3"
  },
  "language_info": {
   "codemirror_mode": {
    "name": "ipython",
    "version": 3
   },
   "file_extension": ".py",
   "mimetype": "text/x-python",
   "name": "python",
   "nbconvert_exporter": "python",
   "pygments_lexer": "ipython3",
   "version": "3.10.12"
  }
 },
 "nbformat": 4,
 "nbformat_minor": 5
}
