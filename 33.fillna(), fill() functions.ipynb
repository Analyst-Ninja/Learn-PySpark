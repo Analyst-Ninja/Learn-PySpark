{
 "cells": [
  {
   "cell_type": "code",
   "execution_count": 13,
   "id": "b6fda538-37cd-42c1-ad45-eca9cb1c351e",
   "metadata": {},
   "outputs": [
    {
     "name": "stderr",
     "output_type": "stream",
     "text": [
      "24/06/17 19:01:27 WARN SparkSession: Using an existing Spark session; only runtime SQL configurations will take effect.\n"
     ]
    }
   ],
   "source": [
    "from pyspark.sql import SparkSession \n",
    "from pyspark.sql.functions import col, lit, when, \\\n",
    "desc, asc, cast, like, count, min, max, median, percentile\n",
    "from pyspark.sql.types import *\n",
    "\n",
    "spark = SparkSession.Builder().appName('fill() , fillna() & smaple() functions in Pyspark')\\\n",
    ".config(\"spark.sql.crossJoin.enabled\",True)\\\n",
    ".getOrCreate()"
   ]
  },
  {
   "cell_type": "code",
   "execution_count": 7,
   "id": "c681ae56-09ac-449f-b0a4-5adf22963a80",
   "metadata": {},
   "outputs": [
    {
     "name": "stdout",
     "output_type": "stream",
     "text": [
      "+---+-----+----+------+----+\n",
      "| id| name| age|salary|dept|\n",
      "+---+-----+----+------+----+\n",
      "|  1|Rohit|  27|  NULL|Data|\n",
      "|  2| Ajay|  23|  3000|Data|\n",
      "|  3| Hema|NULL|  5000|  HR|\n",
      "|  4| Arti|  37|  5000|NULL|\n",
      "+---+-----+----+------+----+\n",
      "\n"
     ]
    }
   ],
   "source": [
    "data = [\n",
    "    (1,'Rohit', 27, None, 'Data'),\n",
    "    (2,'Ajay', 23, 3000, 'Data'),\n",
    "    (3,'Hema', None, 5000, 'HR'),\n",
    "    (4,'Arti', 37, 5000, None),\n",
    "]\n",
    "\n",
    "schema = ['id', 'name', 'age', 'salary', 'dept']\n",
    "\n",
    "df = spark.createDataFrame(data, schema)\n",
    "df.show()"
   ]
  },
  {
   "cell_type": "code",
   "execution_count": 11,
   "id": "bbc0bc77-b465-4768-8ad7-f2297491afd5",
   "metadata": {},
   "outputs": [
    {
     "name": "stdout",
     "output_type": "stream",
     "text": [
      "+---+-----+---+------+----+\n",
      "| id| name|age|salary|dept|\n",
      "+---+-----+---+------+----+\n",
      "|  1|Rohit| 27|     0|Data|\n",
      "|  2| Ajay| 23|  3000|Data|\n",
      "|  3| Hema|  0|  5000|  HR|\n",
      "|  4| Arti| 37|  5000|NULL|\n",
      "+---+-----+---+------+----+\n",
      "\n",
      "+---+-----+---+------+----+\n",
      "| id| name|age|salary|dept|\n",
      "+---+-----+---+------+----+\n",
      "|  1|Rohit| 27|     0|Data|\n",
      "|  2| Ajay| 23|  3000|Data|\n",
      "|  3| Hema|  0|  5000|  HR|\n",
      "|  4| Arti| 37|  5000|NULL|\n",
      "+---+-----+---+------+----+\n",
      "\n",
      "+---+-----+----+------+----+\n",
      "| id| name| age|salary|dept|\n",
      "+---+-----+----+------+----+\n",
      "|  1|Rohit|  27|     0|Data|\n",
      "|  2| Ajay|  23|  3000|Data|\n",
      "|  3| Hema|NULL|  5000|  HR|\n",
      "|  4| Arti|  37|  5000|NULL|\n",
      "+---+-----+----+------+----+\n",
      "\n",
      "+---+-----+----+------+-------+\n",
      "| id| name| age|salary|   dept|\n",
      "+---+-----+----+------+-------+\n",
      "|  1|Rohit|  27|  NULL|   Data|\n",
      "|  2| Ajay|  23|  3000|   Data|\n",
      "|  3| Hema|NULL|  5000|     HR|\n",
      "|  4| Arti|  37|  5000|Unknown|\n",
      "+---+-----+----+------+-------+\n",
      "\n"
     ]
    }
   ],
   "source": [
    "df.na.fill(0).show()\n",
    "df.na.fill(0, ['age', 'salary']).show()\n",
    "df.na.fill(0, ['salary']).show()\n",
    "df.fillna('Unknown', ['dept']).show()"
   ]
  },
  {
   "cell_type": "code",
   "execution_count": 21,
   "id": "a60d2688-c2ec-4d22-b261-839dad54ae20",
   "metadata": {},
   "outputs": [
    {
     "name": "stdout",
     "output_type": "stream",
     "text": [
      "+---+\n",
      "| id|\n",
      "+---+\n",
      "|  1|\n",
      "|  2|\n",
      "|  3|\n",
      "|  4|\n",
      "|  5|\n",
      "+---+\n",
      "only showing top 5 rows\n",
      "\n"
     ]
    }
   ],
   "source": [
    "df = spark.range(1, 100)\n",
    "df = spark.range(start = 1, end = 100)\n",
    "df.show(5)"
   ]
  },
  {
   "cell_type": "markdown",
   "id": "edd3a2dc-3941-4f11-b18c-7724b2aaaf43",
   "metadata": {},
   "source": [
    "#### sample() function in PySpark"
   ]
  },
  {
   "cell_type": "code",
   "execution_count": 16,
   "id": "996108ed-5552-4bb1-a842-f81a5304fdc1",
   "metadata": {},
   "outputs": [
    {
     "name": "stdout",
     "output_type": "stream",
     "text": [
      "+---+\n",
      "| id|\n",
      "+---+\n",
      "| 26|\n",
      "| 29|\n",
      "| 33|\n",
      "| 58|\n",
      "| 70|\n",
      "| 91|\n",
      "| 95|\n",
      "| 98|\n",
      "+---+\n",
      "\n",
      "+---+\n",
      "| id|\n",
      "+---+\n",
      "| 26|\n",
      "| 29|\n",
      "| 33|\n",
      "| 58|\n",
      "| 70|\n",
      "| 91|\n",
      "| 95|\n",
      "| 98|\n",
      "+---+\n",
      "\n"
     ]
    }
   ],
   "source": [
    "df1 = df.sample(fraction=0.1, seed=123)\n",
    "df2 = df.sample(fraction=0.1, seed=123)\n",
    "\n",
    "df1.show()\n",
    "df2.show()"
   ]
  },
  {
   "cell_type": "code",
   "execution_count": 18,
   "id": "c4670f59-c769-421c-84c1-08590e6939fd",
   "metadata": {},
   "outputs": [
    {
     "data": {
      "text/html": [
       "<div>\n",
       "<style scoped>\n",
       "    .dataframe tbody tr th:only-of-type {\n",
       "        vertical-align: middle;\n",
       "    }\n",
       "\n",
       "    .dataframe tbody tr th {\n",
       "        vertical-align: top;\n",
       "    }\n",
       "\n",
       "    .dataframe thead th {\n",
       "        text-align: right;\n",
       "    }\n",
       "</style>\n",
       "<table border=\"1\" class=\"dataframe\">\n",
       "  <thead>\n",
       "    <tr style=\"text-align: right;\">\n",
       "      <th></th>\n",
       "      <th>id</th>\n",
       "    </tr>\n",
       "  </thead>\n",
       "  <tbody>\n",
       "    <tr>\n",
       "      <th>0</th>\n",
       "      <td>True</td>\n",
       "    </tr>\n",
       "    <tr>\n",
       "      <th>1</th>\n",
       "      <td>True</td>\n",
       "    </tr>\n",
       "    <tr>\n",
       "      <th>2</th>\n",
       "      <td>True</td>\n",
       "    </tr>\n",
       "    <tr>\n",
       "      <th>3</th>\n",
       "      <td>True</td>\n",
       "    </tr>\n",
       "    <tr>\n",
       "      <th>4</th>\n",
       "      <td>True</td>\n",
       "    </tr>\n",
       "    <tr>\n",
       "      <th>5</th>\n",
       "      <td>True</td>\n",
       "    </tr>\n",
       "    <tr>\n",
       "      <th>6</th>\n",
       "      <td>True</td>\n",
       "    </tr>\n",
       "    <tr>\n",
       "      <th>7</th>\n",
       "      <td>True</td>\n",
       "    </tr>\n",
       "  </tbody>\n",
       "</table>\n",
       "</div>"
      ],
      "text/plain": [
       "     id\n",
       "0  True\n",
       "1  True\n",
       "2  True\n",
       "3  True\n",
       "4  True\n",
       "5  True\n",
       "6  True\n",
       "7  True"
      ]
     },
     "execution_count": 18,
     "metadata": {},
     "output_type": "execute_result"
    }
   ],
   "source": [
    "df1.toPandas() == df2.toPandas()"
   ]
  },
  {
   "cell_type": "code",
   "execution_count": 22,
   "id": "511be17d-f1ec-4da3-b4d8-317b3d8d6739",
   "metadata": {},
   "outputs": [],
   "source": [
    "spark.stop()"
   ]
  },
  {
   "cell_type": "code",
   "execution_count": null,
   "id": "54493e99-ed68-4992-bb9a-3069e7a10327",
   "metadata": {},
   "outputs": [],
   "source": []
  }
 ],
 "metadata": {
  "kernelspec": {
   "display_name": "Python 3 (ipykernel)",
   "language": "python",
   "name": "python3"
  },
  "language_info": {
   "codemirror_mode": {
    "name": "ipython",
    "version": 3
   },
   "file_extension": ".py",
   "mimetype": "text/x-python",
   "name": "python",
   "nbconvert_exporter": "python",
   "pygments_lexer": "ipython3",
   "version": "3.10.12"
  }
 },
 "nbformat": 4,
 "nbformat_minor": 5
}
