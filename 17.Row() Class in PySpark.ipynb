{
 "cells": [
  {
   "cell_type": "code",
   "execution_count": 1,
   "id": "0e3cef81-0c0a-4386-9add-65d0d4236d89",
   "metadata": {},
   "outputs": [
    {
     "name": "stderr",
     "output_type": "stream",
     "text": [
      "24/06/16 12:52:54 WARN Utils: Your hostname, codebase resolves to a loopback address: 127.0.1.1; using 10.255.255.254 instead (on interface lo)\n",
      "24/06/16 12:52:54 WARN Utils: Set SPARK_LOCAL_IP if you need to bind to another address\n",
      "Setting default log level to \"WARN\".\n",
      "To adjust logging level use sc.setLogLevel(newLevel). For SparkR, use setLogLevel(newLevel).\n",
      "24/06/16 12:52:55 WARN NativeCodeLoader: Unable to load native-hadoop library for your platform... using builtin-java classes where applicable\n"
     ]
    }
   ],
   "source": [
    "from pyspark.sql import SparkSession \n",
    "\n",
    "spark = SparkSession.Builder().appName('Row() Class').getOrCreate()"
   ]
  },
  {
   "cell_type": "code",
   "execution_count": 4,
   "id": "43259707-b796-410c-b923-50fd08e58ba9",
   "metadata": {},
   "outputs": [
    {
     "name": "stdout",
     "output_type": "stream",
     "text": [
      "Rohit 2000\n",
      "Rohit 2000\n"
     ]
    }
   ],
   "source": [
    "from pyspark.sql import Row\n",
    "\n",
    "row = Row('Rohit', 2000)\n",
    "\n",
    "print(row[0] + ' ' + str(row[1]))\n",
    "\n",
    "row = Row(name = 'Rohit', salary = 2000)\n",
    "\n",
    "print(row.name + ' ' + str(row.salary))"
   ]
  },
  {
   "cell_type": "code",
   "execution_count": 8,
   "id": "fc6b82d0-e4cf-4e55-8258-19bc37d336db",
   "metadata": {},
   "outputs": [
    {
     "name": "stdout",
     "output_type": "stream",
     "text": [
      "+-----+------+\n",
      "| name|salary|\n",
      "+-----+------+\n",
      "|Rohit|  2000|\n",
      "| Ajay|  3000|\n",
      "+-----+------+\n",
      "\n"
     ]
    }
   ],
   "source": [
    "row1 = Row(name = 'Rohit', salary = 2000)\n",
    "row2 = Row(name = 'Ajay', salary = 3000)\n",
    "\n",
    "l = [row1, row2]\n",
    "\n",
    "df = spark.createDataFrame(l)\n",
    "df.show()"
   ]
  },
  {
   "cell_type": "code",
   "execution_count": 11,
   "id": "2b2f92cf-cf03-41d1-bfee-f2ff712a25dd",
   "metadata": {},
   "outputs": [
    {
     "name": "stdout",
     "output_type": "stream",
     "text": [
      "+-----+------+\n",
      "| name|salary|\n",
      "+-----+------+\n",
      "|Rohit|  2000|\n",
      "| Ajay|  3000|\n",
      "+-----+------+\n",
      "\n",
      "root\n",
      " |-- name: string (nullable = true)\n",
      " |-- salary: long (nullable = true)\n",
      "\n"
     ]
    }
   ],
   "source": [
    "Person = Row('name', 'salary')\n",
    "\n",
    "p1 = Person('Rohit', 2000)\n",
    "p2 = Person('Ajay', 3000)\n",
    "\n",
    "data = [p1,p2]\n",
    "\n",
    "df = spark.createDataFrame(data)\n",
    "df.show()\n",
    "df.printSchema()"
   ]
  },
  {
   "cell_type": "code",
   "execution_count": 13,
   "id": "b2ea2bf8-7e6c-41fb-9b97-9c7dc01ee003",
   "metadata": {},
   "outputs": [
    {
     "name": "stdout",
     "output_type": "stream",
     "text": [
      "+-----+--------------+\n",
      "| name|          prop|\n",
      "+-----+--------------+\n",
      "|Rohit|{black, black}|\n",
      "| Ajay|{brown, black}|\n",
      "+-----+--------------+\n",
      "\n"
     ]
    }
   ],
   "source": [
    "data = [\n",
    "    Row(name = 'Rohit', prop = Row(hair = 'black', eye = 'black')),\n",
    "    Row(name = 'Ajay', prop = Row(hair = 'brown', eye = 'black'))\n",
    "]\n",
    "\n",
    "spark.createDataFrame(data).show()"
   ]
  },
  {
   "cell_type": "code",
   "execution_count": null,
   "id": "b0f4d618-5d33-483a-b879-6e9efadf58f6",
   "metadata": {},
   "outputs": [],
   "source": []
  }
 ],
 "metadata": {
  "kernelspec": {
   "display_name": "Python 3 (ipykernel)",
   "language": "python",
   "name": "python3"
  },
  "language_info": {
   "codemirror_mode": {
    "name": "ipython",
    "version": 3
   },
   "file_extension": ".py",
   "mimetype": "text/x-python",
   "name": "python",
   "nbconvert_exporter": "python",
   "pygments_lexer": "ipython3",
   "version": "3.10.12"
  }
 },
 "nbformat": 4,
 "nbformat_minor": 5
}
