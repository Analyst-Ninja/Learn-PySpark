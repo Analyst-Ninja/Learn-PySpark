{
 "cells": [
  {
   "cell_type": "code",
   "execution_count": 1,
   "id": "801cdf5f-2675-4804-8bfb-c0b522585bde",
   "metadata": {},
   "outputs": [
    {
     "name": "stderr",
     "output_type": "stream",
     "text": [
      "24/06/16 13:24:05 WARN Utils: Your hostname, codebase resolves to a loopback address: 127.0.1.1; using 10.255.255.254 instead (on interface lo)\n",
      "24/06/16 13:24:05 WARN Utils: Set SPARK_LOCAL_IP if you need to bind to another address\n",
      "Setting default log level to \"WARN\".\n",
      "To adjust logging level use sc.setLogLevel(newLevel). For SparkR, use setLogLevel(newLevel).\n",
      "24/06/16 13:24:06 WARN NativeCodeLoader: Unable to load native-hadoop library for your platform... using builtin-java classes where applicable\n",
      "24/06/16 13:24:08 WARN Utils: Service 'SparkUI' could not bind on port 4040. Attempting port 4041.\n"
     ]
    }
   ],
   "source": [
    "from pyspark.sql import SparkSession \n",
    "\n",
    "spark = SparkSession.Builder().appName('Column() Class').getOrCreate()"
   ]
  },
  {
   "cell_type": "code",
   "execution_count": 37,
   "id": "0eb3dd75-a156-4bd8-bdb9-7465707c684b",
   "metadata": {},
   "outputs": [
    {
     "name": "stdout",
     "output_type": "stream",
     "text": [
      "<class 'pyspark.sql.column.Column'>\n"
     ]
    }
   ],
   "source": [
    "from pyspark.sql.functions import col, lit, Column\n",
    "\n",
    "col1 = lit('abcd')\n",
    "print(type(col1))"
   ]
  },
  {
   "cell_type": "code",
   "execution_count": 6,
   "id": "4e097d22-5824-4bb7-a54f-b0971b6fbaa4",
   "metadata": {},
   "outputs": [
    {
     "name": "stderr",
     "output_type": "stream",
     "text": [
      "                                                                                \r"
     ]
    },
    {
     "name": "stdout",
     "output_type": "stream",
     "text": [
      "+-----+---+------+\n",
      "| name|age|salary|\n",
      "+-----+---+------+\n",
      "|Rohit| 27|  2000|\n",
      "| Ajay| 23|  3000|\n",
      "+-----+---+------+\n",
      "\n"
     ]
    }
   ],
   "source": [
    "data = [\n",
    "    ('Rohit', 27, 2000),\n",
    "    ('Ajay', 23, 3000)\n",
    "]\n",
    "\n",
    "schema = ['name', 'age', 'salary']\n",
    "\n",
    "df = spark.createDataFrame(data, schema)\n",
    "df.show()"
   ]
  },
  {
   "cell_type": "code",
   "execution_count": 17,
   "id": "65f61fad-2363-446a-9240-77ed2aff401b",
   "metadata": {},
   "outputs": [
    {
     "name": "stdout",
     "output_type": "stream",
     "text": [
      "+-----+---+------+------------------+\n",
      "|name |age|salary|newCol            |\n",
      "+-----+---+------+------------------+\n",
      "|Rohit|27 |2000  |166.66666666666666|\n",
      "|Ajay |23 |3000  |250.0             |\n",
      "+-----+---+------+------------------+\n",
      "\n",
      "root\n",
      " |-- name: string (nullable = true)\n",
      " |-- age: long (nullable = true)\n",
      " |-- salary: long (nullable = true)\n",
      " |-- newCol: double (nullable = true)\n",
      "\n"
     ]
    }
   ],
   "source": [
    "df = df.withColumn('newCol', lit(col(\"salary\")/12))\n",
    "df.show(truncate=False)\n",
    "df.printSchema()"
   ]
  },
  {
   "cell_type": "code",
   "execution_count": 18,
   "id": "7627f653-010a-475a-a6f0-b87d0a1797f8",
   "metadata": {},
   "outputs": [],
   "source": [
    "from pyspark.sql.types import *"
   ]
  },
  {
   "cell_type": "code",
   "execution_count": 31,
   "id": "86bfda57-622c-46f7-88c8-358fcc1a7a63",
   "metadata": {},
   "outputs": [
    {
     "name": "stdout",
     "output_type": "stream",
     "text": [
      "+-----+---+------+--------------+\n",
      "| name|age|salary|         props|\n",
      "+-----+---+------+--------------+\n",
      "|Rohit| 27|  2000|{black, black}|\n",
      "| Ajay| 23|  3000|{brown, black}|\n",
      "+-----+---+------+--------------+\n",
      "\n",
      "root\n",
      " |-- name: string (nullable = true)\n",
      " |-- age: integer (nullable = true)\n",
      " |-- salary: integer (nullable = true)\n",
      " |-- props: struct (nullable = true)\n",
      " |    |-- hair: string (nullable = true)\n",
      " |    |-- eye: string (nullable = true)\n",
      "\n"
     ]
    }
   ],
   "source": [
    "data = [\n",
    "    ('Rohit', 27, 2000, ('black', 'black')),\n",
    "    ('Ajay', 23, 3000, ('brown', 'black'))\n",
    "]\n",
    "\n",
    "propType = StructType(\n",
    "    [\n",
    "        StructField('hair', StringType()),\n",
    "        StructField('eye', StringType()),\n",
    "    ]\n",
    ")\n",
    "\n",
    "schema = StructType(\n",
    "    [\n",
    "        StructField('name', StringType()),\n",
    "        StructField('age', IntegerType()),\n",
    "        StructField('salary', IntegerType()),\n",
    "        StructField('props', propType)\n",
    "    ]\n",
    ")\n",
    "\n",
    "df = spark.createDataFrame(data, schema)\n",
    "df.show()\n",
    "df.printSchema()"
   ]
  },
  {
   "cell_type": "code",
   "execution_count": 33,
   "id": "d9f3d1e6-9da2-4664-8052-5dc81ce0968a",
   "metadata": {},
   "outputs": [
    {
     "name": "stdout",
     "output_type": "stream",
     "text": [
      "+---------+\n",
      "|props.eye|\n",
      "+---------+\n",
      "|    black|\n",
      "|    black|\n",
      "+---------+\n",
      "\n"
     ]
    }
   ],
   "source": [
    "df.select(df.props.eye).show()"
   ]
  },
  {
   "cell_type": "code",
   "execution_count": 34,
   "id": "d78200ff-a199-4356-beba-58bd429cfaa7",
   "metadata": {},
   "outputs": [
    {
     "name": "stdout",
     "output_type": "stream",
     "text": [
      "+-----+\n",
      "|  eye|\n",
      "+-----+\n",
      "|black|\n",
      "|black|\n",
      "+-----+\n",
      "\n"
     ]
    }
   ],
   "source": [
    "df.select(df['props.eye']).show()"
   ]
  },
  {
   "cell_type": "code",
   "execution_count": 39,
   "id": "c4f32803-142c-4632-8d1c-d50a8d616629",
   "metadata": {},
   "outputs": [
    {
     "name": "stdout",
     "output_type": "stream",
     "text": [
      "+-----+\n",
      "|  eye|\n",
      "+-----+\n",
      "|black|\n",
      "|black|\n",
      "+-----+\n",
      "\n"
     ]
    }
   ],
   "source": [
    "df.select(col('props.eye')).show()"
   ]
  },
  {
   "cell_type": "code",
   "execution_count": 40,
   "id": "b5a915cd-7f1f-46fd-94a5-6c0f37dc664d",
   "metadata": {},
   "outputs": [],
   "source": [
    "spark.stop()"
   ]
  },
  {
   "cell_type": "code",
   "execution_count": null,
   "id": "f6b6ebe1-d183-4ab6-8d80-b5cd1abec47d",
   "metadata": {},
   "outputs": [],
   "source": []
  }
 ],
 "metadata": {
  "kernelspec": {
   "display_name": "Python 3 (ipykernel)",
   "language": "python",
   "name": "python3"
  },
  "language_info": {
   "codemirror_mode": {
    "name": "ipython",
    "version": 3
   },
   "file_extension": ".py",
   "mimetype": "text/x-python",
   "name": "python",
   "nbconvert_exporter": "python",
   "pygments_lexer": "ipython3",
   "version": "3.10.12"
  }
 },
 "nbformat": 4,
 "nbformat_minor": 5
}
