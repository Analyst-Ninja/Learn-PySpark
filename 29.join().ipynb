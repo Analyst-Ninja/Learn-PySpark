{
 "cells": [
  {
   "cell_type": "code",
   "execution_count": 22,
   "id": "9a506d43-8192-492b-a871-3d971254433c",
   "metadata": {},
   "outputs": [],
   "source": [
    "from pyspark.sql import SparkSession \n",
    "from pyspark.sql.functions import col, lit, when, \\\n",
    "desc, asc, cast, like, count, min, max, median, percentile\n",
    "from pyspark.sql.types import *\n",
    "\n",
    "spark = SparkSession.Builder().appName('join()')\\\n",
    ".config(\"spark.sql.crossJoin.enabled\",True).getOrCreate()"
   ]
  },
  {
   "cell_type": "code",
   "execution_count": 12,
   "id": "09219e76-b227-4f02-b3a6-428d8ec5f339",
   "metadata": {},
   "outputs": [
    {
     "name": "stdout",
     "output_type": "stream",
     "text": [
      "Employee DataFrame -->\n",
      "+-----+-------+------+-----+\n",
      "|empID|   Name|Salary|depID|\n",
      "+-----+-------+------+-----+\n",
      "|    1|  Rohit|  3000|    1|\n",
      "|    2|   Ajay|  2000|    1|\n",
      "|    3|  Hemma|  2000|    2|\n",
      "|    4|   Arti|  2000|    3|\n",
      "|    5|Kanchan|  2000|    4|\n",
      "+-----+-------+------+-----+\n",
      "\n",
      "Department DataFrame -->\n",
      "+---+---------+\n",
      "| ID|  depName|\n",
      "+---+---------+\n",
      "|  1|     Data|\n",
      "|  2|       HR|\n",
      "|  3|Marketing|\n",
      "+---+---------+\n",
      "\n"
     ]
    }
   ],
   "source": [
    "empData = [\n",
    "    (1,\"Rohit\", 3000, 1),\n",
    "    (2,\"Ajay\", 2000, 1),\n",
    "    (3,\"Hemma\", 2000, 2),\n",
    "    (4,\"Arti\", 2000, 3),\n",
    "    (5,\"Kanchan\", 2000, 4),\n",
    "]  \n",
    "\n",
    "empDataSchema = ['empID', 'Name', 'Salary', 'depID']\n",
    "\n",
    "depData = [\n",
    "    (1,\"Data\"),\n",
    "    (2,\"HR\"),\n",
    "    (3,\"Marketing\"),\n",
    "]\n",
    "\n",
    "depDataSchema = ['ID', 'depName']\n",
    "\n",
    "empDF = spark.createDataFrame(data = empData, schema=empDataSchema)\n",
    "depDF = spark.createDataFrame(data = depData, schema=depDataSchema)\n",
    "print('Employee DataFrame -->')\n",
    "empDF.show()\n",
    "print('Department DataFrame -->')\n",
    "depDF.show()"
   ]
  },
  {
   "cell_type": "code",
   "execution_count": 35,
   "id": "714084c7-5eb2-45a0-b6af-85045f898092",
   "metadata": {},
   "outputs": [
    {
     "name": "stdout",
     "output_type": "stream",
     "text": [
      "Result after Inner Join -->\n"
     ]
    },
    {
     "name": "stderr",
     "output_type": "stream",
     "text": [
      "                                                                                \r"
     ]
    },
    {
     "name": "stdout",
     "output_type": "stream",
     "text": [
      "+-----+-----+------+-----+---+---------+\n",
      "|empID| Name|Salary|depID| ID|  depName|\n",
      "+-----+-----+------+-----+---+---------+\n",
      "|    1|Rohit|  3000|    1|  1|     Data|\n",
      "|    2| Ajay|  2000|    1|  1|     Data|\n",
      "|    3|Hemma|  2000|    2|  2|       HR|\n",
      "|    4| Arti|  2000|    3|  3|Marketing|\n",
      "+-----+-----+------+-----+---+---------+\n",
      "\n",
      "Result after Left Outer Join -->\n"
     ]
    },
    {
     "name": "stderr",
     "output_type": "stream",
     "text": [
      "                                                                                \r"
     ]
    },
    {
     "name": "stdout",
     "output_type": "stream",
     "text": [
      "+-----+-------+------+-----+----+---------+\n",
      "|empID|   Name|Salary|depID|  ID|  depName|\n",
      "+-----+-------+------+-----+----+---------+\n",
      "|    1|  Rohit|  3000|    1|   1|     Data|\n",
      "|    2|   Ajay|  2000|    1|   1|     Data|\n",
      "|    3|  Hemma|  2000|    2|   2|       HR|\n",
      "|    4|   Arti|  2000|    3|   3|Marketing|\n",
      "|    5|Kanchan|  2000|    4|NULL|     NULL|\n",
      "+-----+-------+------+-----+----+---------+\n",
      "\n",
      "Result after Right Outer Join -->\n",
      "+-----+-----+------+-----+---+---------+\n",
      "|empID| Name|Salary|depID| ID|  depName|\n",
      "+-----+-----+------+-----+---+---------+\n",
      "|    2| Ajay|  2000|    1|  1|     Data|\n",
      "|    1|Rohit|  3000|    1|  1|     Data|\n",
      "|    3|Hemma|  2000|    2|  2|       HR|\n",
      "|    4| Arti|  2000|    3|  3|Marketing|\n",
      "+-----+-----+------+-----+---+---------+\n",
      "\n",
      "Result after Full Outer Join -->\n",
      "+-----+-------+------+-----+----+---------+\n",
      "|empID|   Name|Salary|depID|  ID|  depName|\n",
      "+-----+-------+------+-----+----+---------+\n",
      "|    1|  Rohit|  3000|    1|   1|     Data|\n",
      "|    2|   Ajay|  2000|    1|   1|     Data|\n",
      "|    3|  Hemma|  2000|    2|   2|       HR|\n",
      "|    4|   Arti|  2000|    3|   3|Marketing|\n",
      "|    5|Kanchan|  2000|    4|NULL|     NULL|\n",
      "+-----+-------+------+-----+----+---------+\n",
      "\n",
      "Result after Cross Join -->\n"
     ]
    },
    {
     "name": "stderr",
     "output_type": "stream",
     "text": [
      "                                                                                \r"
     ]
    },
    {
     "name": "stdout",
     "output_type": "stream",
     "text": [
      "+-----+-----+------+-----+---+---------+\n",
      "|empID| Name|Salary|depID| ID|  depName|\n",
      "+-----+-----+------+-----+---+---------+\n",
      "|    1|Rohit|  3000|    1|  1|     Data|\n",
      "|    2| Ajay|  2000|    1|  1|     Data|\n",
      "|    3|Hemma|  2000|    2|  2|       HR|\n",
      "|    4| Arti|  2000|    3|  3|Marketing|\n",
      "+-----+-----+------+-----+---+---------+\n",
      "\n",
      "Result after Left Semi Join -->\n"
     ]
    },
    {
     "name": "stderr",
     "output_type": "stream",
     "text": [
      "                                                                                \r"
     ]
    },
    {
     "name": "stdout",
     "output_type": "stream",
     "text": [
      "+-----+-----+------+-----+\n",
      "|empID| Name|Salary|depID|\n",
      "+-----+-----+------+-----+\n",
      "|    1|Rohit|  3000|    1|\n",
      "|    2| Ajay|  2000|    1|\n",
      "|    3|Hemma|  2000|    2|\n",
      "|    4| Arti|  2000|    3|\n",
      "+-----+-----+------+-----+\n",
      "\n",
      "Result after Semi Join -->\n",
      "+-----+-----+------+-----+\n",
      "|empID| Name|Salary|depID|\n",
      "+-----+-----+------+-----+\n",
      "|    1|Rohit|  3000|    1|\n",
      "|    2| Ajay|  2000|    1|\n",
      "|    3|Hemma|  2000|    2|\n",
      "|    4| Arti|  2000|    3|\n",
      "+-----+-----+------+-----+\n",
      "\n",
      "Result after Left Anti Join -->\n"
     ]
    },
    {
     "name": "stderr",
     "output_type": "stream",
     "text": [
      "                                                                                \r"
     ]
    },
    {
     "name": "stdout",
     "output_type": "stream",
     "text": [
      "+-----+-------+------+-----+\n",
      "|empID|   Name|Salary|depID|\n",
      "+-----+-------+------+-----+\n",
      "|    5|Kanchan|  2000|    4|\n",
      "+-----+-------+------+-----+\n",
      "\n",
      "Result after Anti Join -->\n",
      "+-----+-------+------+-----+\n",
      "|empID|   Name|Salary|depID|\n",
      "+-----+-------+------+-----+\n",
      "|    5|Kanchan|  2000|    4|\n",
      "+-----+-------+------+-----+\n",
      "\n"
     ]
    }
   ],
   "source": [
    "print('Result after Inner Join -->')\n",
    "empDF.join(depDF, empDF.depID == depDF.ID, 'inner').show()\n",
    "print('Result after Left Outer Join -->')\n",
    "empDF.join(depDF, empDF.depID == depDF.ID, 'left').show()\n",
    "print('Result after Right Outer Join -->')\n",
    "empDF.join(depDF, empDF.depID == depDF.ID, 'right').show()\n",
    "print('Result after Full Outer Join -->')\n",
    "empDF.join(depDF, empDF.depID == depDF.ID, 'full').show()\n",
    "print('Result after Cross Join -->')\n",
    "empDF.join(depDF, empDF.depID == depDF.ID, 'cross').show()\n",
    "print('Result after Left Semi Join -->')\n",
    "empDF.join(depDF, empDF.depID == depDF.ID, 'leftsemi').show()\n",
    "print('Result after Semi Join -->')\n",
    "empDF.join(depDF, empDF.depID == depDF.ID, 'semi').show()\n",
    "print('Result after Left Anti Join -->')\n",
    "empDF.join(depDF, empDF.depID == depDF.ID, 'leftanti').show()\n",
    "print('Result after Anti Join -->')\n",
    "empDF.join(depDF, empDF.depID == depDF.ID, 'anti').show()"
   ]
  },
  {
   "cell_type": "code",
   "execution_count": 25,
   "id": "b1021326-80aa-4f78-8cab-8e6af1665429",
   "metadata": {},
   "outputs": [
    {
     "name": "stderr",
     "output_type": "stream",
     "text": [
      "[Stage 279:==================================>                    (12 + 7) / 19]\r"
     ]
    },
    {
     "name": "stdout",
     "output_type": "stream",
     "text": [
      "+-----+-------+------+-----+---+---------+\n",
      "|empID|   Name|Salary|depID| ID|  depName|\n",
      "+-----+-------+------+-----+---+---------+\n",
      "|    1|  Rohit|  3000|    1|  1|     Data|\n",
      "|    1|  Rohit|  3000|    1|  2|       HR|\n",
      "|    1|  Rohit|  3000|    1|  3|Marketing|\n",
      "|    2|   Ajay|  2000|    1|  1|     Data|\n",
      "|    2|   Ajay|  2000|    1|  2|       HR|\n",
      "|    2|   Ajay|  2000|    1|  3|Marketing|\n",
      "|    3|  Hemma|  2000|    2|  1|     Data|\n",
      "|    3|  Hemma|  2000|    2|  2|       HR|\n",
      "|    3|  Hemma|  2000|    2|  3|Marketing|\n",
      "|    4|   Arti|  2000|    3|  1|     Data|\n",
      "|    4|   Arti|  2000|    3|  2|       HR|\n",
      "|    4|   Arti|  2000|    3|  3|Marketing|\n",
      "|    5|Kanchan|  2000|    4|  1|     Data|\n",
      "|    5|Kanchan|  2000|    4|  2|       HR|\n",
      "|    5|Kanchan|  2000|    4|  3|Marketing|\n",
      "+-----+-------+------+-----+---+---------+\n",
      "\n"
     ]
    },
    {
     "name": "stderr",
     "output_type": "stream",
     "text": [
      "                                                                                \r"
     ]
    }
   ],
   "source": [
    "empDF.crossJoin(depDF).show()"
   ]
  },
  {
   "cell_type": "markdown",
   "id": "3e3df37f-6cb3-4d26-b701-b13a84ecfc2c",
   "metadata": {},
   "source": [
    "#### Self Join"
   ]
  },
  {
   "cell_type": "code",
   "execution_count": 36,
   "id": "aa0c7f17-f636-40d8-9c3a-97dbbf80c080",
   "metadata": {},
   "outputs": [
    {
     "name": "stdout",
     "output_type": "stream",
     "text": [
      "+-----+-------+---------+\n",
      "|empID|empName|managerID|\n",
      "+-----+-------+---------+\n",
      "|    1|  Rohit|        0|\n",
      "|    2|   Ajay|        1|\n",
      "|    3|   Hema|        2|\n",
      "+-----+-------+---------+\n",
      "\n"
     ]
    }
   ],
   "source": [
    "data = [\n",
    "    (1,'Rohit', 0),\n",
    "    (2,'Ajay', 1),\n",
    "    (3,'Hema', 2),\n",
    "]\n",
    "\n",
    "schema = ['empID', 'empName', 'managerID']\n",
    "\n",
    "df = spark.createDataFrame(data, schema)\n",
    "df.show()"
   ]
  },
  {
   "cell_type": "code",
   "execution_count": 55,
   "id": "d468b8b8-a81e-4672-b8bf-9153b3492085",
   "metadata": {},
   "outputs": [
    {
     "name": "stdout",
     "output_type": "stream",
     "text": [
      "+-----+-------+---------+-----------+\n",
      "|empID|empName|managerID|managerName|\n",
      "+-----+-------+---------+-----------+\n",
      "|    1|  Rohit|        0|       NULL|\n",
      "|    2|   Ajay|        1|      Rohit|\n",
      "|    3|   Hema|        2|       Ajay|\n",
      "+-----+-------+---------+-----------+\n",
      "\n"
     ]
    }
   ],
   "source": [
    "df.alias('empDF').join(df.alias('managerDF'), \\\n",
    "                       col('empDF.managerID') == col('managerDF.empID'),\\\n",
    "                       'left')\\\n",
    ".select(\n",
    "    col('empDF.empID').alias('empID'),\n",
    "    col('empDF.empName').alias('empName'),\n",
    "    col('empDF.managerID').alias('managerID'),\n",
    "    col('managerDF.empName').alias('managerName'),\n",
    "       ).show()"
   ]
  },
  {
   "cell_type": "code",
   "execution_count": 56,
   "id": "695bae8d-ed45-40a9-9482-054866887627",
   "metadata": {},
   "outputs": [],
   "source": [
    "spark.stop()"
   ]
  },
  {
   "cell_type": "code",
   "execution_count": null,
   "id": "6af1f6b9-3ffb-4133-a2f2-4f06269662c7",
   "metadata": {},
   "outputs": [],
   "source": []
  }
 ],
 "metadata": {
  "kernelspec": {
   "display_name": "Python 3 (ipykernel)",
   "language": "python",
   "name": "python3"
  },
  "language_info": {
   "codemirror_mode": {
    "name": "ipython",
    "version": 3
   },
   "file_extension": ".py",
   "mimetype": "text/x-python",
   "name": "python",
   "nbconvert_exporter": "python",
   "pygments_lexer": "ipython3",
   "version": "3.10.12"
  }
 },
 "nbformat": 4,
 "nbformat_minor": 5
}
