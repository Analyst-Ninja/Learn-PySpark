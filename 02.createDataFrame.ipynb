{
 "cells": [
  {
   "cell_type": "code",
   "execution_count": 2,
   "id": "ac29ec52-708e-4ef0-92d3-9eef2aad364f",
   "metadata": {},
   "outputs": [
    {
     "name": "stdout",
     "output_type": "stream",
     "text": [
      "Requirement already satisfied: pandas in /home/de-ninja/airflow-venv/lib/python3.10/site-packages (2.2.2)\n",
      "Requirement already satisfied: pytz>=2020.1 in /home/de-ninja/airflow-venv/lib/python3.10/site-packages (from pandas) (2024.1)\n",
      "Requirement already satisfied: numpy>=1.22.4 in /home/de-ninja/airflow-venv/lib/python3.10/site-packages (from pandas) (2.1.0)\n",
      "Requirement already satisfied: tzdata>=2022.7 in /home/de-ninja/airflow-venv/lib/python3.10/site-packages (from pandas) (2024.1)\n",
      "Requirement already satisfied: python-dateutil>=2.8.2 in /home/de-ninja/airflow-venv/lib/python3.10/site-packages (from pandas) (2.9.0.post0)\n",
      "Requirement already satisfied: six>=1.5 in /home/de-ninja/airflow-venv/lib/python3.10/site-packages (from python-dateutil>=2.8.2->pandas) (1.16.0)\n"
     ]
    }
   ],
   "source": [
    "!pip install pandas"
   ]
  },
  {
   "cell_type": "code",
   "execution_count": 1,
   "id": "a1d5bc89-0a9d-4063-bca0-a2bf9c2b6b37",
   "metadata": {},
   "outputs": [],
   "source": [
    "from pyspark.sql import SparkSession\n",
    "import pandas as pd"
   ]
  },
  {
   "cell_type": "code",
   "execution_count": 2,
   "id": "9311b973-b022-4745-bfa6-3a75607f8ce0",
   "metadata": {},
   "outputs": [
    {
     "name": "stderr",
     "output_type": "stream",
     "text": [
      "24/09/07 18:22:02 WARN Utils: Your hostname, codebase resolves to a loopback address: 127.0.1.1; using 10.255.255.254 instead (on interface lo)\n",
      "24/09/07 18:22:02 WARN Utils: Set SPARK_LOCAL_IP if you need to bind to another address\n",
      "Setting default log level to \"WARN\".\n",
      "To adjust logging level use sc.setLogLevel(newLevel). For SparkR, use setLogLevel(newLevel).\n",
      "24/09/07 18:22:03 WARN NativeCodeLoader: Unable to load native-hadoop library for your platform... using builtin-java classes where applicable\n",
      "24/09/07 18:22:05 WARN Utils: Service 'SparkUI' could not bind on port 4040. Attempting port 4041.\n"
     ]
    }
   ],
   "source": [
    "spark = SparkSession.Builder().appName(\"createDataFrame\").getOrCreate()"
   ]
  },
  {
   "cell_type": "code",
   "execution_count": 3,
   "id": "7bc93787-9dad-4e09-ad14-8df4792a8f8f",
   "metadata": {},
   "outputs": [],
   "source": [
    "import numpy as np"
   ]
  },
  {
   "cell_type": "markdown",
   "id": "7a22bf69-dd9a-490d-849b-afac6b3ee90a",
   "metadata": {},
   "source": [
    "#### Schema or DataType are Enforced here"
   ]
  },
  {
   "cell_type": "code",
   "execution_count": 4,
   "id": "4b46295f-c112-429c-a8f9-5f75c1f86bd1",
   "metadata": {
    "scrolled": true
   },
   "outputs": [
    {
     "name": "stdout",
     "output_type": "stream",
     "text": [
      "Overwriting filec.txt\n"
     ]
    }
   ],
   "source": [
    "%%writefile filec.txt\n",
    "from pyspark.sql.types import *\n",
    "\n",
    "schema = StructType([\n",
    "    StructField(name = 'id',dataType=IntegerType()), \n",
    "    StructField(name='name',dataType=StringType())\n",
    "])\n",
    "\n",
    "data = [(1,\"Rohit\"),(2,\"Ajay\")]\n",
    "\n",
    "df = spark.createDataFrame(data = data, schema=schema)\n",
    "df.show()\n",
    "df.printSchema()"
   ]
  },
  {
   "cell_type": "markdown",
   "id": "8c12f87b-586c-4fd9-af2d-843152fca0c1",
   "metadata": {},
   "source": [
    "#### Schema or DataTypes are not Enforced"
   ]
  },
  {
   "cell_type": "code",
   "execution_count": 5,
   "id": "c2922b00-b145-4755-b91e-3c2883d7b570",
   "metadata": {},
   "outputs": [
    {
     "name": "stderr",
     "output_type": "stream",
     "text": [
      "                                                                                \r"
     ]
    },
    {
     "name": "stdout",
     "output_type": "stream",
     "text": [
      "+---+-----+\n",
      "| id| name|\n",
      "+---+-----+\n",
      "|  1|Rohit|\n",
      "|  2| Ajay|\n",
      "+---+-----+\n",
      "\n"
     ]
    }
   ],
   "source": [
    "data = [(1, 'Rohit'), (2, 'Ajay')]\n",
    "schema = ['id', 'name']\n",
    "\n",
    "spark.createDataFrame(data, schema).show()"
   ]
  },
  {
   "cell_type": "markdown",
   "id": "75564392-ad39-4a21-b50d-e1d7f123c196",
   "metadata": {},
   "source": [
    "#### Schema or DataTypes are not Enforced"
   ]
  },
  {
   "cell_type": "code",
   "execution_count": 6,
   "id": "1a9430f0-703a-4d5b-bd10-767d5e0d649e",
   "metadata": {},
   "outputs": [
    {
     "name": "stdout",
     "output_type": "stream",
     "text": [
      "+---+-----------+\n",
      "| id|       name|\n",
      "+---+-----------+\n",
      "|  1|Rohit Kumar|\n",
      "|  2| Ajay Kumar|\n",
      "+---+-----------+\n",
      "\n",
      "root\n",
      " |-- id: long (nullable = true)\n",
      " |-- name: string (nullable = true)\n",
      "\n"
     ]
    }
   ],
   "source": [
    "data = [\n",
    "    {\n",
    "        'id' : 1,\n",
    "        'name' : 'Rohit Kumar'\n",
    "    },\n",
    "    {\n",
    "        'id' : 2,\n",
    "        'name' : 'Ajay Kumar'\n",
    "    }\n",
    "]\n",
    "\n",
    "df = spark.createDataFrame(data)\n",
    "df.show()\n",
    "df.printSchema()"
   ]
  },
  {
   "cell_type": "code",
   "execution_count": null,
   "id": "045fdb49-8f1c-4a42-8369-558fc6f0d240",
   "metadata": {},
   "outputs": [],
   "source": []
  },
  {
   "cell_type": "code",
   "execution_count": 10,
   "id": "01dac30f-3715-4acc-96dd-feb4118a51a7",
   "metadata": {},
   "outputs": [
    {
     "data": {
      "text/plain": [
       "{'id': 1, 'name': 'Rohit Kumar'}"
      ]
     },
     "execution_count": 10,
     "metadata": {},
     "output_type": "execute_result"
    }
   ],
   "source": [
    "df.toPandas().to_dict('records')[0]"
   ]
  },
  {
   "cell_type": "code",
   "execution_count": 55,
   "id": "3915e6a6-f05c-4c3e-826a-0ae2e662bc75",
   "metadata": {},
   "outputs": [],
   "source": [
    "spark.stop()"
   ]
  },
  {
   "cell_type": "code",
   "execution_count": null,
   "id": "b690efd1-ecb9-413b-a303-73543256b96f",
   "metadata": {},
   "outputs": [],
   "source": []
  }
 ],
 "metadata": {
  "kernelspec": {
   "display_name": "Python 3 (ipykernel)",
   "language": "python",
   "name": "python3"
  },
  "language_info": {
   "codemirror_mode": {
    "name": "ipython",
    "version": 3
   },
   "file_extension": ".py",
   "mimetype": "text/x-python",
   "name": "python",
   "nbconvert_exporter": "python",
   "pygments_lexer": "ipython3",
   "version": "3.10.12"
  }
 },
 "nbformat": 4,
 "nbformat_minor": 5
}
