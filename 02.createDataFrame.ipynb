{
 "cells": [
  {
   "cell_type": "code",
   "execution_count": 12,
   "id": "a1d5bc89-0a9d-4063-bca0-a2bf9c2b6b37",
   "metadata": {},
   "outputs": [],
   "source": [
    "from pyspark.sql import SparkSession"
   ]
  },
  {
   "cell_type": "code",
   "execution_count": 13,
   "id": "9311b973-b022-4745-bfa6-3a75607f8ce0",
   "metadata": {},
   "outputs": [],
   "source": [
    "spark = SparkSession.Builder().appName(\"createDataFrame\").getOrCreate()"
   ]
  },
  {
   "cell_type": "code",
   "execution_count": 15,
   "id": "7bc93787-9dad-4e09-ad14-8df4792a8f8f",
   "metadata": {},
   "outputs": [],
   "source": [
    "import numpy as np"
   ]
  },
  {
   "cell_type": "markdown",
   "id": "7a22bf69-dd9a-490d-849b-afac6b3ee90a",
   "metadata": {},
   "source": [
    "#### Schema or DataType are Enforced here"
   ]
  },
  {
   "cell_type": "code",
   "execution_count": 29,
   "id": "4b46295f-c112-429c-a8f9-5f75c1f86bd1",
   "metadata": {
    "scrolled": true
   },
   "outputs": [
    {
     "name": "stdout",
     "output_type": "stream",
     "text": [
      "Overwriting filec.txt\n"
     ]
    }
   ],
   "source": [
    "%%writefile filec.txt\n",
    "from pyspark.sql.types import *\n",
    "\n",
    "schema = StructType([\n",
    "    StructField(name = 'id',dataType=IntegerType()), \n",
    "    StructField(name='name',dataType=StringType())\n",
    "])\n",
    "\n",
    "data = [(1,\"Rohit\"),(2,\"Ajay\")]\n",
    "\n",
    "df = spark.createDataFrame(data = data, schema=schema)\n",
    "df.show()\n",
    "df.printSchema()"
   ]
  },
  {
   "cell_type": "markdown",
   "id": "8c12f87b-586c-4fd9-af2d-843152fca0c1",
   "metadata": {},
   "source": [
    "#### Schema or DataTypes are not Enforced"
   ]
  },
  {
   "cell_type": "code",
   "execution_count": 18,
   "id": "c2922b00-b145-4755-b91e-3c2883d7b570",
   "metadata": {},
   "outputs": [
    {
     "name": "stdout",
     "output_type": "stream",
     "text": [
      "+---+-----+\n",
      "| id| name|\n",
      "+---+-----+\n",
      "|  1|Rohit|\n",
      "|  2| Ajay|\n",
      "+---+-----+\n",
      "\n"
     ]
    }
   ],
   "source": [
    "data = [(1, 'Rohit'), (2, 'Ajay')]\n",
    "schema = ['id', 'name']\n",
    "\n",
    "spark.createDataFrame(data, schema).show()"
   ]
  },
  {
   "cell_type": "markdown",
   "id": "75564392-ad39-4a21-b50d-e1d7f123c196",
   "metadata": {},
   "source": [
    "#### Schema or DataTypes are not Enforced"
   ]
  },
  {
   "cell_type": "code",
   "execution_count": 52,
   "id": "1a9430f0-703a-4d5b-bd10-767d5e0d649e",
   "metadata": {},
   "outputs": [
    {
     "name": "stdout",
     "output_type": "stream",
     "text": [
      "+---+-----------+\n",
      "| id|       name|\n",
      "+---+-----------+\n",
      "|  1|Rohit Kumar|\n",
      "|  2| Ajay Kumar|\n",
      "+---+-----------+\n",
      "\n",
      "root\n",
      " |-- id: long (nullable = true)\n",
      " |-- name: string (nullable = true)\n",
      "\n"
     ]
    }
   ],
   "source": [
    "data = [\n",
    "    {\n",
    "        'id' : 1,\n",
    "        'name' : 'Rohit Kumar'\n",
    "    },\n",
    "    {\n",
    "        'id' : 2,\n",
    "        'name' : 'Ajay Kumar'\n",
    "    }\n",
    "]\n",
    "\n",
    "df = spark.createDataFrame(data)\n",
    "df.show()\n",
    "df.printSchema()"
   ]
  },
  {
   "cell_type": "code",
   "execution_count": 55,
   "id": "3915e6a6-f05c-4c3e-826a-0ae2e662bc75",
   "metadata": {},
   "outputs": [],
   "source": [
    "spark.stop()"
   ]
  },
  {
   "cell_type": "code",
   "execution_count": null,
   "id": "b690efd1-ecb9-413b-a303-73543256b96f",
   "metadata": {},
   "outputs": [],
   "source": []
  }
 ],
 "metadata": {
  "kernelspec": {
   "display_name": "Python 3 (ipykernel)",
   "language": "python",
   "name": "python3"
  },
  "language_info": {
   "codemirror_mode": {
    "name": "ipython",
    "version": 3
   },
   "file_extension": ".py",
   "mimetype": "text/x-python",
   "name": "python",
   "nbconvert_exporter": "python",
   "pygments_lexer": "ipython3",
   "version": "3.10.12"
  }
 },
 "nbformat": 4,
 "nbformat_minor": 5
}
