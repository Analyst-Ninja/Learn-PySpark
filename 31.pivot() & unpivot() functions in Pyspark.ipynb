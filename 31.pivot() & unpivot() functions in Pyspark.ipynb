{
 "cells": [
  {
   "cell_type": "code",
   "execution_count": 23,
   "id": "a0da1cee-fe3f-42b0-9e73-eb5e3a1a57ff",
   "metadata": {},
   "outputs": [
    {
     "name": "stderr",
     "output_type": "stream",
     "text": [
      "24/06/17 13:57:05 WARN SparkSession: Using an existing Spark session; only runtime SQL configurations will take effect.\n"
     ]
    }
   ],
   "source": [
    "from pyspark.sql import SparkSession \n",
    "from pyspark.sql.functions import col, lit, when, \\\n",
    "desc, asc, cast, like, count, min, max, median, percentile\n",
    "from pyspark.sql.types import *\n",
    "\n",
    "spark = SparkSession.Builder().appName('pivot() & unpivot() functions in Pyspark')\\\n",
    ".config(\"spark.sql.crossJoin.enabled\",True)\\\n",
    ".getOrCreate()"
   ]
  },
  {
   "cell_type": "code",
   "execution_count": 31,
   "id": "44315227-1087-4fe3-9441-2c9a9546597b",
   "metadata": {},
   "outputs": [
    {
     "name": "stdout",
     "output_type": "stream",
     "text": [
      "+-----+---------+------+------+---------+\n",
      "|empID|     Name|Gender|Salary|     dept|\n",
      "+-----+---------+------+------+---------+\n",
      "|    1|    Rohit|     M|  3000|     Data|\n",
      "|    2|     Ajay|     M|  2000|     Data|\n",
      "|    6|Deepshika|     F|  2000|     Data|\n",
      "|    3|    Hemma|     F|  2000|       HR|\n",
      "|    4|     Arti|     F|  2000|Marketing|\n",
      "|    5|  Kanchan|     F|  2000|Marketing|\n",
      "+-----+---------+------+------+---------+\n",
      "\n"
     ]
    }
   ],
   "source": [
    "empData = [\n",
    "    (1,\"Rohit\",'M', 3000, \"Data\"),\n",
    "    (2,\"Ajay\", 'M',2000, \"Data\"),\n",
    "    (6,\"Deepshika\", 'F',2000, \"Data\"),\n",
    "    (3,\"Hemma\", 'F',2000, \"HR\"),\n",
    "    (4,\"Arti\", 'F',2000, \"Marketing\"),\n",
    "    (5,\"Kanchan\", 'F',2000, \"Marketing\"),\n",
    "]  \n",
    "\n",
    "empDataSchema = ['empID', 'Name', 'Gender','Salary', 'dept']\n",
    "\n",
    "df = spark.createDataFrame(empData, empDataSchema)\n",
    "df.show()"
   ]
  },
  {
   "cell_type": "code",
   "execution_count": 32,
   "id": "9b0e87a1-4747-4448-a5bb-5cd4a60a017c",
   "metadata": {},
   "outputs": [
    {
     "name": "stdout",
     "output_type": "stream",
     "text": [
      "+---------+------+-----+\n",
      "|     dept|gender|count|\n",
      "+---------+------+-----+\n",
      "|     Data|     M|    2|\n",
      "|     Data|     F|    1|\n",
      "|       HR|     F|    1|\n",
      "|Marketing|     F|    2|\n",
      "+---------+------+-----+\n",
      "\n"
     ]
    }
   ],
   "source": [
    "df.groupBy('dept', 'gender').count().show()"
   ]
  },
  {
   "cell_type": "markdown",
   "id": "dea48503-a38a-4ad0-b678-dbd1aa1b6302",
   "metadata": {},
   "source": [
    "#### pivot() function"
   ]
  },
  {
   "cell_type": "code",
   "execution_count": 33,
   "id": "444a35c8-cc07-46a1-966f-676aaa967e8d",
   "metadata": {},
   "outputs": [
    {
     "name": "stdout",
     "output_type": "stream",
     "text": [
      "+---------+----+---+\n",
      "|     dept|   M|  F|\n",
      "+---------+----+---+\n",
      "|     Data|   2|  1|\n",
      "|       HR|NULL|  1|\n",
      "|Marketing|NULL|  2|\n",
      "+---------+----+---+\n",
      "\n",
      "when we specify what we want as pivot columns --> It takes less time\n",
      "CPU times: user 9.13 ms, sys: 0 ns, total: 9.13 ms\n",
      "Wall time: 336 ms\n"
     ]
    }
   ],
   "source": [
    "%%time\n",
    "df.groupBy('dept').pivot('gender',['M', 'F']).count().show()\n",
    "print('when we specify what we want as pivot columns --> It takes less time')"
   ]
  },
  {
   "cell_type": "code",
   "execution_count": 34,
   "id": "ed8a5282-77c0-4cd5-acd1-04766f2cc4e3",
   "metadata": {},
   "outputs": [
    {
     "name": "stdout",
     "output_type": "stream",
     "text": [
      "+---------+---+----+\n",
      "|     dept|  F|   M|\n",
      "+---------+---+----+\n",
      "|     Data|  1|   2|\n",
      "|       HR|  1|NULL|\n",
      "|Marketing|  2|NULL|\n",
      "+---------+---+----+\n",
      "\n",
      "CPU times: user 4.25 ms, sys: 2.64 ms, total: 6.88 ms\n",
      "Wall time: 536 ms\n"
     ]
    }
   ],
   "source": [
    "%%time\n",
    "df.groupBy('dept').pivot('gender').count().show()"
   ]
  },
  {
   "cell_type": "markdown",
   "id": "21a20abe-ccf5-43de-b620-870147b2bdeb",
   "metadata": {},
   "source": [
    "#### Unpivot DataFrame using stack() expr in PySpark"
   ]
  },
  {
   "cell_type": "code",
   "execution_count": 35,
   "id": "8251c2a0-13dd-4d94-971c-94b7b556ef3d",
   "metadata": {},
   "outputs": [
    {
     "name": "stdout",
     "output_type": "stream",
     "text": [
      "+---------+----+---+\n",
      "|     dept|   M|  F|\n",
      "+---------+----+---+\n",
      "|     Data|   2|  1|\n",
      "|       HR|NULL|  1|\n",
      "|Marketing|NULL|  2|\n",
      "+---------+----+---+\n",
      "\n"
     ]
    }
   ],
   "source": [
    "pivotedDf = df.groupBy('dept').pivot('Gender', ['M','F']).count().alias('countOfEmp')\n",
    "pivotedDf.show()"
   ]
  },
  {
   "cell_type": "code",
   "execution_count": 36,
   "id": "d6109d41-783d-4cef-a94a-f598140fab81",
   "metadata": {},
   "outputs": [],
   "source": [
    "from pyspark.sql.functions import expr"
   ]
  },
  {
   "cell_type": "code",
   "execution_count": 42,
   "id": "343619d2-11dd-460d-b648-425141e302ba",
   "metadata": {},
   "outputs": [
    {
     "name": "stdout",
     "output_type": "stream",
     "text": [
      "+---------+------+-----+\n",
      "|     dept|gender|count|\n",
      "+---------+------+-----+\n",
      "|     Data|  Male|    2|\n",
      "|     Data|Female|    1|\n",
      "|       HR|Female|    1|\n",
      "|Marketing|Female|    2|\n",
      "+---------+------+-----+\n",
      "\n"
     ]
    }
   ],
   "source": [
    "unpivotedDF = pivotedDf.select('dept', expr(\"stack(2,'Male', M, 'Female', F) as \\\n",
    "(gender, count)\"))\n",
    "unpivotedDF.filter(col('count').isNotNull()).show()"
   ]
  },
  {
   "cell_type": "code",
   "execution_count": 44,
   "id": "8ed31a52-d38c-4385-9330-6f21a937435a",
   "metadata": {},
   "outputs": [],
   "source": [
    "spark.stop()"
   ]
  },
  {
   "cell_type": "code",
   "execution_count": null,
   "id": "686899c1-8bc1-4456-903a-1954db34206a",
   "metadata": {},
   "outputs": [],
   "source": []
  }
 ],
 "metadata": {
  "kernelspec": {
   "display_name": "Python 3 (ipykernel)",
   "language": "python",
   "name": "python3"
  },
  "language_info": {
   "codemirror_mode": {
    "name": "ipython",
    "version": 3
   },
   "file_extension": ".py",
   "mimetype": "text/x-python",
   "name": "python",
   "nbconvert_exporter": "python",
   "pygments_lexer": "ipython3",
   "version": "3.10.12"
  }
 },
 "nbformat": 4,
 "nbformat_minor": 5
}
